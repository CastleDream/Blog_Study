{
 "cells": [
  {
   "cell_type": "code",
   "execution_count": 1,
   "metadata": {},
   "outputs": [
    {
     "name": "stderr",
     "output_type": "stream",
     "text": [
      "Building prefix dict from the default dictionary ...\n",
      "Loading model from cache C:\\Users\\shanshan\\AppData\\Local\\Temp\\jieba.cache\n",
      "Loading model cost 1.047 seconds.\n",
      "Prefix dict has been built succesfully.\n"
     ]
    },
    {
     "name": "stdout",
     "output_type": "stream",
     "text": [
      "['惶', '恐惧', '内心', '害怕', '十分', '不安']\n",
      "['不冷', '发抖', '非常', '恐惧', '史记', '酷吏', '列传', '日', '皆', '报杀', '四百余', '其后', '郡', '中', '不寒而栗', '栗', '发抖']\n",
      "['危险', '事情', '过去', '回想起来', '心里', '有点', '后怕', '悸', '害怕', '心跳']\n",
      "['非常', '害怕']\n",
      "['碰到', '阴森', '凄惨', '景象', '极端', '害怕', '感觉']\n",
      "['惴', '忧愁', '恐惧', '害怕', '担心', '不安']\n",
      "['恐惧', '发抖', '小心谨慎', '诗经', '小雅', '小旻', '战战兢兢', '如临深渊', '如履薄冰', '战战', '恐惧', '发抖', '兢兢', '小心谨慎']\n",
      "['寒心', '心中', '战粟', '酸鼻', '鼻子', '辛酸', '心里', '害怕', '悲痛']\n",
      "['看见', '害怕']\n",
      "['古代', '奏章', '中', '套语', '表示', '臣子', '对', '皇帝', '敬畏', '用来', '十分', '小心谨慎', '极为', '害怕', '不安']\n"
     ]
    }
   ],
   "source": [
    "#-*-coding:utf8 -*-\n",
    "import jieba\n",
    "import pandas as pd\n",
    "import  numpy as np\n",
    "hanyu=pd.read_csv(r'E:\\Pycharm\\baidu_hanyu\\hanyu.csv',encoding='utf8')\n",
    "corpurs=hanyu.iloc[:,2]\n",
    "# 这里得到了所有情绪的解释\n",
    "wordrs=[]\n",
    "# 应该是读取这个停用词表的问题\n",
    "\n",
    "# 正确的将停用词表读取为列表形式，每个停用词作为一个字符串元素，而不是又作为一个列表元素\n",
    "stopwords=[]\n",
    "for line in open(r'E:\\Pycharm\\baidu_hanyu\\stopword.txt',encoding='utf8').readlines():\n",
    "    stopwords.append(line.strip('\\n'))\n",
    "\n",
    "#但是那个停用词表很奇怪，还不如我自己根据这个百度汉语自己写的语料库好使呢，但是起码现在知道问题在哪了\n",
    "\n",
    "stopwords=['，','。','（','）','《','》','！','：',':','·','、','；','¹','¦','～','1','“','”','\"','(',')','〔','〕',',','[a-z]','-','.','k',\n",
    "           'ū','t','í','‘','l','é','i','指','的','了','形容','还','又','虽','或','而','了','啊','j','ì','已','d', 'à', 'ng','ch', 'ō',\n",
    "           '‘','’','n','?','？','样子','也','就','比喻','在','得','都','后','人','因','地','是','时']\n",
    "for i in corpurs:\n",
    "    tokenize=jieba.lcut(i)\n",
    "    wordrs.append([w for w in tokenize if w not in stopwords])\n",
    "# 对所有情绪种类进行分词，在句子级别上，因为tokenize的每个元素是一个单词的解释句子，所以先对一句进行分词，再对一局进行去除停用词\n",
    "# 我自己定义的停用词好像只有标点符号，哈哈哈\n",
    "for i in wordrs[0:10]:\n",
    "# 看看长什么样，看看分词效果\n",
    "    print(i)"
   ]
  },
  {
   "cell_type": "code",
   "execution_count": 2,
   "metadata": {},
   "outputs": [],
   "source": [
    "from collections import Counter"
   ]
  },
  {
   "cell_type": "code",
   "execution_count": 3,
   "metadata": {},
   "outputs": [],
   "source": [
    "wordcount = Counter()\n",
    "for line in wordrs[0:103]:\n",
    "    wordcount.update(line)\n",
    "# 使用collections的Counter类进行计数\n",
    "# 这里只计数的前103行，也就是 害怕 这一情绪的 单词计数 \n",
    "\n",
    "# '害怕',100+3=103\n",
    "# '害羞',18\n",
    "# '忧愁',120+5=125\n",
    "# '哭泣',120+7=127\n",
    "# '心情不好',160+2=162\n",
    "# '悲伤',140+1=141\n",
    "# '紧张',140+13=153\n",
    "# '生气',120+1=121\n",
    "# '高兴'140+4=144"
   ]
  },
  {
   "cell_type": "code",
   "execution_count": 4,
   "metadata": {},
   "outputs": [],
   "source": [
    "zici_count=pd.Series(wordcount)\n",
    "#更棒的是，这个Counter对象因为其中值的形式就是（['惶',2，，，，]）这样的字典形式，所以可以直接转换为Series"
   ]
  },
  {
   "cell_type": "code",
   "execution_count": 5,
   "metadata": {},
   "outputs": [
    {
     "data": {
      "text/plain": [
       "[('害怕', 50),\n",
       " ('恐惧', 33),\n",
       " ('非常', 14),\n",
       " ('十分', 11),\n",
       " ('发抖', 10),\n",
       " ('不敢', 8),\n",
       " ('不安', 7),\n",
       " ('极端', 7),\n",
       " ('惊慌', 7),\n",
       " ('紧张', 7),\n",
       " ('心情', 6),\n",
       " ('极为', 5),\n",
       " ('惊恐万分', 5),\n",
       " ('脸色', 5),\n",
       " ('感到', 5),\n",
       " ('心神不定', 5),\n",
       " ('以为', 5),\n",
       " ('一样', 5),\n",
       " ('碰到', 4),\n",
       " ('小心谨慎', 4)]"
      ]
     },
     "execution_count": 5,
     "metadata": {},
     "output_type": "execute_result"
    }
   ],
   "source": [
    "wordcount.most_common(20)\n",
    "# 同时，Counter本身也是支持top-N的。可以返回前多少频次的单词\n",
    "# texta=''\n",
    "# for i in texta:\n",
    "#     texta+=''.join(i[0])\n",
    "# print(texta)   "
   ]
  },
  {
   "cell_type": "code",
   "execution_count": 6,
   "metadata": {},
   "outputs": [],
   "source": [
    "from wordcloud import WordCloud, STOPWORDS,ImageColorGenerator"
   ]
  },
  {
   "cell_type": "code",
   "execution_count": 7,
   "metadata": {},
   "outputs": [],
   "source": [
    "import matplotlib.pyplot as plt\n",
    "import numpy as np\n",
    "from PIL import Image"
   ]
  },
  {
   "cell_type": "code",
   "execution_count": 8,
   "metadata": {},
   "outputs": [],
   "source": [
    "mask=np.array(Image.open(r'F:\\My_File\\post\\back.png'))"
   ]
  },
  {
   "cell_type": "code",
   "execution_count": 9,
   "metadata": {},
   "outputs": [],
   "source": [
    "# 设置词云属性\n",
    "back_coloring = plt.imread(r'F:\\My_File\\post\\back.png')# 设置背景图片\n",
    "wc = WordCloud(font_path='C:\\Windows\\Fonts\\simkai.ttf' ,  # 设置字体\n",
    "               background_color=\"white\",  # 背景颜色\n",
    "                max_words=20,  # 词云显示的最大词数\n",
    "                mask=back_coloring,  # 设置背景图片\n",
    "                max_font_size=100,  # 字体最大值\n",
    "                random_state=42,\n",
    "                width=1000, height=860, margin=2,# 设置图片默认的大小,但是如果使用背景图片的话,那么保存的图片大小将会按照其大小保存,margin为词语边缘距离\n",
    "               )"
   ]
  },
  {
   "cell_type": "code",
   "execution_count": 10,
   "metadata": {},
   "outputs": [
    {
     "name": "stderr",
     "output_type": "stream",
     "text": [
      "D:\\anaconda\\lib\\site-packages\\wordcloud\\wordcloud.py:370: UserWarning: mask image should be unsigned byte between 0 and 255. Got a float array\n",
      "  warnings.warn(\"mask image should be unsigned byte between 0\"\n"
     ]
    }
   ],
   "source": [
    "wordcloud = wc.fit_words(wordcount)"
   ]
  },
  {
   "cell_type": "code",
   "execution_count": 11,
   "metadata": {},
   "outputs": [
    {
     "data": {
      "text/plain": [
       "(-0.5, 359.5, 359.5, -0.5)"
      ]
     },
     "execution_count": 11,
     "metadata": {},
     "output_type": "execute_result"
    },
    {
     "data": {
      "image/png": "[encoded data removed]",
      "text/plain": [
       "<Figure size 432x288 with 1 Axes>"
      ]
     },
     "metadata": {},
     "output_type": "display_data"
    }
   ],
   "source": [
    "plt.imshow(wordcloud)\n",
    "plt.axis(\"off\")"
   ]
  },
  {
   "cell_type": "code",
   "execution_count": null,
   "metadata": {},
   "outputs": [],
   "source": []
  }
 ],
 "metadata": {
  "kernelspec": {
   "display_name": "Python 3",
   "language": "python",
   "name": "python3"
  },
  "language_info": {
   "codemirror_mode": {
    "name": "ipython",
    "version": 3
   },
   "file_extension": ".py",
   "mimetype": "text/x-python",
   "name": "python",
   "nbconvert_exporter": "python",
   "pygments_lexer": "ipython3",
   "version": "3.6.5"
  },
  "toc": {
   "base_numbering": 1,
   "nav_menu": {},
   "number_sections": true,
   "sideBar": true,
   "skip_h1_title": false,
   "title_cell": "Table of Contents",
   "title_sidebar": "Contents",
   "toc_cell": false,
   "toc_position": {},
   "toc_section_display": true,
   "toc_window_display": false
  }
 },
 "nbformat": 4,
 "nbformat_minor": 2
}
