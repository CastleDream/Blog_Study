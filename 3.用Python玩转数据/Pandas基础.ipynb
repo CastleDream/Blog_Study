{
 "cells": [
  {
   "cell_type": "code",
   "execution_count": 1,
   "metadata": {},
   "outputs": [],
   "source": [
    "import pandas as pd"
   ]
  },
  {
   "cell_type": "code",
   "execution_count": 2,
   "metadata": {},
   "outputs": [],
   "source": [
    "import numpy as np"
   ]
  },
  {
   "cell_type": "markdown",
   "metadata": {},
   "source": [
    "http://pandas.pydata.org/pandas-docs/stable/10min.html\n",
    "原版见 十分钟搞定pandas"
   ]
  },
  {
   "cell_type": "markdown",
   "metadata": {},
   "source": [
    "# DataFrame定义方式"
   ]
  },
  {
   "cell_type": "code",
   "execution_count": 3,
   "metadata": {},
   "outputs": [],
   "source": [
    "dates=pd.date_range(\"20170301\",periods=8)"
   ]
  },
  {
   "cell_type": "markdown",
   "metadata": {},
   "source": [
    "pandas.date_range(start=None, end=None, periods=None, freq=None, tz=None, normalize=False, name=None, closed=None, **kwargs)\n",
    "Return a fixed frequency DatetimeIndex.  返回一个固定频率的日期索引\n",
    "* start 日期类型或者类日期的字符 产生日期的左边界\n",
    "* stop ……，产生日期的右边界\n",
    "* periods 整数（可选）\n",
    "* periods：整数 产生多少天\n",
    "* freq : str or DateOffset, default ‘D’ (calendar daily) Frequency strings can have multiples, e.g. ‘5H’. See here for a list of frequency aliases. 表明 那个periods是在什么单位级别上产生几个日期 "
   ]
  },
  {
   "cell_type": "code",
   "execution_count": 4,
   "metadata": {},
   "outputs": [
    {
     "data": {
      "text/plain": [
       "DatetimeIndex(['2017-03-01', '2017-03-02', '2017-03-03', '2017-03-04',\n",
       "               '2017-03-05', '2017-03-06', '2017-03-07', '2017-03-08'],\n",
       "              dtype='datetime64[ns]', freq='D')"
      ]
     },
     "execution_count": 4,
     "metadata": {},
     "output_type": "execute_result"
    }
   ],
   "source": [
    "dates"
   ]
  },
  {
   "cell_type": "markdown",
   "metadata": {},
   "source": [
    "## 方式一"
   ]
  },
  {
   "cell_type": "code",
   "execution_count": 5,
   "metadata": {},
   "outputs": [],
   "source": [
    "df=pd.DataFrame(np.random.randn(8,5),index=dates,columns=list('ABCDE'))"
   ]
  },
  {
   "cell_type": "code",
   "execution_count": 6,
   "metadata": {},
   "outputs": [
    {
     "data": {
      "text/html": [
       "<div>\n",
       "<style scoped>\n",
       "    .dataframe tbody tr th:only-of-type {\n",
       "        vertical-align: middle;\n",
       "    }\n",
       "\n",
       "    .dataframe tbody tr th {\n",
       "        vertical-align: top;\n",
       "    }\n",
       "\n",
       "    .dataframe thead th {\n",
       "        text-align: right;\n",
       "    }\n",
       "</style>\n",
       "<table border=\"1\" class=\"dataframe\">\n",
       "  <thead>\n",
       "    <tr style=\"text-align: right;\">\n",
       "      <th></th>\n",
       "      <th>A</th>\n",
       "      <th>B</th>\n",
       "      <th>C</th>\n",
       "      <th>D</th>\n",
       "      <th>E</th>\n",
       "    </tr>\n",
       "  </thead>\n",
       "  <tbody>\n",
       "    <tr>\n",
       "      <th>2017-03-01</th>\n",
       "      <td>-0.170908</td>\n",
       "      <td>0.449614</td>\n",
       "      <td>0.811967</td>\n",
       "      <td>-0.380266</td>\n",
       "      <td>0.374029</td>\n",
       "    </tr>\n",
       "    <tr>\n",
       "      <th>2017-03-02</th>\n",
       "      <td>1.251653</td>\n",
       "      <td>0.251616</td>\n",
       "      <td>0.915403</td>\n",
       "      <td>2.559955</td>\n",
       "      <td>0.344982</td>\n",
       "    </tr>\n",
       "    <tr>\n",
       "      <th>2017-03-03</th>\n",
       "      <td>-1.298248</td>\n",
       "      <td>-0.610493</td>\n",
       "      <td>0.646538</td>\n",
       "      <td>1.488460</td>\n",
       "      <td>0.452529</td>\n",
       "    </tr>\n",
       "    <tr>\n",
       "      <th>2017-03-04</th>\n",
       "      <td>-0.781185</td>\n",
       "      <td>0.263107</td>\n",
       "      <td>0.643915</td>\n",
       "      <td>0.076195</td>\n",
       "      <td>-0.851108</td>\n",
       "    </tr>\n",
       "    <tr>\n",
       "      <th>2017-03-05</th>\n",
       "      <td>0.188525</td>\n",
       "      <td>0.295498</td>\n",
       "      <td>-1.491953</td>\n",
       "      <td>0.941106</td>\n",
       "      <td>0.183708</td>\n",
       "    </tr>\n",
       "    <tr>\n",
       "      <th>2017-03-06</th>\n",
       "      <td>-0.536118</td>\n",
       "      <td>0.867752</td>\n",
       "      <td>0.749676</td>\n",
       "      <td>0.519767</td>\n",
       "      <td>-0.900758</td>\n",
       "    </tr>\n",
       "    <tr>\n",
       "      <th>2017-03-07</th>\n",
       "      <td>0.740928</td>\n",
       "      <td>1.408468</td>\n",
       "      <td>-0.896803</td>\n",
       "      <td>1.553678</td>\n",
       "      <td>0.721082</td>\n",
       "    </tr>\n",
       "    <tr>\n",
       "      <th>2017-03-08</th>\n",
       "      <td>-2.558205</td>\n",
       "      <td>-0.345054</td>\n",
       "      <td>0.381374</td>\n",
       "      <td>-0.635037</td>\n",
       "      <td>1.195350</td>\n",
       "    </tr>\n",
       "  </tbody>\n",
       "</table>\n",
       "</div>"
      ],
      "text/plain": [
       "                   A         B         C         D         E\n",
       "2017-03-01 -0.170908  0.449614  0.811967 -0.380266  0.374029\n",
       "2017-03-02  1.251653  0.251616  0.915403  2.559955  0.344982\n",
       "2017-03-03 -1.298248 -0.610493  0.646538  1.488460  0.452529\n",
       "2017-03-04 -0.781185  0.263107  0.643915  0.076195 -0.851108\n",
       "2017-03-05  0.188525  0.295498 -1.491953  0.941106  0.183708\n",
       "2017-03-06 -0.536118  0.867752  0.749676  0.519767 -0.900758\n",
       "2017-03-07  0.740928  1.408468 -0.896803  1.553678  0.721082\n",
       "2017-03-08 -2.558205 -0.345054  0.381374 -0.635037  1.195350"
      ]
     },
     "execution_count": 6,
     "metadata": {},
     "output_type": "execute_result"
    }
   ],
   "source": [
    "df"
   ]
  },
  {
   "cell_type": "markdown",
   "metadata": {},
   "source": [
    "命令7中 第一个参数是df这个DataFrame的数据，第二个参数是索引（主键，想象一个excel表格，左边一列和第一行都是一些标题，这个index就是最左边的那列）\n",
    "第三个参数是特征名称，列名，list字符串，就是把字符串序列化，变成['A','B'……]同时还可以看到，jupter中的表格好看，写论文直接用这个表格好了，虽然Matplotlib用show显示不出来图，但是直接使用plot的图还是可以看的，加油，而且确实显示的比IDE的好看，下次试试ipython的，哪个好看用哪个"
   ]
  },
  {
   "cell_type": "code",
   "execution_count": 7,
   "metadata": {},
   "outputs": [],
   "source": [
    "df2=pd.DataFrame({\"A\":1,\"B\":pd.Timestamp(\"20170301\"),\"C\":pd.Series(1,index=list(range(4)),dtype=\"float32\"),\"D\":np.array([3]*4,dtype=\"float32\"),\"E\":pd.Categorical([\"police\",\"student\",\"teacher\",\"doctor\"])})"
   ]
  },
  {
   "cell_type": "code",
   "execution_count": 8,
   "metadata": {},
   "outputs": [
    {
     "data": {
      "text/html": [
       "<div>\n",
       "<style scoped>\n",
       "    .dataframe tbody tr th:only-of-type {\n",
       "        vertical-align: middle;\n",
       "    }\n",
       "\n",
       "    .dataframe tbody tr th {\n",
       "        vertical-align: top;\n",
       "    }\n",
       "\n",
       "    .dataframe thead th {\n",
       "        text-align: right;\n",
       "    }\n",
       "</style>\n",
       "<table border=\"1\" class=\"dataframe\">\n",
       "  <thead>\n",
       "    <tr style=\"text-align: right;\">\n",
       "      <th></th>\n",
       "      <th>A</th>\n",
       "      <th>B</th>\n",
       "      <th>C</th>\n",
       "      <th>D</th>\n",
       "      <th>E</th>\n",
       "    </tr>\n",
       "  </thead>\n",
       "  <tbody>\n",
       "    <tr>\n",
       "      <th>0</th>\n",
       "      <td>1</td>\n",
       "      <td>2017-03-01</td>\n",
       "      <td>1.0</td>\n",
       "      <td>3.0</td>\n",
       "      <td>police</td>\n",
       "    </tr>\n",
       "    <tr>\n",
       "      <th>1</th>\n",
       "      <td>1</td>\n",
       "      <td>2017-03-01</td>\n",
       "      <td>1.0</td>\n",
       "      <td>3.0</td>\n",
       "      <td>student</td>\n",
       "    </tr>\n",
       "    <tr>\n",
       "      <th>2</th>\n",
       "      <td>1</td>\n",
       "      <td>2017-03-01</td>\n",
       "      <td>1.0</td>\n",
       "      <td>3.0</td>\n",
       "      <td>teacher</td>\n",
       "    </tr>\n",
       "    <tr>\n",
       "      <th>3</th>\n",
       "      <td>1</td>\n",
       "      <td>2017-03-01</td>\n",
       "      <td>1.0</td>\n",
       "      <td>3.0</td>\n",
       "      <td>doctor</td>\n",
       "    </tr>\n",
       "  </tbody>\n",
       "</table>\n",
       "</div>"
      ],
      "text/plain": [
       "   A          B    C    D        E\n",
       "0  1 2017-03-01  1.0  3.0   police\n",
       "1  1 2017-03-01  1.0  3.0  student\n",
       "2  1 2017-03-01  1.0  3.0  teacher\n",
       "3  1 2017-03-01  1.0  3.0   doctor"
      ]
     },
     "execution_count": 8,
     "metadata": {},
     "output_type": "execute_result"
    }
   ],
   "source": [
    "df2"
   ]
  },
  {
   "cell_type": "markdown",
   "metadata": {},
   "source": [
    "# 基本操作"
   ]
  },
  {
   "cell_type": "code",
   "execution_count": 9,
   "metadata": {},
   "outputs": [
    {
     "data": {
      "text/html": [
       "<div>\n",
       "<style scoped>\n",
       "    .dataframe tbody tr th:only-of-type {\n",
       "        vertical-align: middle;\n",
       "    }\n",
       "\n",
       "    .dataframe tbody tr th {\n",
       "        vertical-align: top;\n",
       "    }\n",
       "\n",
       "    .dataframe thead th {\n",
       "        text-align: right;\n",
       "    }\n",
       "</style>\n",
       "<table border=\"1\" class=\"dataframe\">\n",
       "  <thead>\n",
       "    <tr style=\"text-align: right;\">\n",
       "      <th></th>\n",
       "      <th>A</th>\n",
       "      <th>B</th>\n",
       "      <th>C</th>\n",
       "      <th>D</th>\n",
       "      <th>E</th>\n",
       "    </tr>\n",
       "  </thead>\n",
       "  <tbody>\n",
       "    <tr>\n",
       "      <th>2017-03-01</th>\n",
       "      <td>-0.170908</td>\n",
       "      <td>0.449614</td>\n",
       "      <td>0.811967</td>\n",
       "      <td>-0.380266</td>\n",
       "      <td>0.374029</td>\n",
       "    </tr>\n",
       "    <tr>\n",
       "      <th>2017-03-02</th>\n",
       "      <td>1.251653</td>\n",
       "      <td>0.251616</td>\n",
       "      <td>0.915403</td>\n",
       "      <td>2.559955</td>\n",
       "      <td>0.344982</td>\n",
       "    </tr>\n",
       "    <tr>\n",
       "      <th>2017-03-03</th>\n",
       "      <td>-1.298248</td>\n",
       "      <td>-0.610493</td>\n",
       "      <td>0.646538</td>\n",
       "      <td>1.488460</td>\n",
       "      <td>0.452529</td>\n",
       "    </tr>\n",
       "  </tbody>\n",
       "</table>\n",
       "</div>"
      ],
      "text/plain": [
       "                   A         B         C         D         E\n",
       "2017-03-01 -0.170908  0.449614  0.811967 -0.380266  0.374029\n",
       "2017-03-02  1.251653  0.251616  0.915403  2.559955  0.344982\n",
       "2017-03-03 -1.298248 -0.610493  0.646538  1.488460  0.452529"
      ]
     },
     "execution_count": 9,
     "metadata": {},
     "output_type": "execute_result"
    }
   ],
   "source": [
    "df.head(3)"
   ]
  },
  {
   "cell_type": "markdown",
   "metadata": {},
   "source": [
    "打印出前几行"
   ]
  },
  {
   "cell_type": "code",
   "execution_count": 10,
   "metadata": {},
   "outputs": [
    {
     "data": {
      "text/html": [
       "<div>\n",
       "<style scoped>\n",
       "    .dataframe tbody tr th:only-of-type {\n",
       "        vertical-align: middle;\n",
       "    }\n",
       "\n",
       "    .dataframe tbody tr th {\n",
       "        vertical-align: top;\n",
       "    }\n",
       "\n",
       "    .dataframe thead th {\n",
       "        text-align: right;\n",
       "    }\n",
       "</style>\n",
       "<table border=\"1\" class=\"dataframe\">\n",
       "  <thead>\n",
       "    <tr style=\"text-align: right;\">\n",
       "      <th></th>\n",
       "      <th>A</th>\n",
       "      <th>B</th>\n",
       "      <th>C</th>\n",
       "      <th>D</th>\n",
       "      <th>E</th>\n",
       "    </tr>\n",
       "  </thead>\n",
       "  <tbody>\n",
       "    <tr>\n",
       "      <th>2017-03-06</th>\n",
       "      <td>-0.536118</td>\n",
       "      <td>0.867752</td>\n",
       "      <td>0.749676</td>\n",
       "      <td>0.519767</td>\n",
       "      <td>-0.900758</td>\n",
       "    </tr>\n",
       "    <tr>\n",
       "      <th>2017-03-07</th>\n",
       "      <td>0.740928</td>\n",
       "      <td>1.408468</td>\n",
       "      <td>-0.896803</td>\n",
       "      <td>1.553678</td>\n",
       "      <td>0.721082</td>\n",
       "    </tr>\n",
       "    <tr>\n",
       "      <th>2017-03-08</th>\n",
       "      <td>-2.558205</td>\n",
       "      <td>-0.345054</td>\n",
       "      <td>0.381374</td>\n",
       "      <td>-0.635037</td>\n",
       "      <td>1.195350</td>\n",
       "    </tr>\n",
       "  </tbody>\n",
       "</table>\n",
       "</div>"
      ],
      "text/plain": [
       "                   A         B         C         D         E\n",
       "2017-03-06 -0.536118  0.867752  0.749676  0.519767 -0.900758\n",
       "2017-03-07  0.740928  1.408468 -0.896803  1.553678  0.721082\n",
       "2017-03-08 -2.558205 -0.345054  0.381374 -0.635037  1.195350"
      ]
     },
     "execution_count": 10,
     "metadata": {},
     "output_type": "execute_result"
    }
   ],
   "source": [
    "df.tail(3)"
   ]
  },
  {
   "cell_type": "markdown",
   "metadata": {},
   "source": [
    "打印出倒数几行，倒序"
   ]
  },
  {
   "cell_type": "code",
   "execution_count": 11,
   "metadata": {},
   "outputs": [
    {
     "data": {
      "text/plain": [
       "DatetimeIndex(['2017-03-01', '2017-03-02', '2017-03-03', '2017-03-04',\n",
       "               '2017-03-05', '2017-03-06', '2017-03-07', '2017-03-08'],\n",
       "              dtype='datetime64[ns]', freq='D')"
      ]
     },
     "execution_count": 11,
     "metadata": {},
     "output_type": "execute_result"
    }
   ],
   "source": [
    "df.index"
   ]
  },
  {
   "cell_type": "markdown",
   "metadata": {},
   "source": [
    "直接打印出索引"
   ]
  },
  {
   "cell_type": "code",
   "execution_count": 12,
   "metadata": {},
   "outputs": [
    {
     "data": {
      "text/plain": [
       "array([[-0.1709084 ,  0.4496138 ,  0.81196736, -0.3802661 ,  0.37402868],\n",
       "       [ 1.25165322,  0.25161636,  0.91540333,  2.55995504,  0.34498155],\n",
       "       [-1.29824839, -0.61049315,  0.64653843,  1.48845979,  0.45252872],\n",
       "       [-0.78118513,  0.26310747,  0.64391519,  0.07619529, -0.8511079 ],\n",
       "       [ 0.18852463,  0.29549757, -1.4919531 ,  0.94110616,  0.18370825],\n",
       "       [-0.53611757,  0.86775171,  0.74967647,  0.51976723, -0.90075798],\n",
       "       [ 0.74092757,  1.40846806, -0.89680327,  1.55367815,  0.7210825 ],\n",
       "       [-2.55820543, -0.34505372,  0.38137419, -0.6350371 ,  1.1953503 ]])"
      ]
     },
     "execution_count": 12,
     "metadata": {},
     "output_type": "execute_result"
    }
   ],
   "source": [
    "df.values"
   ]
  },
  {
   "cell_type": "markdown",
   "metadata": {},
   "source": [
    "这里只有值 没有index或者column 所以少了一行 一列 只有数据部分的8×5"
   ]
  },
  {
   "cell_type": "code",
   "execution_count": 13,
   "metadata": {},
   "outputs": [
    {
     "data": {
      "text/html": [
       "<div>\n",
       "<style scoped>\n",
       "    .dataframe tbody tr th:only-of-type {\n",
       "        vertical-align: middle;\n",
       "    }\n",
       "\n",
       "    .dataframe tbody tr th {\n",
       "        vertical-align: top;\n",
       "    }\n",
       "\n",
       "    .dataframe thead th {\n",
       "        text-align: right;\n",
       "    }\n",
       "</style>\n",
       "<table border=\"1\" class=\"dataframe\">\n",
       "  <thead>\n",
       "    <tr style=\"text-align: right;\">\n",
       "      <th></th>\n",
       "      <th>2017-03-01 00:00:00</th>\n",
       "      <th>2017-03-02 00:00:00</th>\n",
       "      <th>2017-03-03 00:00:00</th>\n",
       "      <th>2017-03-04 00:00:00</th>\n",
       "      <th>2017-03-05 00:00:00</th>\n",
       "      <th>2017-03-06 00:00:00</th>\n",
       "      <th>2017-03-07 00:00:00</th>\n",
       "      <th>2017-03-08 00:00:00</th>\n",
       "    </tr>\n",
       "  </thead>\n",
       "  <tbody>\n",
       "    <tr>\n",
       "      <th>A</th>\n",
       "      <td>-0.170908</td>\n",
       "      <td>1.251653</td>\n",
       "      <td>-1.298248</td>\n",
       "      <td>-0.781185</td>\n",
       "      <td>0.188525</td>\n",
       "      <td>-0.536118</td>\n",
       "      <td>0.740928</td>\n",
       "      <td>-2.558205</td>\n",
       "    </tr>\n",
       "    <tr>\n",
       "      <th>B</th>\n",
       "      <td>0.449614</td>\n",
       "      <td>0.251616</td>\n",
       "      <td>-0.610493</td>\n",
       "      <td>0.263107</td>\n",
       "      <td>0.295498</td>\n",
       "      <td>0.867752</td>\n",
       "      <td>1.408468</td>\n",
       "      <td>-0.345054</td>\n",
       "    </tr>\n",
       "    <tr>\n",
       "      <th>C</th>\n",
       "      <td>0.811967</td>\n",
       "      <td>0.915403</td>\n",
       "      <td>0.646538</td>\n",
       "      <td>0.643915</td>\n",
       "      <td>-1.491953</td>\n",
       "      <td>0.749676</td>\n",
       "      <td>-0.896803</td>\n",
       "      <td>0.381374</td>\n",
       "    </tr>\n",
       "    <tr>\n",
       "      <th>D</th>\n",
       "      <td>-0.380266</td>\n",
       "      <td>2.559955</td>\n",
       "      <td>1.488460</td>\n",
       "      <td>0.076195</td>\n",
       "      <td>0.941106</td>\n",
       "      <td>0.519767</td>\n",
       "      <td>1.553678</td>\n",
       "      <td>-0.635037</td>\n",
       "    </tr>\n",
       "    <tr>\n",
       "      <th>E</th>\n",
       "      <td>0.374029</td>\n",
       "      <td>0.344982</td>\n",
       "      <td>0.452529</td>\n",
       "      <td>-0.851108</td>\n",
       "      <td>0.183708</td>\n",
       "      <td>-0.900758</td>\n",
       "      <td>0.721082</td>\n",
       "      <td>1.195350</td>\n",
       "    </tr>\n",
       "  </tbody>\n",
       "</table>\n",
       "</div>"
      ],
      "text/plain": [
       "   2017-03-01  2017-03-02  2017-03-03  2017-03-04  2017-03-05  2017-03-06  \\\n",
       "A   -0.170908    1.251653   -1.298248   -0.781185    0.188525   -0.536118   \n",
       "B    0.449614    0.251616   -0.610493    0.263107    0.295498    0.867752   \n",
       "C    0.811967    0.915403    0.646538    0.643915   -1.491953    0.749676   \n",
       "D   -0.380266    2.559955    1.488460    0.076195    0.941106    0.519767   \n",
       "E    0.374029    0.344982    0.452529   -0.851108    0.183708   -0.900758   \n",
       "\n",
       "   2017-03-07  2017-03-08  \n",
       "A    0.740928   -2.558205  \n",
       "B    1.408468   -0.345054  \n",
       "C   -0.896803    0.381374  \n",
       "D    1.553678   -0.635037  \n",
       "E    0.721082    1.195350  "
      ]
     },
     "execution_count": 13,
     "metadata": {},
     "output_type": "execute_result"
    }
   ],
   "source": [
    "df.T"
   ]
  },
  {
   "cell_type": "markdown",
   "metadata": {},
   "source": [
    "想想一下excel表格，转置就是把标题行和标题列交换，这里就是从8×5变成了5×8"
   ]
  },
  {
   "cell_type": "code",
   "execution_count": 14,
   "metadata": {},
   "outputs": [
    {
     "data": {
      "text/html": [
       "<div>\n",
       "<style scoped>\n",
       "    .dataframe tbody tr th:only-of-type {\n",
       "        vertical-align: middle;\n",
       "    }\n",
       "\n",
       "    .dataframe tbody tr th {\n",
       "        vertical-align: top;\n",
       "    }\n",
       "\n",
       "    .dataframe thead th {\n",
       "        text-align: right;\n",
       "    }\n",
       "</style>\n",
       "<table border=\"1\" class=\"dataframe\">\n",
       "  <thead>\n",
       "    <tr style=\"text-align: right;\">\n",
       "      <th></th>\n",
       "      <th>A</th>\n",
       "      <th>B</th>\n",
       "      <th>C</th>\n",
       "      <th>D</th>\n",
       "      <th>E</th>\n",
       "    </tr>\n",
       "  </thead>\n",
       "  <tbody>\n",
       "    <tr>\n",
       "      <th>2017-03-05</th>\n",
       "      <td>0.188525</td>\n",
       "      <td>0.295498</td>\n",
       "      <td>-1.491953</td>\n",
       "      <td>0.941106</td>\n",
       "      <td>0.183708</td>\n",
       "    </tr>\n",
       "    <tr>\n",
       "      <th>2017-03-07</th>\n",
       "      <td>0.740928</td>\n",
       "      <td>1.408468</td>\n",
       "      <td>-0.896803</td>\n",
       "      <td>1.553678</td>\n",
       "      <td>0.721082</td>\n",
       "    </tr>\n",
       "    <tr>\n",
       "      <th>2017-03-08</th>\n",
       "      <td>-2.558205</td>\n",
       "      <td>-0.345054</td>\n",
       "      <td>0.381374</td>\n",
       "      <td>-0.635037</td>\n",
       "      <td>1.195350</td>\n",
       "    </tr>\n",
       "    <tr>\n",
       "      <th>2017-03-04</th>\n",
       "      <td>-0.781185</td>\n",
       "      <td>0.263107</td>\n",
       "      <td>0.643915</td>\n",
       "      <td>0.076195</td>\n",
       "      <td>-0.851108</td>\n",
       "    </tr>\n",
       "    <tr>\n",
       "      <th>2017-03-03</th>\n",
       "      <td>-1.298248</td>\n",
       "      <td>-0.610493</td>\n",
       "      <td>0.646538</td>\n",
       "      <td>1.488460</td>\n",
       "      <td>0.452529</td>\n",
       "    </tr>\n",
       "    <tr>\n",
       "      <th>2017-03-06</th>\n",
       "      <td>-0.536118</td>\n",
       "      <td>0.867752</td>\n",
       "      <td>0.749676</td>\n",
       "      <td>0.519767</td>\n",
       "      <td>-0.900758</td>\n",
       "    </tr>\n",
       "    <tr>\n",
       "      <th>2017-03-01</th>\n",
       "      <td>-0.170908</td>\n",
       "      <td>0.449614</td>\n",
       "      <td>0.811967</td>\n",
       "      <td>-0.380266</td>\n",
       "      <td>0.374029</td>\n",
       "    </tr>\n",
       "    <tr>\n",
       "      <th>2017-03-02</th>\n",
       "      <td>1.251653</td>\n",
       "      <td>0.251616</td>\n",
       "      <td>0.915403</td>\n",
       "      <td>2.559955</td>\n",
       "      <td>0.344982</td>\n",
       "    </tr>\n",
       "  </tbody>\n",
       "</table>\n",
       "</div>"
      ],
      "text/plain": [
       "                   A         B         C         D         E\n",
       "2017-03-05  0.188525  0.295498 -1.491953  0.941106  0.183708\n",
       "2017-03-07  0.740928  1.408468 -0.896803  1.553678  0.721082\n",
       "2017-03-08 -2.558205 -0.345054  0.381374 -0.635037  1.195350\n",
       "2017-03-04 -0.781185  0.263107  0.643915  0.076195 -0.851108\n",
       "2017-03-03 -1.298248 -0.610493  0.646538  1.488460  0.452529\n",
       "2017-03-06 -0.536118  0.867752  0.749676  0.519767 -0.900758\n",
       "2017-03-01 -0.170908  0.449614  0.811967 -0.380266  0.374029\n",
       "2017-03-02  1.251653  0.251616  0.915403  2.559955  0.344982"
      ]
     },
     "execution_count": 14,
     "metadata": {},
     "output_type": "execute_result"
    }
   ],
   "source": [
    "df.sort_values(by=[\"C\"])"
   ]
  },
  {
   "cell_type": "markdown",
   "metadata": {},
   "source": [
    "pandas的0.23版本中已经没有df.sort(columns=\"C\") 这样的排序函数了\n",
    "取而代之的是 df.sort_values()和df.sort_index()函数 默认升序\n",
    "使用ascending false表示降序\n",
    "http://pandas.pydata.org/pandas-docs/stable/generated/pandas.DataFrame.sort_values.html"
   ]
  },
  {
   "cell_type": "code",
   "execution_count": 15,
   "metadata": {},
   "outputs": [
    {
     "data": {
      "text/html": [
       "<div>\n",
       "<style scoped>\n",
       "    .dataframe tbody tr th:only-of-type {\n",
       "        vertical-align: middle;\n",
       "    }\n",
       "\n",
       "    .dataframe tbody tr th {\n",
       "        vertical-align: top;\n",
       "    }\n",
       "\n",
       "    .dataframe thead th {\n",
       "        text-align: right;\n",
       "    }\n",
       "</style>\n",
       "<table border=\"1\" class=\"dataframe\">\n",
       "  <thead>\n",
       "    <tr style=\"text-align: right;\">\n",
       "      <th></th>\n",
       "      <th>A</th>\n",
       "      <th>B</th>\n",
       "      <th>C</th>\n",
       "      <th>D</th>\n",
       "      <th>E</th>\n",
       "    </tr>\n",
       "  </thead>\n",
       "  <tbody>\n",
       "    <tr>\n",
       "      <th>2017-03-02</th>\n",
       "      <td>1.251653</td>\n",
       "      <td>0.251616</td>\n",
       "      <td>0.915403</td>\n",
       "      <td>2.559955</td>\n",
       "      <td>0.344982</td>\n",
       "    </tr>\n",
       "    <tr>\n",
       "      <th>2017-03-01</th>\n",
       "      <td>-0.170908</td>\n",
       "      <td>0.449614</td>\n",
       "      <td>0.811967</td>\n",
       "      <td>-0.380266</td>\n",
       "      <td>0.374029</td>\n",
       "    </tr>\n",
       "    <tr>\n",
       "      <th>2017-03-06</th>\n",
       "      <td>-0.536118</td>\n",
       "      <td>0.867752</td>\n",
       "      <td>0.749676</td>\n",
       "      <td>0.519767</td>\n",
       "      <td>-0.900758</td>\n",
       "    </tr>\n",
       "    <tr>\n",
       "      <th>2017-03-03</th>\n",
       "      <td>-1.298248</td>\n",
       "      <td>-0.610493</td>\n",
       "      <td>0.646538</td>\n",
       "      <td>1.488460</td>\n",
       "      <td>0.452529</td>\n",
       "    </tr>\n",
       "    <tr>\n",
       "      <th>2017-03-04</th>\n",
       "      <td>-0.781185</td>\n",
       "      <td>0.263107</td>\n",
       "      <td>0.643915</td>\n",
       "      <td>0.076195</td>\n",
       "      <td>-0.851108</td>\n",
       "    </tr>\n",
       "    <tr>\n",
       "      <th>2017-03-08</th>\n",
       "      <td>-2.558205</td>\n",
       "      <td>-0.345054</td>\n",
       "      <td>0.381374</td>\n",
       "      <td>-0.635037</td>\n",
       "      <td>1.195350</td>\n",
       "    </tr>\n",
       "    <tr>\n",
       "      <th>2017-03-07</th>\n",
       "      <td>0.740928</td>\n",
       "      <td>1.408468</td>\n",
       "      <td>-0.896803</td>\n",
       "      <td>1.553678</td>\n",
       "      <td>0.721082</td>\n",
       "    </tr>\n",
       "    <tr>\n",
       "      <th>2017-03-05</th>\n",
       "      <td>0.188525</td>\n",
       "      <td>0.295498</td>\n",
       "      <td>-1.491953</td>\n",
       "      <td>0.941106</td>\n",
       "      <td>0.183708</td>\n",
       "    </tr>\n",
       "  </tbody>\n",
       "</table>\n",
       "</div>"
      ],
      "text/plain": [
       "                   A         B         C         D         E\n",
       "2017-03-02  1.251653  0.251616  0.915403  2.559955  0.344982\n",
       "2017-03-01 -0.170908  0.449614  0.811967 -0.380266  0.374029\n",
       "2017-03-06 -0.536118  0.867752  0.749676  0.519767 -0.900758\n",
       "2017-03-03 -1.298248 -0.610493  0.646538  1.488460  0.452529\n",
       "2017-03-04 -0.781185  0.263107  0.643915  0.076195 -0.851108\n",
       "2017-03-08 -2.558205 -0.345054  0.381374 -0.635037  1.195350\n",
       "2017-03-07  0.740928  1.408468 -0.896803  1.553678  0.721082\n",
       "2017-03-05  0.188525  0.295498 -1.491953  0.941106  0.183708"
      ]
     },
     "execution_count": 15,
     "metadata": {},
     "output_type": "execute_result"
    }
   ],
   "source": [
    "df.sort_values(by=[\"C\"], ascending=[False])"
   ]
  },
  {
   "cell_type": "markdown",
   "metadata": {},
   "source": [
    "不仅可以使用单列进行排序，还可以使用多列"
   ]
  },
  {
   "cell_type": "code",
   "execution_count": 16,
   "metadata": {},
   "outputs": [
    {
     "data": {
      "text/html": [
       "<div>\n",
       "<style scoped>\n",
       "    .dataframe tbody tr th:only-of-type {\n",
       "        vertical-align: middle;\n",
       "    }\n",
       "\n",
       "    .dataframe tbody tr th {\n",
       "        vertical-align: top;\n",
       "    }\n",
       "\n",
       "    .dataframe thead th {\n",
       "        text-align: right;\n",
       "    }\n",
       "</style>\n",
       "<table border=\"1\" class=\"dataframe\">\n",
       "  <thead>\n",
       "    <tr style=\"text-align: right;\">\n",
       "      <th></th>\n",
       "      <th>A</th>\n",
       "      <th>B</th>\n",
       "      <th>C</th>\n",
       "      <th>D</th>\n",
       "      <th>E</th>\n",
       "    </tr>\n",
       "  </thead>\n",
       "  <tbody>\n",
       "    <tr>\n",
       "      <th>2017-03-02</th>\n",
       "      <td>1.251653</td>\n",
       "      <td>0.251616</td>\n",
       "      <td>0.915403</td>\n",
       "      <td>2.559955</td>\n",
       "      <td>0.344982</td>\n",
       "    </tr>\n",
       "    <tr>\n",
       "      <th>2017-03-01</th>\n",
       "      <td>-0.170908</td>\n",
       "      <td>0.449614</td>\n",
       "      <td>0.811967</td>\n",
       "      <td>-0.380266</td>\n",
       "      <td>0.374029</td>\n",
       "    </tr>\n",
       "    <tr>\n",
       "      <th>2017-03-06</th>\n",
       "      <td>-0.536118</td>\n",
       "      <td>0.867752</td>\n",
       "      <td>0.749676</td>\n",
       "      <td>0.519767</td>\n",
       "      <td>-0.900758</td>\n",
       "    </tr>\n",
       "    <tr>\n",
       "      <th>2017-03-03</th>\n",
       "      <td>-1.298248</td>\n",
       "      <td>-0.610493</td>\n",
       "      <td>0.646538</td>\n",
       "      <td>1.488460</td>\n",
       "      <td>0.452529</td>\n",
       "    </tr>\n",
       "    <tr>\n",
       "      <th>2017-03-04</th>\n",
       "      <td>-0.781185</td>\n",
       "      <td>0.263107</td>\n",
       "      <td>0.643915</td>\n",
       "      <td>0.076195</td>\n",
       "      <td>-0.851108</td>\n",
       "    </tr>\n",
       "    <tr>\n",
       "      <th>2017-03-08</th>\n",
       "      <td>-2.558205</td>\n",
       "      <td>-0.345054</td>\n",
       "      <td>0.381374</td>\n",
       "      <td>-0.635037</td>\n",
       "      <td>1.195350</td>\n",
       "    </tr>\n",
       "    <tr>\n",
       "      <th>2017-03-07</th>\n",
       "      <td>0.740928</td>\n",
       "      <td>1.408468</td>\n",
       "      <td>-0.896803</td>\n",
       "      <td>1.553678</td>\n",
       "      <td>0.721082</td>\n",
       "    </tr>\n",
       "    <tr>\n",
       "      <th>2017-03-05</th>\n",
       "      <td>0.188525</td>\n",
       "      <td>0.295498</td>\n",
       "      <td>-1.491953</td>\n",
       "      <td>0.941106</td>\n",
       "      <td>0.183708</td>\n",
       "    </tr>\n",
       "  </tbody>\n",
       "</table>\n",
       "</div>"
      ],
      "text/plain": [
       "                   A         B         C         D         E\n",
       "2017-03-02  1.251653  0.251616  0.915403  2.559955  0.344982\n",
       "2017-03-01 -0.170908  0.449614  0.811967 -0.380266  0.374029\n",
       "2017-03-06 -0.536118  0.867752  0.749676  0.519767 -0.900758\n",
       "2017-03-03 -1.298248 -0.610493  0.646538  1.488460  0.452529\n",
       "2017-03-04 -0.781185  0.263107  0.643915  0.076195 -0.851108\n",
       "2017-03-08 -2.558205 -0.345054  0.381374 -0.635037  1.195350\n",
       "2017-03-07  0.740928  1.408468 -0.896803  1.553678  0.721082\n",
       "2017-03-05  0.188525  0.295498 -1.491953  0.941106  0.183708"
      ]
     },
     "execution_count": 16,
     "metadata": {},
     "output_type": "execute_result"
    }
   ],
   "source": [
    "df.sort_values(by=[\"C\",\"D\"], ascending=[False,False])"
   ]
  },
  {
   "cell_type": "code",
   "execution_count": 17,
   "metadata": {},
   "outputs": [
    {
     "data": {
      "text/html": [
       "<div>\n",
       "<style scoped>\n",
       "    .dataframe tbody tr th:only-of-type {\n",
       "        vertical-align: middle;\n",
       "    }\n",
       "\n",
       "    .dataframe tbody tr th {\n",
       "        vertical-align: top;\n",
       "    }\n",
       "\n",
       "    .dataframe thead th {\n",
       "        text-align: right;\n",
       "    }\n",
       "</style>\n",
       "<table border=\"1\" class=\"dataframe\">\n",
       "  <thead>\n",
       "    <tr style=\"text-align: right;\">\n",
       "      <th></th>\n",
       "      <th>E</th>\n",
       "      <th>D</th>\n",
       "      <th>C</th>\n",
       "      <th>B</th>\n",
       "      <th>A</th>\n",
       "    </tr>\n",
       "  </thead>\n",
       "  <tbody>\n",
       "    <tr>\n",
       "      <th>2017-03-01</th>\n",
       "      <td>0.374029</td>\n",
       "      <td>-0.380266</td>\n",
       "      <td>0.811967</td>\n",
       "      <td>0.449614</td>\n",
       "      <td>-0.170908</td>\n",
       "    </tr>\n",
       "    <tr>\n",
       "      <th>2017-03-02</th>\n",
       "      <td>0.344982</td>\n",
       "      <td>2.559955</td>\n",
       "      <td>0.915403</td>\n",
       "      <td>0.251616</td>\n",
       "      <td>1.251653</td>\n",
       "    </tr>\n",
       "    <tr>\n",
       "      <th>2017-03-03</th>\n",
       "      <td>0.452529</td>\n",
       "      <td>1.488460</td>\n",
       "      <td>0.646538</td>\n",
       "      <td>-0.610493</td>\n",
       "      <td>-1.298248</td>\n",
       "    </tr>\n",
       "    <tr>\n",
       "      <th>2017-03-04</th>\n",
       "      <td>-0.851108</td>\n",
       "      <td>0.076195</td>\n",
       "      <td>0.643915</td>\n",
       "      <td>0.263107</td>\n",
       "      <td>-0.781185</td>\n",
       "    </tr>\n",
       "    <tr>\n",
       "      <th>2017-03-05</th>\n",
       "      <td>0.183708</td>\n",
       "      <td>0.941106</td>\n",
       "      <td>-1.491953</td>\n",
       "      <td>0.295498</td>\n",
       "      <td>0.188525</td>\n",
       "    </tr>\n",
       "    <tr>\n",
       "      <th>2017-03-06</th>\n",
       "      <td>-0.900758</td>\n",
       "      <td>0.519767</td>\n",
       "      <td>0.749676</td>\n",
       "      <td>0.867752</td>\n",
       "      <td>-0.536118</td>\n",
       "    </tr>\n",
       "    <tr>\n",
       "      <th>2017-03-07</th>\n",
       "      <td>0.721082</td>\n",
       "      <td>1.553678</td>\n",
       "      <td>-0.896803</td>\n",
       "      <td>1.408468</td>\n",
       "      <td>0.740928</td>\n",
       "    </tr>\n",
       "    <tr>\n",
       "      <th>2017-03-08</th>\n",
       "      <td>1.195350</td>\n",
       "      <td>-0.635037</td>\n",
       "      <td>0.381374</td>\n",
       "      <td>-0.345054</td>\n",
       "      <td>-2.558205</td>\n",
       "    </tr>\n",
       "  </tbody>\n",
       "</table>\n",
       "</div>"
      ],
      "text/plain": [
       "                   E         D         C         B         A\n",
       "2017-03-01  0.374029 -0.380266  0.811967  0.449614 -0.170908\n",
       "2017-03-02  0.344982  2.559955  0.915403  0.251616  1.251653\n",
       "2017-03-03  0.452529  1.488460  0.646538 -0.610493 -1.298248\n",
       "2017-03-04 -0.851108  0.076195  0.643915  0.263107 -0.781185\n",
       "2017-03-05  0.183708  0.941106 -1.491953  0.295498  0.188525\n",
       "2017-03-06 -0.900758  0.519767  0.749676  0.867752 -0.536118\n",
       "2017-03-07  0.721082  1.553678 -0.896803  1.408468  0.740928\n",
       "2017-03-08  1.195350 -0.635037  0.381374 -0.345054 -2.558205"
      ]
     },
     "execution_count": 17,
     "metadata": {},
     "output_type": "execute_result"
    }
   ],
   "source": [
    "df.sort_index(axis=1, ascending=False)"
   ]
  },
  {
   "cell_type": "markdown",
   "metadata": {},
   "source": [
    "结合之前对axis的理解 这里axis=0 是最外层，也就是说0[所有数据] 1[每行数据] \n",
    "这里是对索引排序，所以axis=1的时候 每行的索引也就是A-E进行排序，默认升序，所以这里false是降序，26个字母排序，E>D>C>B>A"
   ]
  },
  {
   "cell_type": "markdown",
   "metadata": {},
   "source": [
    "sort_index有一个参数\n",
    "inplace : bool, default False\n",
    "\n",
    "if True, perform operation in-place\n",
    "意思是 inplace如果为true 则执行原地操作，也就是在原DataFrame上进行修改"
   ]
  },
  {
   "cell_type": "code",
   "execution_count": 18,
   "metadata": {},
   "outputs": [
    {
     "data": {
      "text/html": [
       "<div>\n",
       "<style scoped>\n",
       "    .dataframe tbody tr th:only-of-type {\n",
       "        vertical-align: middle;\n",
       "    }\n",
       "\n",
       "    .dataframe tbody tr th {\n",
       "        vertical-align: top;\n",
       "    }\n",
       "\n",
       "    .dataframe thead th {\n",
       "        text-align: right;\n",
       "    }\n",
       "</style>\n",
       "<table border=\"1\" class=\"dataframe\">\n",
       "  <thead>\n",
       "    <tr style=\"text-align: right;\">\n",
       "      <th></th>\n",
       "      <th>A</th>\n",
       "      <th>B</th>\n",
       "      <th>C</th>\n",
       "      <th>D</th>\n",
       "      <th>E</th>\n",
       "    </tr>\n",
       "  </thead>\n",
       "  <tbody>\n",
       "    <tr>\n",
       "      <th>2017-03-08</th>\n",
       "      <td>-2.558205</td>\n",
       "      <td>-0.345054</td>\n",
       "      <td>0.381374</td>\n",
       "      <td>-0.635037</td>\n",
       "      <td>1.195350</td>\n",
       "    </tr>\n",
       "    <tr>\n",
       "      <th>2017-03-07</th>\n",
       "      <td>0.740928</td>\n",
       "      <td>1.408468</td>\n",
       "      <td>-0.896803</td>\n",
       "      <td>1.553678</td>\n",
       "      <td>0.721082</td>\n",
       "    </tr>\n",
       "    <tr>\n",
       "      <th>2017-03-06</th>\n",
       "      <td>-0.536118</td>\n",
       "      <td>0.867752</td>\n",
       "      <td>0.749676</td>\n",
       "      <td>0.519767</td>\n",
       "      <td>-0.900758</td>\n",
       "    </tr>\n",
       "    <tr>\n",
       "      <th>2017-03-05</th>\n",
       "      <td>0.188525</td>\n",
       "      <td>0.295498</td>\n",
       "      <td>-1.491953</td>\n",
       "      <td>0.941106</td>\n",
       "      <td>0.183708</td>\n",
       "    </tr>\n",
       "    <tr>\n",
       "      <th>2017-03-04</th>\n",
       "      <td>-0.781185</td>\n",
       "      <td>0.263107</td>\n",
       "      <td>0.643915</td>\n",
       "      <td>0.076195</td>\n",
       "      <td>-0.851108</td>\n",
       "    </tr>\n",
       "    <tr>\n",
       "      <th>2017-03-03</th>\n",
       "      <td>-1.298248</td>\n",
       "      <td>-0.610493</td>\n",
       "      <td>0.646538</td>\n",
       "      <td>1.488460</td>\n",
       "      <td>0.452529</td>\n",
       "    </tr>\n",
       "    <tr>\n",
       "      <th>2017-03-02</th>\n",
       "      <td>1.251653</td>\n",
       "      <td>0.251616</td>\n",
       "      <td>0.915403</td>\n",
       "      <td>2.559955</td>\n",
       "      <td>0.344982</td>\n",
       "    </tr>\n",
       "    <tr>\n",
       "      <th>2017-03-01</th>\n",
       "      <td>-0.170908</td>\n",
       "      <td>0.449614</td>\n",
       "      <td>0.811967</td>\n",
       "      <td>-0.380266</td>\n",
       "      <td>0.374029</td>\n",
       "    </tr>\n",
       "  </tbody>\n",
       "</table>\n",
       "</div>"
      ],
      "text/plain": [
       "                   A         B         C         D         E\n",
       "2017-03-08 -2.558205 -0.345054  0.381374 -0.635037  1.195350\n",
       "2017-03-07  0.740928  1.408468 -0.896803  1.553678  0.721082\n",
       "2017-03-06 -0.536118  0.867752  0.749676  0.519767 -0.900758\n",
       "2017-03-05  0.188525  0.295498 -1.491953  0.941106  0.183708\n",
       "2017-03-04 -0.781185  0.263107  0.643915  0.076195 -0.851108\n",
       "2017-03-03 -1.298248 -0.610493  0.646538  1.488460  0.452529\n",
       "2017-03-02  1.251653  0.251616  0.915403  2.559955  0.344982\n",
       "2017-03-01 -0.170908  0.449614  0.811967 -0.380266  0.374029"
      ]
     },
     "execution_count": 18,
     "metadata": {},
     "output_type": "execute_result"
    }
   ],
   "source": [
    "df.sort_index(axis=0, ascending=False)"
   ]
  },
  {
   "cell_type": "markdown",
   "metadata": {},
   "source": [
    "同理，axis=0 所有数据，对index进行排序（行索引 左边这个） 降序"
   ]
  },
  {
   "cell_type": "code",
   "execution_count": 19,
   "metadata": {},
   "outputs": [
    {
     "data": {
      "text/html": [
       "<div>\n",
       "<style scoped>\n",
       "    .dataframe tbody tr th:only-of-type {\n",
       "        vertical-align: middle;\n",
       "    }\n",
       "\n",
       "    .dataframe tbody tr th {\n",
       "        vertical-align: top;\n",
       "    }\n",
       "\n",
       "    .dataframe thead th {\n",
       "        text-align: right;\n",
       "    }\n",
       "</style>\n",
       "<table border=\"1\" class=\"dataframe\">\n",
       "  <thead>\n",
       "    <tr style=\"text-align: right;\">\n",
       "      <th></th>\n",
       "      <th>A</th>\n",
       "      <th>B</th>\n",
       "      <th>C</th>\n",
       "      <th>D</th>\n",
       "      <th>E</th>\n",
       "    </tr>\n",
       "  </thead>\n",
       "  <tbody>\n",
       "    <tr>\n",
       "      <th>count</th>\n",
       "      <td>8.000000</td>\n",
       "      <td>8.000000</td>\n",
       "      <td>8.000000</td>\n",
       "      <td>8.000000</td>\n",
       "      <td>8.000000</td>\n",
       "    </tr>\n",
       "    <tr>\n",
       "      <th>mean</th>\n",
       "      <td>-0.395445</td>\n",
       "      <td>0.322564</td>\n",
       "      <td>0.220015</td>\n",
       "      <td>0.765482</td>\n",
       "      <td>0.189977</td>\n",
       "    </tr>\n",
       "    <tr>\n",
       "      <th>std</th>\n",
       "      <td>1.198623</td>\n",
       "      <td>0.634504</td>\n",
       "      <td>0.900816</td>\n",
       "      <td>1.082630</td>\n",
       "      <td>0.726369</td>\n",
       "    </tr>\n",
       "    <tr>\n",
       "      <th>min</th>\n",
       "      <td>-2.558205</td>\n",
       "      <td>-0.610493</td>\n",
       "      <td>-1.491953</td>\n",
       "      <td>-0.635037</td>\n",
       "      <td>-0.900758</td>\n",
       "    </tr>\n",
       "    <tr>\n",
       "      <th>25%</th>\n",
       "      <td>-0.910451</td>\n",
       "      <td>0.102449</td>\n",
       "      <td>0.061830</td>\n",
       "      <td>-0.037920</td>\n",
       "      <td>-0.074996</td>\n",
       "    </tr>\n",
       "    <tr>\n",
       "      <th>50%</th>\n",
       "      <td>-0.353513</td>\n",
       "      <td>0.279303</td>\n",
       "      <td>0.645227</td>\n",
       "      <td>0.730437</td>\n",
       "      <td>0.359505</td>\n",
       "    </tr>\n",
       "    <tr>\n",
       "      <th>75%</th>\n",
       "      <td>0.326625</td>\n",
       "      <td>0.554148</td>\n",
       "      <td>0.765249</td>\n",
       "      <td>1.504764</td>\n",
       "      <td>0.519667</td>\n",
       "    </tr>\n",
       "    <tr>\n",
       "      <th>max</th>\n",
       "      <td>1.251653</td>\n",
       "      <td>1.408468</td>\n",
       "      <td>0.915403</td>\n",
       "      <td>2.559955</td>\n",
       "      <td>1.195350</td>\n",
       "    </tr>\n",
       "  </tbody>\n",
       "</table>\n",
       "</div>"
      ],
      "text/plain": [
       "              A         B         C         D         E\n",
       "count  8.000000  8.000000  8.000000  8.000000  8.000000\n",
       "mean  -0.395445  0.322564  0.220015  0.765482  0.189977\n",
       "std    1.198623  0.634504  0.900816  1.082630  0.726369\n",
       "min   -2.558205 -0.610493 -1.491953 -0.635037 -0.900758\n",
       "25%   -0.910451  0.102449  0.061830 -0.037920 -0.074996\n",
       "50%   -0.353513  0.279303  0.645227  0.730437  0.359505\n",
       "75%    0.326625  0.554148  0.765249  1.504764  0.519667\n",
       "max    1.251653  1.408468  0.915403  2.559955  1.195350"
      ]
     },
     "execution_count": 19,
     "metadata": {},
     "output_type": "execute_result"
    }
   ],
   "source": [
    "df.describe()"
   ]
  },
  {
   "cell_type": "markdown",
   "metadata": {},
   "source": [
    "这个函数返回每列的一些常见统计指标\n",
    "* count（每列的元素个数）\n",
    "* mean（每列的平均值）\n",
    "* std   标准差\n",
    "* min   最小值\n",
    "* max   最大值\n",
    "* 25%   较低的百分位数,又称第一个四分位数 最小四分位\n",
    "* 50%   第二个四分位数，又称中位数 中位数是第50百分位数\n",
    "* 默认情况下，较低的百分位数为25，较高的百分位数为75.50百分位数与中位数相同\n",
    "* 75% 第75百分位数又称为第三个四分位数 上四分位\n",
    "对于数值型数据，返回的结果的索引将包括计数，平均值，标准差，最小值，最大值以及更低的百分位数，50百分位数和更高的百分位数。\n",
    "默认情况下，较低的百分位是25，而较高的百分位是75.50百分位与中位数相同。\n",
    "\n",
    "对于对象数据（例如字符串或时间戳），结果的索引将包括count，unique，top和freq。top是最常见的值（也就是出现频率最高的，出现次数最多的值）。频率是最常见的值的频率。时间戳还包括第一个和最后一个项目（也就是时间最先和最后，时间区间的左边界和右边界）。\n",
    "\n",
    "如果多个对象值的计数都最高，则计数和最高结果将从计数最高的那些中任意选择。\n",
    "\n",
    "对于通过DataFrame提供的混合数据类型，缺省值仅返回数字列的分析。如果数据框仅包含对象和不带任何数字列的分类数据，则默认为返回分析对象和分类列。如果include ='all'作为选项提供，则结果将包含每种类型的属性的联合。\n",
    "\n",
    "包含和排除参数可用于限制分析DataFrame中的哪些列的输出。分析Series时参数将被忽略。"
   ]
  },
  {
   "cell_type": "markdown",
   "metadata": {},
   "source": [
    "# select"
   ]
  },
  {
   "cell_type": "code",
   "execution_count": 20,
   "metadata": {},
   "outputs": [
    {
     "data": {
      "text/plain": [
       "2017-03-01   -0.170908\n",
       "2017-03-02    1.251653\n",
       "2017-03-03   -1.298248\n",
       "2017-03-04   -0.781185\n",
       "2017-03-05    0.188525\n",
       "2017-03-06   -0.536118\n",
       "2017-03-07    0.740928\n",
       "2017-03-08   -2.558205\n",
       "Freq: D, Name: A, dtype: float64"
      ]
     },
     "execution_count": 20,
     "metadata": {},
     "output_type": "execute_result"
    }
   ],
   "source": [
    "df[\"A\"]"
   ]
  },
  {
   "cell_type": "markdown",
   "metadata": {},
   "source": [
    "类似切片的感觉"
   ]
  },
  {
   "cell_type": "code",
   "execution_count": 21,
   "metadata": {},
   "outputs": [
    {
     "data": {
      "text/plain": [
       "pandas.core.series.Series"
      ]
     },
     "execution_count": 21,
     "metadata": {},
     "output_type": "execute_result"
    }
   ],
   "source": [
    "type(df[\"A\"])"
   ]
  },
  {
   "cell_type": "markdown",
   "metadata": {},
   "source": [
    "也就是说 DataFrame实际上是由一个个的Series组成的，而Series是DataFrame的一个特例，所以他们的操作是可以通用的"
   ]
  },
  {
   "cell_type": "markdown",
   "metadata": {},
   "source": [
    "可以直接使用列名进行读取 df[columns]"
   ]
  },
  {
   "cell_type": "code",
   "execution_count": 22,
   "metadata": {},
   "outputs": [
    {
     "data": {
      "text/html": [
       "<div>\n",
       "<style scoped>\n",
       "    .dataframe tbody tr th:only-of-type {\n",
       "        vertical-align: middle;\n",
       "    }\n",
       "\n",
       "    .dataframe tbody tr th {\n",
       "        vertical-align: top;\n",
       "    }\n",
       "\n",
       "    .dataframe thead th {\n",
       "        text-align: right;\n",
       "    }\n",
       "</style>\n",
       "<table border=\"1\" class=\"dataframe\">\n",
       "  <thead>\n",
       "    <tr style=\"text-align: right;\">\n",
       "      <th></th>\n",
       "      <th>A</th>\n",
       "      <th>B</th>\n",
       "      <th>C</th>\n",
       "      <th>D</th>\n",
       "      <th>E</th>\n",
       "    </tr>\n",
       "  </thead>\n",
       "  <tbody>\n",
       "    <tr>\n",
       "      <th>2017-03-01</th>\n",
       "      <td>-0.170908</td>\n",
       "      <td>0.449614</td>\n",
       "      <td>0.811967</td>\n",
       "      <td>-0.380266</td>\n",
       "      <td>0.374029</td>\n",
       "    </tr>\n",
       "    <tr>\n",
       "      <th>2017-03-02</th>\n",
       "      <td>1.251653</td>\n",
       "      <td>0.251616</td>\n",
       "      <td>0.915403</td>\n",
       "      <td>2.559955</td>\n",
       "      <td>0.344982</td>\n",
       "    </tr>\n",
       "    <tr>\n",
       "      <th>2017-03-03</th>\n",
       "      <td>-1.298248</td>\n",
       "      <td>-0.610493</td>\n",
       "      <td>0.646538</td>\n",
       "      <td>1.488460</td>\n",
       "      <td>0.452529</td>\n",
       "    </tr>\n",
       "  </tbody>\n",
       "</table>\n",
       "</div>"
      ],
      "text/plain": [
       "                   A         B         C         D         E\n",
       "2017-03-01 -0.170908  0.449614  0.811967 -0.380266  0.374029\n",
       "2017-03-02  1.251653  0.251616  0.915403  2.559955  0.344982\n",
       "2017-03-03 -1.298248 -0.610493  0.646538  1.488460  0.452529"
      ]
     },
     "execution_count": 22,
     "metadata": {},
     "output_type": "execute_result"
    }
   ],
   "source": [
    "df[:3]"
   ]
  },
  {
   "cell_type": "markdown",
   "metadata": {},
   "source": [
    "也可以直接使用切片，表示前三行,直接用下标进行切片"
   ]
  },
  {
   "cell_type": "code",
   "execution_count": 23,
   "metadata": {},
   "outputs": [
    {
     "data": {
      "text/html": [
       "<div>\n",
       "<style scoped>\n",
       "    .dataframe tbody tr th:only-of-type {\n",
       "        vertical-align: middle;\n",
       "    }\n",
       "\n",
       "    .dataframe tbody tr th {\n",
       "        vertical-align: top;\n",
       "    }\n",
       "\n",
       "    .dataframe thead th {\n",
       "        text-align: right;\n",
       "    }\n",
       "</style>\n",
       "<table border=\"1\" class=\"dataframe\">\n",
       "  <thead>\n",
       "    <tr style=\"text-align: right;\">\n",
       "      <th></th>\n",
       "      <th>A</th>\n",
       "      <th>B</th>\n",
       "      <th>C</th>\n",
       "      <th>D</th>\n",
       "      <th>E</th>\n",
       "    </tr>\n",
       "  </thead>\n",
       "  <tbody>\n",
       "    <tr>\n",
       "      <th>2017-03-01</th>\n",
       "      <td>-0.170908</td>\n",
       "      <td>0.449614</td>\n",
       "      <td>0.811967</td>\n",
       "      <td>-0.380266</td>\n",
       "      <td>0.374029</td>\n",
       "    </tr>\n",
       "    <tr>\n",
       "      <th>2017-03-02</th>\n",
       "      <td>1.251653</td>\n",
       "      <td>0.251616</td>\n",
       "      <td>0.915403</td>\n",
       "      <td>2.559955</td>\n",
       "      <td>0.344982</td>\n",
       "    </tr>\n",
       "    <tr>\n",
       "      <th>2017-03-03</th>\n",
       "      <td>-1.298248</td>\n",
       "      <td>-0.610493</td>\n",
       "      <td>0.646538</td>\n",
       "      <td>1.488460</td>\n",
       "      <td>0.452529</td>\n",
       "    </tr>\n",
       "    <tr>\n",
       "      <th>2017-03-04</th>\n",
       "      <td>-0.781185</td>\n",
       "      <td>0.263107</td>\n",
       "      <td>0.643915</td>\n",
       "      <td>0.076195</td>\n",
       "      <td>-0.851108</td>\n",
       "    </tr>\n",
       "    <tr>\n",
       "      <th>2017-03-05</th>\n",
       "      <td>0.188525</td>\n",
       "      <td>0.295498</td>\n",
       "      <td>-1.491953</td>\n",
       "      <td>0.941106</td>\n",
       "      <td>0.183708</td>\n",
       "    </tr>\n",
       "  </tbody>\n",
       "</table>\n",
       "</div>"
      ],
      "text/plain": [
       "                   A         B         C         D         E\n",
       "2017-03-01 -0.170908  0.449614  0.811967 -0.380266  0.374029\n",
       "2017-03-02  1.251653  0.251616  0.915403  2.559955  0.344982\n",
       "2017-03-03 -1.298248 -0.610493  0.646538  1.488460  0.452529\n",
       "2017-03-04 -0.781185  0.263107  0.643915  0.076195 -0.851108\n",
       "2017-03-05  0.188525  0.295498 -1.491953  0.941106  0.183708"
      ]
     },
     "execution_count": 23,
     "metadata": {},
     "output_type": "execute_result"
    }
   ],
   "source": [
    "df[\"20170301\":\"20170305\"]"
   ]
  },
  {
   "cell_type": "markdown",
   "metadata": {},
   "source": [
    "除了下标，也可以直接用index进行切片"
   ]
  },
  {
   "cell_type": "code",
   "execution_count": 24,
   "metadata": {},
   "outputs": [
    {
     "data": {
      "text/plain": [
       "A   -0.170908\n",
       "B    0.449614\n",
       "C    0.811967\n",
       "D   -0.380266\n",
       "E    0.374029\n",
       "Name: 2017-03-01 00:00:00, dtype: float64"
      ]
     },
     "execution_count": 24,
     "metadata": {},
     "output_type": "execute_result"
    }
   ],
   "source": [
    "df.loc[dates[0]]"
   ]
  },
  {
   "cell_type": "code",
   "execution_count": 25,
   "metadata": {},
   "outputs": [
    {
     "data": {
      "text/html": [
       "<div>\n",
       "<style scoped>\n",
       "    .dataframe tbody tr th:only-of-type {\n",
       "        vertical-align: middle;\n",
       "    }\n",
       "\n",
       "    .dataframe tbody tr th {\n",
       "        vertical-align: top;\n",
       "    }\n",
       "\n",
       "    .dataframe thead th {\n",
       "        text-align: right;\n",
       "    }\n",
       "</style>\n",
       "<table border=\"1\" class=\"dataframe\">\n",
       "  <thead>\n",
       "    <tr style=\"text-align: right;\">\n",
       "      <th></th>\n",
       "      <th>B</th>\n",
       "      <th>D</th>\n",
       "    </tr>\n",
       "  </thead>\n",
       "  <tbody>\n",
       "    <tr>\n",
       "      <th>2017-03-01</th>\n",
       "      <td>0.449614</td>\n",
       "      <td>-0.380266</td>\n",
       "    </tr>\n",
       "    <tr>\n",
       "      <th>2017-03-02</th>\n",
       "      <td>0.251616</td>\n",
       "      <td>2.559955</td>\n",
       "    </tr>\n",
       "    <tr>\n",
       "      <th>2017-03-03</th>\n",
       "      <td>-0.610493</td>\n",
       "      <td>1.488460</td>\n",
       "    </tr>\n",
       "    <tr>\n",
       "      <th>2017-03-04</th>\n",
       "      <td>0.263107</td>\n",
       "      <td>0.076195</td>\n",
       "    </tr>\n",
       "    <tr>\n",
       "      <th>2017-03-05</th>\n",
       "      <td>0.295498</td>\n",
       "      <td>0.941106</td>\n",
       "    </tr>\n",
       "  </tbody>\n",
       "</table>\n",
       "</div>"
      ],
      "text/plain": [
       "                   B         D\n",
       "2017-03-01  0.449614 -0.380266\n",
       "2017-03-02  0.251616  2.559955\n",
       "2017-03-03 -0.610493  1.488460\n",
       "2017-03-04  0.263107  0.076195\n",
       "2017-03-05  0.295498  0.941106"
      ]
     },
     "execution_count": 25,
     "metadata": {},
     "output_type": "execute_result"
    }
   ],
   "source": [
    "df.loc[\"20170301\":\"20170305\",[\"B\",\"D\"]]"
   ]
  },
  {
   "cell_type": "code",
   "execution_count": 26,
   "metadata": {},
   "outputs": [
    {
     "data": {
      "text/html": [
       "<div>\n",
       "<style scoped>\n",
       "    .dataframe tbody tr th:only-of-type {\n",
       "        vertical-align: middle;\n",
       "    }\n",
       "\n",
       "    .dataframe tbody tr th {\n",
       "        vertical-align: top;\n",
       "    }\n",
       "\n",
       "    .dataframe thead th {\n",
       "        text-align: right;\n",
       "    }\n",
       "</style>\n",
       "<table border=\"1\" class=\"dataframe\">\n",
       "  <thead>\n",
       "    <tr style=\"text-align: right;\">\n",
       "      <th></th>\n",
       "      <th>B</th>\n",
       "      <th>C</th>\n",
       "      <th>D</th>\n",
       "    </tr>\n",
       "  </thead>\n",
       "  <tbody>\n",
       "    <tr>\n",
       "      <th>2017-03-01</th>\n",
       "      <td>0.449614</td>\n",
       "      <td>0.811967</td>\n",
       "      <td>-0.380266</td>\n",
       "    </tr>\n",
       "    <tr>\n",
       "      <th>2017-03-02</th>\n",
       "      <td>0.251616</td>\n",
       "      <td>0.915403</td>\n",
       "      <td>2.559955</td>\n",
       "    </tr>\n",
       "    <tr>\n",
       "      <th>2017-03-03</th>\n",
       "      <td>-0.610493</td>\n",
       "      <td>0.646538</td>\n",
       "      <td>1.488460</td>\n",
       "    </tr>\n",
       "    <tr>\n",
       "      <th>2017-03-04</th>\n",
       "      <td>0.263107</td>\n",
       "      <td>0.643915</td>\n",
       "      <td>0.076195</td>\n",
       "    </tr>\n",
       "    <tr>\n",
       "      <th>2017-03-05</th>\n",
       "      <td>0.295498</td>\n",
       "      <td>-1.491953</td>\n",
       "      <td>0.941106</td>\n",
       "    </tr>\n",
       "  </tbody>\n",
       "</table>\n",
       "</div>"
      ],
      "text/plain": [
       "                   B         C         D\n",
       "2017-03-01  0.449614  0.811967 -0.380266\n",
       "2017-03-02  0.251616  0.915403  2.559955\n",
       "2017-03-03 -0.610493  0.646538  1.488460\n",
       "2017-03-04  0.263107  0.643915  0.076195\n",
       "2017-03-05  0.295498 -1.491953  0.941106"
      ]
     },
     "execution_count": 26,
     "metadata": {},
     "output_type": "execute_result"
    }
   ],
   "source": [
    "df.loc[\"20170301\":\"20170305\",\"B\":\"D\"]"
   ]
  },
  {
   "cell_type": "markdown",
   "metadata": {},
   "source": [
    "DataFrame.loc\n",
    "     按标签或布尔数组访问一组行和列。\n",
    "\n",
    ".loc []主要是基于标签的，但也可以与布尔数组一起使用。\n",
    "\n",
    "允许的输入是：\n",
    "\n",
    "一个标签，例如 5或'a'（注意5被解释为索引的标签，而不是沿索引的整数位置）。\n",
    "\n",
    "标签的列表或数组，例如 ['a'，'b'，'c']。\n",
    "\n",
    "具有标签的切片对象，例如'一'： 'F'。\n",
    "\n",
    "警告请注意，与通常的Python切片相反，包括开始和停止\n",
    "与正在切片的轴相同长度的布尔数组，例如 [对，错，真]。\n",
    "\n",
    "带有一个参数（调用Series，DataFrame或Panel）的可调用函数，并且返回用于索引的有效输出（上述之一）"
   ]
  },
  {
   "cell_type": "code",
   "execution_count": 27,
   "metadata": {},
   "outputs": [
    {
     "data": {
      "text/html": [
       "<div>\n",
       "<style scoped>\n",
       "    .dataframe tbody tr th:only-of-type {\n",
       "        vertical-align: middle;\n",
       "    }\n",
       "\n",
       "    .dataframe tbody tr th {\n",
       "        vertical-align: top;\n",
       "    }\n",
       "\n",
       "    .dataframe thead th {\n",
       "        text-align: right;\n",
       "    }\n",
       "</style>\n",
       "<table border=\"1\" class=\"dataframe\">\n",
       "  <thead>\n",
       "    <tr style=\"text-align: right;\">\n",
       "      <th></th>\n",
       "      <th>B</th>\n",
       "    </tr>\n",
       "  </thead>\n",
       "  <tbody>\n",
       "    <tr>\n",
       "      <th>2017-03-01</th>\n",
       "      <td>0.449614</td>\n",
       "    </tr>\n",
       "    <tr>\n",
       "      <th>2017-03-02</th>\n",
       "      <td>0.251616</td>\n",
       "    </tr>\n",
       "    <tr>\n",
       "      <th>2017-03-03</th>\n",
       "      <td>-0.610493</td>\n",
       "    </tr>\n",
       "    <tr>\n",
       "      <th>2017-03-04</th>\n",
       "      <td>0.263107</td>\n",
       "    </tr>\n",
       "    <tr>\n",
       "      <th>2017-03-05</th>\n",
       "      <td>0.295498</td>\n",
       "    </tr>\n",
       "    <tr>\n",
       "      <th>2017-03-06</th>\n",
       "      <td>0.867752</td>\n",
       "    </tr>\n",
       "    <tr>\n",
       "      <th>2017-03-07</th>\n",
       "      <td>1.408468</td>\n",
       "    </tr>\n",
       "    <tr>\n",
       "      <th>2017-03-08</th>\n",
       "      <td>-0.345054</td>\n",
       "    </tr>\n",
       "  </tbody>\n",
       "</table>\n",
       "</div>"
      ],
      "text/plain": [
       "                   B\n",
       "2017-03-01  0.449614\n",
       "2017-03-02  0.251616\n",
       "2017-03-03 -0.610493\n",
       "2017-03-04  0.263107\n",
       "2017-03-05  0.295498\n",
       "2017-03-06  0.867752\n",
       "2017-03-07  1.408468\n",
       "2017-03-08 -0.345054"
      ]
     },
     "execution_count": 27,
     "metadata": {},
     "output_type": "execute_result"
    }
   ],
   "source": [
    "df.iloc[:,1:2]"
   ]
  },
  {
   "cell_type": "markdown",
   "metadata": {},
   "source": [
    "pandas.DataFrame.iloc\n",
    "DataFrame.iloc\n",
    "纯粹的基于整数位置的索引按位置选择。\n",
    "\n",
    ".iloc []主要是基于整数的位置（从0到轴的长度1），但也可以与布尔数组一起使用。\n",
    "\n",
    "允许的输入是：\n",
    "\n",
    "一个整数，例如5。\n",
    "整数的列表或数组，例如 [4，3，0]。\n",
    "带有整数的切片对象，例如1：7。\n",
    "一个布尔数组。\n",
    "\n",
    "第一个参数表示行 第二个参数表示列 1:2 包含1 不包含2 所以只有B一列"
   ]
  },
  {
   "cell_type": "code",
   "execution_count": 28,
   "metadata": {},
   "outputs": [
    {
     "data": {
      "text/plain": [
       "0.8119673575855156"
      ]
     },
     "execution_count": 28,
     "metadata": {},
     "output_type": "execute_result"
    }
   ],
   "source": [
    "df.at[dates[0],\"C\"]"
   ]
  },
  {
   "cell_type": "markdown",
   "metadata": {},
   "source": [
    "注意 不要写成df.at[dates(0),\"C\"] \n",
    "at函数用于根据一组行列标签对获取一个单独的值 \n",
    "还有一个方法叫iat\n",
    "at   iat \n",
    "loc   iloc\n",
    "at和loc都是基于标签名 也就是index或者column\n",
    "而iat和iloc都是基于位置，也就是传统的切片，行数-1  列数-1 得到其范围"
   ]
  },
  {
   "cell_type": "code",
   "execution_count": 29,
   "metadata": {},
   "outputs": [
    {
     "data": {
      "text/plain": [
       "0.8119673575855156"
      ]
     },
     "execution_count": 29,
     "metadata": {},
     "output_type": "execute_result"
    }
   ],
   "source": [
    "df.at[dates[0],\"C\"]"
   ]
  },
  {
   "cell_type": "markdown",
   "metadata": {},
   "source": [
    "虽说是标签名（index或者column名），但是这里的日期，因为创建时和实际存储时有所区别，所以只能使用dates[0] 这样的方式 直接使用\"20170301\" 这样的或者\"2017-03-01\"会报错"
   ]
  },
  {
   "cell_type": "code",
   "execution_count": 30,
   "metadata": {},
   "outputs": [
    {
     "data": {
      "text/plain": [
       "0.34498155160850363"
      ]
     },
     "execution_count": 30,
     "metadata": {},
     "output_type": "execute_result"
    }
   ],
   "source": [
    "df.iloc[1,4]"
   ]
  },
  {
   "cell_type": "markdown",
   "metadata": {},
   "source": [
    "很直接的得到一个元素，第一行第四列，注意是从0开始的"
   ]
  },
  {
   "cell_type": "code",
   "execution_count": 31,
   "metadata": {},
   "outputs": [],
   "source": [
    "adf=df[df.B>0]"
   ]
  },
  {
   "cell_type": "code",
   "execution_count": 32,
   "metadata": {},
   "outputs": [
    {
     "data": {
      "text/html": [
       "<div>\n",
       "<style scoped>\n",
       "    .dataframe tbody tr th:only-of-type {\n",
       "        vertical-align: middle;\n",
       "    }\n",
       "\n",
       "    .dataframe tbody tr th {\n",
       "        vertical-align: top;\n",
       "    }\n",
       "\n",
       "    .dataframe thead th {\n",
       "        text-align: right;\n",
       "    }\n",
       "</style>\n",
       "<table border=\"1\" class=\"dataframe\">\n",
       "  <thead>\n",
       "    <tr style=\"text-align: right;\">\n",
       "      <th></th>\n",
       "      <th>A</th>\n",
       "      <th>B</th>\n",
       "      <th>C</th>\n",
       "      <th>D</th>\n",
       "      <th>E</th>\n",
       "    </tr>\n",
       "  </thead>\n",
       "  <tbody>\n",
       "    <tr>\n",
       "      <th>2017-03-01</th>\n",
       "      <td>-0.170908</td>\n",
       "      <td>0.449614</td>\n",
       "      <td>0.811967</td>\n",
       "      <td>-0.380266</td>\n",
       "      <td>0.374029</td>\n",
       "    </tr>\n",
       "    <tr>\n",
       "      <th>2017-03-02</th>\n",
       "      <td>1.251653</td>\n",
       "      <td>0.251616</td>\n",
       "      <td>0.915403</td>\n",
       "      <td>2.559955</td>\n",
       "      <td>0.344982</td>\n",
       "    </tr>\n",
       "    <tr>\n",
       "      <th>2017-03-04</th>\n",
       "      <td>-0.781185</td>\n",
       "      <td>0.263107</td>\n",
       "      <td>0.643915</td>\n",
       "      <td>0.076195</td>\n",
       "      <td>-0.851108</td>\n",
       "    </tr>\n",
       "    <tr>\n",
       "      <th>2017-03-05</th>\n",
       "      <td>0.188525</td>\n",
       "      <td>0.295498</td>\n",
       "      <td>-1.491953</td>\n",
       "      <td>0.941106</td>\n",
       "      <td>0.183708</td>\n",
       "    </tr>\n",
       "    <tr>\n",
       "      <th>2017-03-06</th>\n",
       "      <td>-0.536118</td>\n",
       "      <td>0.867752</td>\n",
       "      <td>0.749676</td>\n",
       "      <td>0.519767</td>\n",
       "      <td>-0.900758</td>\n",
       "    </tr>\n",
       "    <tr>\n",
       "      <th>2017-03-07</th>\n",
       "      <td>0.740928</td>\n",
       "      <td>1.408468</td>\n",
       "      <td>-0.896803</td>\n",
       "      <td>1.553678</td>\n",
       "      <td>0.721082</td>\n",
       "    </tr>\n",
       "  </tbody>\n",
       "</table>\n",
       "</div>"
      ],
      "text/plain": [
       "                   A         B         C         D         E\n",
       "2017-03-01 -0.170908  0.449614  0.811967 -0.380266  0.374029\n",
       "2017-03-02  1.251653  0.251616  0.915403  2.559955  0.344982\n",
       "2017-03-04 -0.781185  0.263107  0.643915  0.076195 -0.851108\n",
       "2017-03-05  0.188525  0.295498 -1.491953  0.941106  0.183708\n",
       "2017-03-06 -0.536118  0.867752  0.749676  0.519767 -0.900758\n",
       "2017-03-07  0.740928  1.408468 -0.896803  1.553678  0.721082"
      ]
     },
     "execution_count": 32,
     "metadata": {},
     "output_type": "execute_result"
    }
   ],
   "source": [
    "adf"
   ]
  },
  {
   "cell_type": "markdown",
   "metadata": {},
   "source": [
    "类似numpy.ndarray, DataFrame也支持布尔类型的运用， 使用boolean1来控制相应位置元素及位置的显示和隐藏"
   ]
  },
  {
   "cell_type": "code",
   "execution_count": 33,
   "metadata": {},
   "outputs": [
    {
     "name": "stderr",
     "output_type": "stream",
     "text": [
      "D:\\anaconda\\lib\\site-packages\\ipykernel_launcher.py:1: UserWarning: Boolean Series key will be reindexed to match DataFrame index.\n",
      "  \"\"\"Entry point for launching an IPython kernel.\n"
     ]
    },
    {
     "data": {
      "text/html": [
       "<div>\n",
       "<style scoped>\n",
       "    .dataframe tbody tr th:only-of-type {\n",
       "        vertical-align: middle;\n",
       "    }\n",
       "\n",
       "    .dataframe tbody tr th {\n",
       "        vertical-align: top;\n",
       "    }\n",
       "\n",
       "    .dataframe thead th {\n",
       "        text-align: right;\n",
       "    }\n",
       "</style>\n",
       "<table border=\"1\" class=\"dataframe\">\n",
       "  <thead>\n",
       "    <tr style=\"text-align: right;\">\n",
       "      <th></th>\n",
       "      <th>A</th>\n",
       "      <th>B</th>\n",
       "      <th>C</th>\n",
       "      <th>D</th>\n",
       "      <th>E</th>\n",
       "    </tr>\n",
       "  </thead>\n",
       "  <tbody>\n",
       "    <tr>\n",
       "      <th>2017-03-02</th>\n",
       "      <td>1.251653</td>\n",
       "      <td>0.251616</td>\n",
       "      <td>0.915403</td>\n",
       "      <td>2.559955</td>\n",
       "      <td>0.344982</td>\n",
       "    </tr>\n",
       "    <tr>\n",
       "      <th>2017-03-04</th>\n",
       "      <td>-0.781185</td>\n",
       "      <td>0.263107</td>\n",
       "      <td>0.643915</td>\n",
       "      <td>0.076195</td>\n",
       "      <td>-0.851108</td>\n",
       "    </tr>\n",
       "    <tr>\n",
       "      <th>2017-03-05</th>\n",
       "      <td>0.188525</td>\n",
       "      <td>0.295498</td>\n",
       "      <td>-1.491953</td>\n",
       "      <td>0.941106</td>\n",
       "      <td>0.183708</td>\n",
       "    </tr>\n",
       "    <tr>\n",
       "      <th>2017-03-06</th>\n",
       "      <td>-0.536118</td>\n",
       "      <td>0.867752</td>\n",
       "      <td>0.749676</td>\n",
       "      <td>0.519767</td>\n",
       "      <td>-0.900758</td>\n",
       "    </tr>\n",
       "    <tr>\n",
       "      <th>2017-03-07</th>\n",
       "      <td>0.740928</td>\n",
       "      <td>1.408468</td>\n",
       "      <td>-0.896803</td>\n",
       "      <td>1.553678</td>\n",
       "      <td>0.721082</td>\n",
       "    </tr>\n",
       "  </tbody>\n",
       "</table>\n",
       "</div>"
      ],
      "text/plain": [
       "                   A         B         C         D         E\n",
       "2017-03-02  1.251653  0.251616  0.915403  2.559955  0.344982\n",
       "2017-03-04 -0.781185  0.263107  0.643915  0.076195 -0.851108\n",
       "2017-03-05  0.188525  0.295498 -1.491953  0.941106  0.183708\n",
       "2017-03-06 -0.536118  0.867752  0.749676  0.519767 -0.900758\n",
       "2017-03-07  0.740928  1.408468 -0.896803  1.553678  0.721082"
      ]
     },
     "execution_count": 33,
     "metadata": {},
     "output_type": "execute_result"
    }
   ],
   "source": [
    "adf[df.D>0]"
   ]
  },
  {
   "cell_type": "markdown",
   "metadata": {},
   "source": [
    "这里的警告信息是，bool Series键将被重新索引来匹配DataFrame 因为建立adf的时候已经建立了一次boolean索引，所以会出现这样的警告信息"
   ]
  },
  {
   "cell_type": "code",
   "execution_count": 34,
   "metadata": {},
   "outputs": [
    {
     "data": {
      "text/html": [
       "<div>\n",
       "<style scoped>\n",
       "    .dataframe tbody tr th:only-of-type {\n",
       "        vertical-align: middle;\n",
       "    }\n",
       "\n",
       "    .dataframe tbody tr th {\n",
       "        vertical-align: top;\n",
       "    }\n",
       "\n",
       "    .dataframe thead th {\n",
       "        text-align: right;\n",
       "    }\n",
       "</style>\n",
       "<table border=\"1\" class=\"dataframe\">\n",
       "  <thead>\n",
       "    <tr style=\"text-align: right;\">\n",
       "      <th></th>\n",
       "      <th>A</th>\n",
       "      <th>B</th>\n",
       "      <th>C</th>\n",
       "      <th>D</th>\n",
       "      <th>E</th>\n",
       "    </tr>\n",
       "  </thead>\n",
       "  <tbody>\n",
       "    <tr>\n",
       "      <th>2017-03-01</th>\n",
       "      <td>NaN</td>\n",
       "      <td>0.449614</td>\n",
       "      <td>0.811967</td>\n",
       "      <td>NaN</td>\n",
       "      <td>0.374029</td>\n",
       "    </tr>\n",
       "    <tr>\n",
       "      <th>2017-03-02</th>\n",
       "      <td>1.251653</td>\n",
       "      <td>0.251616</td>\n",
       "      <td>0.915403</td>\n",
       "      <td>2.559955</td>\n",
       "      <td>0.344982</td>\n",
       "    </tr>\n",
       "    <tr>\n",
       "      <th>2017-03-03</th>\n",
       "      <td>NaN</td>\n",
       "      <td>NaN</td>\n",
       "      <td>0.646538</td>\n",
       "      <td>1.488460</td>\n",
       "      <td>0.452529</td>\n",
       "    </tr>\n",
       "    <tr>\n",
       "      <th>2017-03-04</th>\n",
       "      <td>NaN</td>\n",
       "      <td>0.263107</td>\n",
       "      <td>0.643915</td>\n",
       "      <td>0.076195</td>\n",
       "      <td>NaN</td>\n",
       "    </tr>\n",
       "    <tr>\n",
       "      <th>2017-03-05</th>\n",
       "      <td>0.188525</td>\n",
       "      <td>0.295498</td>\n",
       "      <td>NaN</td>\n",
       "      <td>0.941106</td>\n",
       "      <td>0.183708</td>\n",
       "    </tr>\n",
       "    <tr>\n",
       "      <th>2017-03-06</th>\n",
       "      <td>NaN</td>\n",
       "      <td>0.867752</td>\n",
       "      <td>0.749676</td>\n",
       "      <td>0.519767</td>\n",
       "      <td>NaN</td>\n",
       "    </tr>\n",
       "    <tr>\n",
       "      <th>2017-03-07</th>\n",
       "      <td>0.740928</td>\n",
       "      <td>1.408468</td>\n",
       "      <td>NaN</td>\n",
       "      <td>1.553678</td>\n",
       "      <td>0.721082</td>\n",
       "    </tr>\n",
       "    <tr>\n",
       "      <th>2017-03-08</th>\n",
       "      <td>NaN</td>\n",
       "      <td>NaN</td>\n",
       "      <td>0.381374</td>\n",
       "      <td>NaN</td>\n",
       "      <td>1.195350</td>\n",
       "    </tr>\n",
       "  </tbody>\n",
       "</table>\n",
       "</div>"
      ],
      "text/plain": [
       "                   A         B         C         D         E\n",
       "2017-03-01       NaN  0.449614  0.811967       NaN  0.374029\n",
       "2017-03-02  1.251653  0.251616  0.915403  2.559955  0.344982\n",
       "2017-03-03       NaN       NaN  0.646538  1.488460  0.452529\n",
       "2017-03-04       NaN  0.263107  0.643915  0.076195       NaN\n",
       "2017-03-05  0.188525  0.295498       NaN  0.941106  0.183708\n",
       "2017-03-06       NaN  0.867752  0.749676  0.519767       NaN\n",
       "2017-03-07  0.740928  1.408468       NaN  1.553678  0.721082\n",
       "2017-03-08       NaN       NaN  0.381374       NaN  1.195350"
      ]
     },
     "execution_count": 34,
     "metadata": {},
     "output_type": "execute_result"
    }
   ],
   "source": [
    "df[df>0]"
   ]
  },
  {
   "cell_type": "markdown",
   "metadata": {},
   "source": [
    "与上述不同的是，上述直接对表进行了删选，不符合条件的标注成NAN，因为这里其实本来是false，但是不能完整的不显示一行或者一列，所以那些空缺的地方就标注成了nan"
   ]
  },
  {
   "cell_type": "code",
   "execution_count": 35,
   "metadata": {},
   "outputs": [
    {
     "data": {
      "text/plain": [
       "2017-03-01    0.449614\n",
       "2017-03-02    0.251616\n",
       "2017-03-03   -0.610493\n",
       "2017-03-04    0.263107\n",
       "2017-03-05    0.295498\n",
       "2017-03-06    0.867752\n",
       "2017-03-07    1.408468\n",
       "2017-03-08   -0.345054\n",
       "Freq: D, Name: B, dtype: float64"
      ]
     },
     "execution_count": 35,
     "metadata": {},
     "output_type": "execute_result"
    }
   ],
   "source": [
    "df.B"
   ]
  },
  {
   "cell_type": "code",
   "execution_count": 36,
   "metadata": {},
   "outputs": [
    {
     "data": {
      "text/plain": [
       "2017-03-01     True\n",
       "2017-03-02     True\n",
       "2017-03-03    False\n",
       "2017-03-04     True\n",
       "2017-03-05     True\n",
       "2017-03-06     True\n",
       "2017-03-07     True\n",
       "2017-03-08    False\n",
       "Freq: D, Name: B, dtype: bool"
      ]
     },
     "execution_count": 36,
     "metadata": {},
     "output_type": "execute_result"
    }
   ],
   "source": [
    "df.B>0"
   ]
  },
  {
   "cell_type": "code",
   "execution_count": 37,
   "metadata": {},
   "outputs": [],
   "source": [
    "lista=[True,True,True,True,True,False,False,False]"
   ]
  },
  {
   "cell_type": "code",
   "execution_count": 38,
   "metadata": {},
   "outputs": [
    {
     "data": {
      "text/html": [
       "<div>\n",
       "<style scoped>\n",
       "    .dataframe tbody tr th:only-of-type {\n",
       "        vertical-align: middle;\n",
       "    }\n",
       "\n",
       "    .dataframe tbody tr th {\n",
       "        vertical-align: top;\n",
       "    }\n",
       "\n",
       "    .dataframe thead th {\n",
       "        text-align: right;\n",
       "    }\n",
       "</style>\n",
       "<table border=\"1\" class=\"dataframe\">\n",
       "  <thead>\n",
       "    <tr style=\"text-align: right;\">\n",
       "      <th></th>\n",
       "      <th>A</th>\n",
       "      <th>B</th>\n",
       "      <th>C</th>\n",
       "      <th>D</th>\n",
       "      <th>E</th>\n",
       "    </tr>\n",
       "  </thead>\n",
       "  <tbody>\n",
       "    <tr>\n",
       "      <th>2017-03-01</th>\n",
       "      <td>-0.170908</td>\n",
       "      <td>0.449614</td>\n",
       "      <td>0.811967</td>\n",
       "      <td>-0.380266</td>\n",
       "      <td>0.374029</td>\n",
       "    </tr>\n",
       "    <tr>\n",
       "      <th>2017-03-02</th>\n",
       "      <td>1.251653</td>\n",
       "      <td>0.251616</td>\n",
       "      <td>0.915403</td>\n",
       "      <td>2.559955</td>\n",
       "      <td>0.344982</td>\n",
       "    </tr>\n",
       "    <tr>\n",
       "      <th>2017-03-03</th>\n",
       "      <td>-1.298248</td>\n",
       "      <td>-0.610493</td>\n",
       "      <td>0.646538</td>\n",
       "      <td>1.488460</td>\n",
       "      <td>0.452529</td>\n",
       "    </tr>\n",
       "    <tr>\n",
       "      <th>2017-03-04</th>\n",
       "      <td>-0.781185</td>\n",
       "      <td>0.263107</td>\n",
       "      <td>0.643915</td>\n",
       "      <td>0.076195</td>\n",
       "      <td>-0.851108</td>\n",
       "    </tr>\n",
       "    <tr>\n",
       "      <th>2017-03-05</th>\n",
       "      <td>0.188525</td>\n",
       "      <td>0.295498</td>\n",
       "      <td>-1.491953</td>\n",
       "      <td>0.941106</td>\n",
       "      <td>0.183708</td>\n",
       "    </tr>\n",
       "  </tbody>\n",
       "</table>\n",
       "</div>"
      ],
      "text/plain": [
       "                   A         B         C         D         E\n",
       "2017-03-01 -0.170908  0.449614  0.811967 -0.380266  0.374029\n",
       "2017-03-02  1.251653  0.251616  0.915403  2.559955  0.344982\n",
       "2017-03-03 -1.298248 -0.610493  0.646538  1.488460  0.452529\n",
       "2017-03-04 -0.781185  0.263107  0.643915  0.076195 -0.851108\n",
       "2017-03-05  0.188525  0.295498 -1.491953  0.941106  0.183708"
      ]
     },
     "execution_count": 38,
     "metadata": {},
     "output_type": "execute_result"
    }
   ],
   "source": [
    "df[lista]"
   ]
  },
  {
   "cell_type": "markdown",
   "metadata": {},
   "source": [
    "注意，这里不能直接写df[True,True,True,True,True,False,False,False]\n",
    "会报错，KeyError\n",
    "所以实际远离还是控制每行是否显示\n",
    "df[][] 第一个中括号里是列，第二个中括号是行 应该是吧"
   ]
  },
  {
   "cell_type": "code",
   "execution_count": 39,
   "metadata": {},
   "outputs": [
    {
     "data": {
      "text/html": [
       "<div>\n",
       "<style scoped>\n",
       "    .dataframe tbody tr th:only-of-type {\n",
       "        vertical-align: middle;\n",
       "    }\n",
       "\n",
       "    .dataframe tbody tr th {\n",
       "        vertical-align: top;\n",
       "    }\n",
       "\n",
       "    .dataframe thead th {\n",
       "        text-align: right;\n",
       "    }\n",
       "</style>\n",
       "<table border=\"1\" class=\"dataframe\">\n",
       "  <thead>\n",
       "    <tr style=\"text-align: right;\">\n",
       "      <th></th>\n",
       "      <th>A</th>\n",
       "      <th>B</th>\n",
       "      <th>C</th>\n",
       "      <th>D</th>\n",
       "      <th>E</th>\n",
       "    </tr>\n",
       "  </thead>\n",
       "  <tbody>\n",
       "  </tbody>\n",
       "</table>\n",
       "</div>"
      ],
      "text/plain": [
       "Empty DataFrame\n",
       "Columns: [A, B, C, D, E]\n",
       "Index: []"
      ]
     },
     "execution_count": 39,
     "metadata": {},
     "output_type": "execute_result"
    }
   ],
   "source": [
    "df[df[\"E\"].isin([1,2])]"
   ]
  },
  {
   "cell_type": "markdown",
   "metadata": {},
   "source": [
    "看不懂的时候就一步一步分解咯"
   ]
  },
  {
   "cell_type": "code",
   "execution_count": 40,
   "metadata": {},
   "outputs": [
    {
     "data": {
      "text/plain": [
       "2017-03-01    False\n",
       "2017-03-02    False\n",
       "2017-03-03    False\n",
       "2017-03-04    False\n",
       "2017-03-05    False\n",
       "2017-03-06    False\n",
       "2017-03-07    False\n",
       "2017-03-08    False\n",
       "Freq: D, Name: E, dtype: bool"
      ]
     },
     "execution_count": 40,
     "metadata": {},
     "output_type": "execute_result"
    }
   ],
   "source": [
    "df[\"E\"].isin([1,2])"
   ]
  },
  {
   "cell_type": "markdown",
   "metadata": {},
   "source": [
    "DataFrame.isin(values)[source]\n",
    "* Return boolean DataFrame showing whether each element in the DataFrame is contained in values.\n",
    "* 返回布尔值类型的DataFrame表示DF中的元素是否包含在values中\n",
    "* Parameters:\tvalues : iterable, Series, DataFrame or dictionary\n",
    "\n",
    "The result will only be true at a location if all the labels match. If values is a Series, that’s the index. If values is a dictionary, the keys must be the column names, which must match. If values is a DataFrame, then both the index and column labels must match.\n",
    "\n",
    "Returns:\t\n",
    "DataFrame of booleans"
   ]
  },
  {
   "cell_type": "code",
   "execution_count": 41,
   "metadata": {},
   "outputs": [],
   "source": [
    "dft = pd.DataFrame({'A': [1, 2, 3], 'B': ['a', 'b', 'f']})"
   ]
  },
  {
   "cell_type": "code",
   "execution_count": 42,
   "metadata": {},
   "outputs": [
    {
     "data": {
      "text/html": [
       "<div>\n",
       "<style scoped>\n",
       "    .dataframe tbody tr th:only-of-type {\n",
       "        vertical-align: middle;\n",
       "    }\n",
       "\n",
       "    .dataframe tbody tr th {\n",
       "        vertical-align: top;\n",
       "    }\n",
       "\n",
       "    .dataframe thead th {\n",
       "        text-align: right;\n",
       "    }\n",
       "</style>\n",
       "<table border=\"1\" class=\"dataframe\">\n",
       "  <thead>\n",
       "    <tr style=\"text-align: right;\">\n",
       "      <th></th>\n",
       "      <th>A</th>\n",
       "      <th>B</th>\n",
       "    </tr>\n",
       "  </thead>\n",
       "  <tbody>\n",
       "    <tr>\n",
       "      <th>0</th>\n",
       "      <td>True</td>\n",
       "      <td>True</td>\n",
       "    </tr>\n",
       "    <tr>\n",
       "      <th>1</th>\n",
       "      <td>False</td>\n",
       "      <td>False</td>\n",
       "    </tr>\n",
       "    <tr>\n",
       "      <th>2</th>\n",
       "      <td>True</td>\n",
       "      <td>False</td>\n",
       "    </tr>\n",
       "  </tbody>\n",
       "</table>\n",
       "</div>"
      ],
      "text/plain": [
       "       A      B\n",
       "0   True   True\n",
       "1  False  False\n",
       "2   True  False"
      ]
     },
     "execution_count": 42,
     "metadata": {},
     "output_type": "execute_result"
    }
   ],
   "source": [
    "dft.isin([1, 3, 12, 'a'])"
   ]
  },
  {
   "cell_type": "markdown",
   "metadata": {},
   "source": [
    "# 属性设置 set/更新值"
   ]
  },
  {
   "cell_type": "code",
   "execution_count": 43,
   "metadata": {},
   "outputs": [],
   "source": [
    "s1=pd.Series(list(range(10,18)),index=pd.date_range(\"20170301\",periods=8))"
   ]
  },
  {
   "cell_type": "markdown",
   "metadata": {},
   "source": [
    "这里曾经报错 'list' object is not callable\n",
    "因为上文中曾经定义了一个列表叫list 后来改名为lista ，但是依然没有解决，重启kernal，也就是点 那个环状箭头的刷新按钮 全部重头执行一遍，就好了"
   ]
  },
  {
   "cell_type": "code",
   "execution_count": 44,
   "metadata": {},
   "outputs": [
    {
     "name": "stderr",
     "output_type": "stream",
     "text": [
      "D:\\anaconda\\lib\\site-packages\\ipykernel_launcher.py:1: UserWarning: Pandas doesn't allow columns to be created via a new attribute name - see https://pandas.pydata.org/pandas-docs/stable/indexing.html#attribute-access\n",
      "  \"\"\"Entry point for launching an IPython kernel.\n"
     ]
    }
   ],
   "source": [
    "df.F=s1"
   ]
  },
  {
   "cell_type": "code",
   "execution_count": 45,
   "metadata": {},
   "outputs": [
    {
     "data": {
      "text/html": [
       "<div>\n",
       "<style scoped>\n",
       "    .dataframe tbody tr th:only-of-type {\n",
       "        vertical-align: middle;\n",
       "    }\n",
       "\n",
       "    .dataframe tbody tr th {\n",
       "        vertical-align: top;\n",
       "    }\n",
       "\n",
       "    .dataframe thead th {\n",
       "        text-align: right;\n",
       "    }\n",
       "</style>\n",
       "<table border=\"1\" class=\"dataframe\">\n",
       "  <thead>\n",
       "    <tr style=\"text-align: right;\">\n",
       "      <th></th>\n",
       "      <th>A</th>\n",
       "      <th>B</th>\n",
       "      <th>C</th>\n",
       "      <th>D</th>\n",
       "      <th>E</th>\n",
       "    </tr>\n",
       "  </thead>\n",
       "  <tbody>\n",
       "    <tr>\n",
       "      <th>2017-03-01</th>\n",
       "      <td>-0.170908</td>\n",
       "      <td>0.449614</td>\n",
       "      <td>0.811967</td>\n",
       "      <td>-0.380266</td>\n",
       "      <td>0.374029</td>\n",
       "    </tr>\n",
       "    <tr>\n",
       "      <th>2017-03-02</th>\n",
       "      <td>1.251653</td>\n",
       "      <td>0.251616</td>\n",
       "      <td>0.915403</td>\n",
       "      <td>2.559955</td>\n",
       "      <td>0.344982</td>\n",
       "    </tr>\n",
       "    <tr>\n",
       "      <th>2017-03-03</th>\n",
       "      <td>-1.298248</td>\n",
       "      <td>-0.610493</td>\n",
       "      <td>0.646538</td>\n",
       "      <td>1.488460</td>\n",
       "      <td>0.452529</td>\n",
       "    </tr>\n",
       "    <tr>\n",
       "      <th>2017-03-04</th>\n",
       "      <td>-0.781185</td>\n",
       "      <td>0.263107</td>\n",
       "      <td>0.643915</td>\n",
       "      <td>0.076195</td>\n",
       "      <td>-0.851108</td>\n",
       "    </tr>\n",
       "    <tr>\n",
       "      <th>2017-03-05</th>\n",
       "      <td>0.188525</td>\n",
       "      <td>0.295498</td>\n",
       "      <td>-1.491953</td>\n",
       "      <td>0.941106</td>\n",
       "      <td>0.183708</td>\n",
       "    </tr>\n",
       "    <tr>\n",
       "      <th>2017-03-06</th>\n",
       "      <td>-0.536118</td>\n",
       "      <td>0.867752</td>\n",
       "      <td>0.749676</td>\n",
       "      <td>0.519767</td>\n",
       "      <td>-0.900758</td>\n",
       "    </tr>\n",
       "    <tr>\n",
       "      <th>2017-03-07</th>\n",
       "      <td>0.740928</td>\n",
       "      <td>1.408468</td>\n",
       "      <td>-0.896803</td>\n",
       "      <td>1.553678</td>\n",
       "      <td>0.721082</td>\n",
       "    </tr>\n",
       "    <tr>\n",
       "      <th>2017-03-08</th>\n",
       "      <td>-2.558205</td>\n",
       "      <td>-0.345054</td>\n",
       "      <td>0.381374</td>\n",
       "      <td>-0.635037</td>\n",
       "      <td>1.195350</td>\n",
       "    </tr>\n",
       "  </tbody>\n",
       "</table>\n",
       "</div>"
      ],
      "text/plain": [
       "                   A         B         C         D         E\n",
       "2017-03-01 -0.170908  0.449614  0.811967 -0.380266  0.374029\n",
       "2017-03-02  1.251653  0.251616  0.915403  2.559955  0.344982\n",
       "2017-03-03 -1.298248 -0.610493  0.646538  1.488460  0.452529\n",
       "2017-03-04 -0.781185  0.263107  0.643915  0.076195 -0.851108\n",
       "2017-03-05  0.188525  0.295498 -1.491953  0.941106  0.183708\n",
       "2017-03-06 -0.536118  0.867752  0.749676  0.519767 -0.900758\n",
       "2017-03-07  0.740928  1.408468 -0.896803  1.553678  0.721082\n",
       "2017-03-08 -2.558205 -0.345054  0.381374 -0.635037  1.195350"
      ]
     },
     "execution_count": 45,
     "metadata": {},
     "output_type": "execute_result"
    }
   ],
   "source": [
    "df"
   ]
  },
  {
   "cell_type": "markdown",
   "metadata": {},
   "source": [
    "有时候会出现一些警告信息，就是在对DataFrame进行与结构相关的修改时，会有一些索引要更新，提示一下，这种警告不用太理会\n",
    "* 除了上面那种方法，刚刚学的at loc等都可以直接使用 来进行值的更改"
   ]
  },
  {
   "cell_type": "code",
   "execution_count": 46,
   "metadata": {},
   "outputs": [],
   "source": [
    "df.loc[:,\"D\"]=np.array([4]*len(df))"
   ]
  },
  {
   "cell_type": "markdown",
   "metadata": {},
   "source": [
    "len(df)是index的长度，多少行，直接用list× 也就是类似追加，或者说堆叠，\n",
    "得到\n",
    "* [4][4][4][4]"
   ]
  },
  {
   "cell_type": "code",
   "execution_count": 47,
   "metadata": {},
   "outputs": [
    {
     "data": {
      "text/html": [
       "<div>\n",
       "<style scoped>\n",
       "    .dataframe tbody tr th:only-of-type {\n",
       "        vertical-align: middle;\n",
       "    }\n",
       "\n",
       "    .dataframe tbody tr th {\n",
       "        vertical-align: top;\n",
       "    }\n",
       "\n",
       "    .dataframe thead th {\n",
       "        text-align: right;\n",
       "    }\n",
       "</style>\n",
       "<table border=\"1\" class=\"dataframe\">\n",
       "  <thead>\n",
       "    <tr style=\"text-align: right;\">\n",
       "      <th></th>\n",
       "      <th>A</th>\n",
       "      <th>B</th>\n",
       "      <th>C</th>\n",
       "      <th>D</th>\n",
       "      <th>E</th>\n",
       "    </tr>\n",
       "  </thead>\n",
       "  <tbody>\n",
       "    <tr>\n",
       "      <th>2017-03-01</th>\n",
       "      <td>-0.170908</td>\n",
       "      <td>0.449614</td>\n",
       "      <td>0.811967</td>\n",
       "      <td>4</td>\n",
       "      <td>0.374029</td>\n",
       "    </tr>\n",
       "    <tr>\n",
       "      <th>2017-03-02</th>\n",
       "      <td>1.251653</td>\n",
       "      <td>0.251616</td>\n",
       "      <td>0.915403</td>\n",
       "      <td>4</td>\n",
       "      <td>0.344982</td>\n",
       "    </tr>\n",
       "    <tr>\n",
       "      <th>2017-03-03</th>\n",
       "      <td>-1.298248</td>\n",
       "      <td>-0.610493</td>\n",
       "      <td>0.646538</td>\n",
       "      <td>4</td>\n",
       "      <td>0.452529</td>\n",
       "    </tr>\n",
       "    <tr>\n",
       "      <th>2017-03-04</th>\n",
       "      <td>-0.781185</td>\n",
       "      <td>0.263107</td>\n",
       "      <td>0.643915</td>\n",
       "      <td>4</td>\n",
       "      <td>-0.851108</td>\n",
       "    </tr>\n",
       "    <tr>\n",
       "      <th>2017-03-05</th>\n",
       "      <td>0.188525</td>\n",
       "      <td>0.295498</td>\n",
       "      <td>-1.491953</td>\n",
       "      <td>4</td>\n",
       "      <td>0.183708</td>\n",
       "    </tr>\n",
       "    <tr>\n",
       "      <th>2017-03-06</th>\n",
       "      <td>-0.536118</td>\n",
       "      <td>0.867752</td>\n",
       "      <td>0.749676</td>\n",
       "      <td>4</td>\n",
       "      <td>-0.900758</td>\n",
       "    </tr>\n",
       "    <tr>\n",
       "      <th>2017-03-07</th>\n",
       "      <td>0.740928</td>\n",
       "      <td>1.408468</td>\n",
       "      <td>-0.896803</td>\n",
       "      <td>4</td>\n",
       "      <td>0.721082</td>\n",
       "    </tr>\n",
       "    <tr>\n",
       "      <th>2017-03-08</th>\n",
       "      <td>-2.558205</td>\n",
       "      <td>-0.345054</td>\n",
       "      <td>0.381374</td>\n",
       "      <td>4</td>\n",
       "      <td>1.195350</td>\n",
       "    </tr>\n",
       "  </tbody>\n",
       "</table>\n",
       "</div>"
      ],
      "text/plain": [
       "                   A         B         C  D         E\n",
       "2017-03-01 -0.170908  0.449614  0.811967  4  0.374029\n",
       "2017-03-02  1.251653  0.251616  0.915403  4  0.344982\n",
       "2017-03-03 -1.298248 -0.610493  0.646538  4  0.452529\n",
       "2017-03-04 -0.781185  0.263107  0.643915  4 -0.851108\n",
       "2017-03-05  0.188525  0.295498 -1.491953  4  0.183708\n",
       "2017-03-06 -0.536118  0.867752  0.749676  4 -0.900758\n",
       "2017-03-07  0.740928  1.408468 -0.896803  4  0.721082\n",
       "2017-03-08 -2.558205 -0.345054  0.381374  4  1.195350"
      ]
     },
     "execution_count": 47,
     "metadata": {},
     "output_type": "execute_result"
    }
   ],
   "source": [
    "df"
   ]
  },
  {
   "cell_type": "code",
   "execution_count": 48,
   "metadata": {},
   "outputs": [],
   "source": [
    "df2=df.copy()"
   ]
  },
  {
   "cell_type": "code",
   "execution_count": 49,
   "metadata": {},
   "outputs": [],
   "source": [
    "df2[df2>0]=-df2"
   ]
  },
  {
   "cell_type": "code",
   "execution_count": 50,
   "metadata": {},
   "outputs": [
    {
     "data": {
      "text/html": [
       "<div>\n",
       "<style scoped>\n",
       "    .dataframe tbody tr th:only-of-type {\n",
       "        vertical-align: middle;\n",
       "    }\n",
       "\n",
       "    .dataframe tbody tr th {\n",
       "        vertical-align: top;\n",
       "    }\n",
       "\n",
       "    .dataframe thead th {\n",
       "        text-align: right;\n",
       "    }\n",
       "</style>\n",
       "<table border=\"1\" class=\"dataframe\">\n",
       "  <thead>\n",
       "    <tr style=\"text-align: right;\">\n",
       "      <th></th>\n",
       "      <th>A</th>\n",
       "      <th>B</th>\n",
       "      <th>C</th>\n",
       "      <th>D</th>\n",
       "      <th>E</th>\n",
       "    </tr>\n",
       "  </thead>\n",
       "  <tbody>\n",
       "    <tr>\n",
       "      <th>2017-03-01</th>\n",
       "      <td>-0.170908</td>\n",
       "      <td>-0.449614</td>\n",
       "      <td>-0.811967</td>\n",
       "      <td>-4</td>\n",
       "      <td>-0.374029</td>\n",
       "    </tr>\n",
       "    <tr>\n",
       "      <th>2017-03-02</th>\n",
       "      <td>-1.251653</td>\n",
       "      <td>-0.251616</td>\n",
       "      <td>-0.915403</td>\n",
       "      <td>-4</td>\n",
       "      <td>-0.344982</td>\n",
       "    </tr>\n",
       "    <tr>\n",
       "      <th>2017-03-03</th>\n",
       "      <td>-1.298248</td>\n",
       "      <td>-0.610493</td>\n",
       "      <td>-0.646538</td>\n",
       "      <td>-4</td>\n",
       "      <td>-0.452529</td>\n",
       "    </tr>\n",
       "    <tr>\n",
       "      <th>2017-03-04</th>\n",
       "      <td>-0.781185</td>\n",
       "      <td>-0.263107</td>\n",
       "      <td>-0.643915</td>\n",
       "      <td>-4</td>\n",
       "      <td>-0.851108</td>\n",
       "    </tr>\n",
       "    <tr>\n",
       "      <th>2017-03-05</th>\n",
       "      <td>-0.188525</td>\n",
       "      <td>-0.295498</td>\n",
       "      <td>-1.491953</td>\n",
       "      <td>-4</td>\n",
       "      <td>-0.183708</td>\n",
       "    </tr>\n",
       "    <tr>\n",
       "      <th>2017-03-06</th>\n",
       "      <td>-0.536118</td>\n",
       "      <td>-0.867752</td>\n",
       "      <td>-0.749676</td>\n",
       "      <td>-4</td>\n",
       "      <td>-0.900758</td>\n",
       "    </tr>\n",
       "    <tr>\n",
       "      <th>2017-03-07</th>\n",
       "      <td>-0.740928</td>\n",
       "      <td>-1.408468</td>\n",
       "      <td>-0.896803</td>\n",
       "      <td>-4</td>\n",
       "      <td>-0.721082</td>\n",
       "    </tr>\n",
       "    <tr>\n",
       "      <th>2017-03-08</th>\n",
       "      <td>-2.558205</td>\n",
       "      <td>-0.345054</td>\n",
       "      <td>-0.381374</td>\n",
       "      <td>-4</td>\n",
       "      <td>-1.195350</td>\n",
       "    </tr>\n",
       "  </tbody>\n",
       "</table>\n",
       "</div>"
      ],
      "text/plain": [
       "                   A         B         C  D         E\n",
       "2017-03-01 -0.170908 -0.449614 -0.811967 -4 -0.374029\n",
       "2017-03-02 -1.251653 -0.251616 -0.915403 -4 -0.344982\n",
       "2017-03-03 -1.298248 -0.610493 -0.646538 -4 -0.452529\n",
       "2017-03-04 -0.781185 -0.263107 -0.643915 -4 -0.851108\n",
       "2017-03-05 -0.188525 -0.295498 -1.491953 -4 -0.183708\n",
       "2017-03-06 -0.536118 -0.867752 -0.749676 -4 -0.900758\n",
       "2017-03-07 -0.740928 -1.408468 -0.896803 -4 -0.721082\n",
       "2017-03-08 -2.558205 -0.345054 -0.381374 -4 -1.195350"
      ]
     },
     "execution_count": 50,
     "metadata": {},
     "output_type": "execute_result"
    }
   ],
   "source": [
    "df2"
   ]
  },
  {
   "cell_type": "markdown",
   "metadata": {},
   "source": [
    "先拷贝了一份，然后把df2中所有大于0的数变成负数，也就是把这个df2整个变成负的，正数符号改变，负数符号不变"
   ]
  },
  {
   "cell_type": "markdown",
   "metadata": {},
   "source": [
    "# miss value 缺失值"
   ]
  },
  {
   "cell_type": "code",
   "execution_count": 55,
   "metadata": {},
   "outputs": [],
   "source": [
    "df1=df.reindex(index=dates[:4],columns=list(\"ABCD\")+[\"G\"])"
   ]
  },
  {
   "cell_type": "markdown",
   "metadata": {},
   "source": [
    "遇到了一个问题，在重新打开一个ipynb文件后，为了省事，狂按shift+enter\n",
    "导致下面多了很多空白cell，然后在输入命令的时候 （）和[] \"\" 这些会自动定位光标到中间，但是在输入东西之后，右侧符号会消失\n",
    "然后我删除了多余的空白 cell 恢复正常"
   ]
  },
  {
   "cell_type": "code",
   "execution_count": 56,
   "metadata": {},
   "outputs": [
    {
     "data": {
      "text/html": [
       "<div>\n",
       "<style scoped>\n",
       "    .dataframe tbody tr th:only-of-type {\n",
       "        vertical-align: middle;\n",
       "    }\n",
       "\n",
       "    .dataframe tbody tr th {\n",
       "        vertical-align: top;\n",
       "    }\n",
       "\n",
       "    .dataframe thead th {\n",
       "        text-align: right;\n",
       "    }\n",
       "</style>\n",
       "<table border=\"1\" class=\"dataframe\">\n",
       "  <thead>\n",
       "    <tr style=\"text-align: right;\">\n",
       "      <th></th>\n",
       "      <th>A</th>\n",
       "      <th>B</th>\n",
       "      <th>C</th>\n",
       "      <th>D</th>\n",
       "      <th>G</th>\n",
       "    </tr>\n",
       "  </thead>\n",
       "  <tbody>\n",
       "    <tr>\n",
       "      <th>2017-03-01</th>\n",
       "      <td>-0.170908</td>\n",
       "      <td>0.449614</td>\n",
       "      <td>0.811967</td>\n",
       "      <td>4</td>\n",
       "      <td>NaN</td>\n",
       "    </tr>\n",
       "    <tr>\n",
       "      <th>2017-03-02</th>\n",
       "      <td>1.251653</td>\n",
       "      <td>0.251616</td>\n",
       "      <td>0.915403</td>\n",
       "      <td>4</td>\n",
       "      <td>NaN</td>\n",
       "    </tr>\n",
       "    <tr>\n",
       "      <th>2017-03-03</th>\n",
       "      <td>-1.298248</td>\n",
       "      <td>-0.610493</td>\n",
       "      <td>0.646538</td>\n",
       "      <td>4</td>\n",
       "      <td>NaN</td>\n",
       "    </tr>\n",
       "    <tr>\n",
       "      <th>2017-03-04</th>\n",
       "      <td>-0.781185</td>\n",
       "      <td>0.263107</td>\n",
       "      <td>0.643915</td>\n",
       "      <td>4</td>\n",
       "      <td>NaN</td>\n",
       "    </tr>\n",
       "  </tbody>\n",
       "</table>\n",
       "</div>"
      ],
      "text/plain": [
       "                   A         B         C  D   G\n",
       "2017-03-01 -0.170908  0.449614  0.811967  4 NaN\n",
       "2017-03-02  1.251653  0.251616  0.915403  4 NaN\n",
       "2017-03-03 -1.298248 -0.610493  0.646538  4 NaN\n",
       "2017-03-04 -0.781185  0.263107  0.643915  4 NaN"
      ]
     },
     "execution_count": 56,
     "metadata": {},
     "output_type": "execute_result"
    }
   ],
   "source": [
    "df1"
   ]
  },
  {
   "cell_type": "code",
   "execution_count": 57,
   "metadata": {},
   "outputs": [],
   "source": [
    "df1.loc[dates[0]:dates[1],\"G\"]=1"
   ]
  },
  {
   "cell_type": "code",
   "execution_count": 58,
   "metadata": {},
   "outputs": [
    {
     "data": {
      "text/html": [
       "<div>\n",
       "<style scoped>\n",
       "    .dataframe tbody tr th:only-of-type {\n",
       "        vertical-align: middle;\n",
       "    }\n",
       "\n",
       "    .dataframe tbody tr th {\n",
       "        vertical-align: top;\n",
       "    }\n",
       "\n",
       "    .dataframe thead th {\n",
       "        text-align: right;\n",
       "    }\n",
       "</style>\n",
       "<table border=\"1\" class=\"dataframe\">\n",
       "  <thead>\n",
       "    <tr style=\"text-align: right;\">\n",
       "      <th></th>\n",
       "      <th>A</th>\n",
       "      <th>B</th>\n",
       "      <th>C</th>\n",
       "      <th>D</th>\n",
       "      <th>G</th>\n",
       "    </tr>\n",
       "  </thead>\n",
       "  <tbody>\n",
       "    <tr>\n",
       "      <th>2017-03-01</th>\n",
       "      <td>-0.170908</td>\n",
       "      <td>0.449614</td>\n",
       "      <td>0.811967</td>\n",
       "      <td>4</td>\n",
       "      <td>1.0</td>\n",
       "    </tr>\n",
       "    <tr>\n",
       "      <th>2017-03-02</th>\n",
       "      <td>1.251653</td>\n",
       "      <td>0.251616</td>\n",
       "      <td>0.915403</td>\n",
       "      <td>4</td>\n",
       "      <td>1.0</td>\n",
       "    </tr>\n",
       "    <tr>\n",
       "      <th>2017-03-03</th>\n",
       "      <td>-1.298248</td>\n",
       "      <td>-0.610493</td>\n",
       "      <td>0.646538</td>\n",
       "      <td>4</td>\n",
       "      <td>NaN</td>\n",
       "    </tr>\n",
       "    <tr>\n",
       "      <th>2017-03-04</th>\n",
       "      <td>-0.781185</td>\n",
       "      <td>0.263107</td>\n",
       "      <td>0.643915</td>\n",
       "      <td>4</td>\n",
       "      <td>NaN</td>\n",
       "    </tr>\n",
       "  </tbody>\n",
       "</table>\n",
       "</div>"
      ],
      "text/plain": [
       "                   A         B         C  D    G\n",
       "2017-03-01 -0.170908  0.449614  0.811967  4  1.0\n",
       "2017-03-02  1.251653  0.251616  0.915403  4  1.0\n",
       "2017-03-03 -1.298248 -0.610493  0.646538  4  NaN\n",
       "2017-03-04 -0.781185  0.263107  0.643915  4  NaN"
      ]
     },
     "execution_count": 58,
     "metadata": {},
     "output_type": "execute_result"
    }
   ],
   "source": [
    "df1"
   ]
  },
  {
   "cell_type": "code",
   "execution_count": 59,
   "metadata": {},
   "outputs": [
    {
     "data": {
      "text/html": [
       "<div>\n",
       "<style scoped>\n",
       "    .dataframe tbody tr th:only-of-type {\n",
       "        vertical-align: middle;\n",
       "    }\n",
       "\n",
       "    .dataframe tbody tr th {\n",
       "        vertical-align: top;\n",
       "    }\n",
       "\n",
       "    .dataframe thead th {\n",
       "        text-align: right;\n",
       "    }\n",
       "</style>\n",
       "<table border=\"1\" class=\"dataframe\">\n",
       "  <thead>\n",
       "    <tr style=\"text-align: right;\">\n",
       "      <th></th>\n",
       "      <th>A</th>\n",
       "      <th>B</th>\n",
       "      <th>C</th>\n",
       "      <th>D</th>\n",
       "      <th>G</th>\n",
       "    </tr>\n",
       "  </thead>\n",
       "  <tbody>\n",
       "    <tr>\n",
       "      <th>2017-03-01</th>\n",
       "      <td>-0.170908</td>\n",
       "      <td>0.449614</td>\n",
       "      <td>0.811967</td>\n",
       "      <td>4</td>\n",
       "      <td>1.0</td>\n",
       "    </tr>\n",
       "    <tr>\n",
       "      <th>2017-03-02</th>\n",
       "      <td>1.251653</td>\n",
       "      <td>0.251616</td>\n",
       "      <td>0.915403</td>\n",
       "      <td>4</td>\n",
       "      <td>1.0</td>\n",
       "    </tr>\n",
       "  </tbody>\n",
       "</table>\n",
       "</div>"
      ],
      "text/plain": [
       "                   A         B         C  D    G\n",
       "2017-03-01 -0.170908  0.449614  0.811967  4  1.0\n",
       "2017-03-02  1.251653  0.251616  0.915403  4  1.0"
      ]
     },
     "execution_count": 59,
     "metadata": {},
     "output_type": "execute_result"
    }
   ],
   "source": [
    "df1.dropna()"
   ]
  },
  {
   "cell_type": "markdown",
   "metadata": {},
   "source": [
    "df.dropna()这个函数处理缺失值的方式是直接删除，还有一种方法是\n",
    "scipy中的插值"
   ]
  },
  {
   "cell_type": "code",
   "execution_count": 63,
   "metadata": {},
   "outputs": [
    {
     "data": {
      "text/html": [
       "<div>\n",
       "<style scoped>\n",
       "    .dataframe tbody tr th:only-of-type {\n",
       "        vertical-align: middle;\n",
       "    }\n",
       "\n",
       "    .dataframe tbody tr th {\n",
       "        vertical-align: top;\n",
       "    }\n",
       "\n",
       "    .dataframe thead th {\n",
       "        text-align: right;\n",
       "    }\n",
       "</style>\n",
       "<table border=\"1\" class=\"dataframe\">\n",
       "  <thead>\n",
       "    <tr style=\"text-align: right;\">\n",
       "      <th></th>\n",
       "      <th>A</th>\n",
       "      <th>B</th>\n",
       "      <th>C</th>\n",
       "      <th>D</th>\n",
       "      <th>G</th>\n",
       "    </tr>\n",
       "  </thead>\n",
       "  <tbody>\n",
       "    <tr>\n",
       "      <th>2017-03-01</th>\n",
       "      <td>-0.170908</td>\n",
       "      <td>0.449614</td>\n",
       "      <td>0.811967</td>\n",
       "      <td>4</td>\n",
       "      <td>1.0</td>\n",
       "    </tr>\n",
       "    <tr>\n",
       "      <th>2017-03-02</th>\n",
       "      <td>1.251653</td>\n",
       "      <td>0.251616</td>\n",
       "      <td>0.915403</td>\n",
       "      <td>4</td>\n",
       "      <td>1.0</td>\n",
       "    </tr>\n",
       "    <tr>\n",
       "      <th>2017-03-03</th>\n",
       "      <td>-1.298248</td>\n",
       "      <td>-0.610493</td>\n",
       "      <td>0.646538</td>\n",
       "      <td>4</td>\n",
       "      <td>1.0</td>\n",
       "    </tr>\n",
       "    <tr>\n",
       "      <th>2017-03-04</th>\n",
       "      <td>-0.781185</td>\n",
       "      <td>0.263107</td>\n",
       "      <td>0.643915</td>\n",
       "      <td>4</td>\n",
       "      <td>1.0</td>\n",
       "    </tr>\n",
       "  </tbody>\n",
       "</table>\n",
       "</div>"
      ],
      "text/plain": [
       "                   A         B         C  D    G\n",
       "2017-03-01 -0.170908  0.449614  0.811967  4  1.0\n",
       "2017-03-02  1.251653  0.251616  0.915403  4  1.0\n",
       "2017-03-03 -1.298248 -0.610493  0.646538  4  1.0\n",
       "2017-03-04 -0.781185  0.263107  0.643915  4  1.0"
      ]
     },
     "execution_count": 63,
     "metadata": {},
     "output_type": "execute_result"
    }
   ],
   "source": [
    "df1.fillna(value=1)"
   ]
  },
  {
   "cell_type": "markdown",
   "metadata": {},
   "source": [
    "这个是填充函数，填充nan为特定的值，但是只能是统一填为一个值"
   ]
  },
  {
   "cell_type": "markdown",
   "metadata": {},
   "source": [
    "# 表的拼接，统计指标和特性"
   ]
  },
  {
   "cell_type": "code",
   "execution_count": 64,
   "metadata": {},
   "outputs": [
    {
     "data": {
      "text/plain": [
       "A   -0.395445\n",
       "B    0.322564\n",
       "C    0.220015\n",
       "D    4.000000\n",
       "E    0.189977\n",
       "dtype: float64"
      ]
     },
     "execution_count": 64,
     "metadata": {},
     "output_type": "execute_result"
    }
   ],
   "source": [
    "df.mean()"
   ]
  },
  {
   "cell_type": "markdown",
   "metadata": {},
   "source": [
    "这里的函数就很人性化，因为数据分析肯定是针对存储的数据，而一般 一列 代表一个特征，所以求列平均"
   ]
  },
  {
   "cell_type": "code",
   "execution_count": 65,
   "metadata": {},
   "outputs": [
    {
     "data": {
      "text/plain": [
       "A    1.436698\n",
       "B    0.402596\n",
       "C    0.811469\n",
       "D    0.000000\n",
       "E    0.527612\n",
       "dtype: float64"
      ]
     },
     "execution_count": 65,
     "metadata": {},
     "output_type": "execute_result"
    }
   ],
   "source": [
    "df.var()"
   ]
  },
  {
   "cell_type": "markdown",
   "metadata": {},
   "source": [
    "* var() 求方差（variance）\n",
    "* 标准差 std（）\n",
    "* 标准差是方差的算术平方根"
   ]
  },
  {
   "cell_type": "code",
   "execution_count": 66,
   "metadata": {},
   "outputs": [
    {
     "data": {
      "text/plain": [
       "A    1.198623\n",
       "B    0.634504\n",
       "C    0.900816\n",
       "D    0.000000\n",
       "E    0.726369\n",
       "dtype: float64"
      ]
     },
     "execution_count": 66,
     "metadata": {},
     "output_type": "execute_result"
    }
   ],
   "source": [
    "df.std()"
   ]
  },
  {
   "cell_type": "code",
   "execution_count": 69,
   "metadata": {},
   "outputs": [
    {
     "data": {
      "text/plain": [
       "A    1.198623\n",
       "B    0.634504\n",
       "C    0.900816\n",
       "D    0.000000\n",
       "E    0.726369\n",
       "dtype: float64"
      ]
     },
     "execution_count": 69,
     "metadata": {},
     "output_type": "execute_result"
    }
   ],
   "source": [
    "np.sqrt(df.var())"
   ]
  },
  {
   "cell_type": "markdown",
   "metadata": {},
   "source": [
    "验证成功，虽然看着确实看不怎么出来"
   ]
  },
  {
   "cell_type": "code",
   "execution_count": 75,
   "metadata": {},
   "outputs": [],
   "source": [
    "s=pd.Series([1,2,4,np.nan,5,7,9,10],index=dates)"
   ]
  },
  {
   "cell_type": "code",
   "execution_count": 76,
   "metadata": {},
   "outputs": [
    {
     "data": {
      "text/plain": [
       "2017-03-01     1.0\n",
       "2017-03-02     2.0\n",
       "2017-03-03     4.0\n",
       "2017-03-04     NaN\n",
       "2017-03-05     5.0\n",
       "2017-03-06     7.0\n",
       "2017-03-07     9.0\n",
       "2017-03-08    10.0\n",
       "Freq: D, dtype: float64"
      ]
     },
     "execution_count": 76,
     "metadata": {},
     "output_type": "execute_result"
    }
   ],
   "source": [
    "s"
   ]
  },
  {
   "cell_type": "code",
   "execution_count": 77,
   "metadata": {},
   "outputs": [
    {
     "data": {
      "text/plain": [
       "2017-03-01    NaN\n",
       "2017-03-02    NaN\n",
       "2017-03-03    1.0\n",
       "2017-03-04    2.0\n",
       "2017-03-05    4.0\n",
       "2017-03-06    NaN\n",
       "2017-03-07    5.0\n",
       "2017-03-08    7.0\n",
       "Freq: D, dtype: float64"
      ]
     },
     "execution_count": 77,
     "metadata": {},
     "output_type": "execute_result"
    }
   ],
   "source": [
    "s.shift(2)"
   ]
  },
  {
   "cell_type": "markdown",
   "metadata": {},
   "source": [
    "Dataframe.shift(periods=1,freq=None,axis=0)\n",
    "* periods 移动的区间（周期），可为正或负\n",
    "* axis=0 对于index\n",
    "* axis=1 对于column\n",
    "* 所以这是pandas，不是numpy的ndarray，这个只可能有两维，其实numpy的ndarray最常用的也是一维和二维\n",
    "\n",
    "例如，上例中，就是把values值，整体下移2个单位，所以上面空出来的两个填充了nan\n",
    "* 注意：这个不是汇编里的，什么循环左移，循环右移，这个就是单纯的移动，截断，填充nan"
   ]
  },
  {
   "cell_type": "code",
   "execution_count": 78,
   "metadata": {},
   "outputs": [
    {
     "data": {
      "text/plain": [
       "2017-03-01     4.0\n",
       "2017-03-02     NaN\n",
       "2017-03-03     5.0\n",
       "2017-03-04     7.0\n",
       "2017-03-05     9.0\n",
       "2017-03-06    10.0\n",
       "2017-03-07     NaN\n",
       "2017-03-08     NaN\n",
       "Freq: D, dtype: float64"
      ]
     },
     "execution_count": 78,
     "metadata": {},
     "output_type": "execute_result"
    }
   ],
   "source": [
    "s.shift(-2)"
   ]
  },
  {
   "cell_type": "markdown",
   "metadata": {},
   "source": [
    "这个就是整体上移2个，最后两个空的自动写为nan"
   ]
  },
  {
   "cell_type": "code",
   "execution_count": 79,
   "metadata": {},
   "outputs": [
    {
     "data": {
      "text/plain": [
       "2017-03-01    NaN\n",
       "2017-03-02    1.0\n",
       "2017-03-03    2.0\n",
       "2017-03-04    NaN\n",
       "2017-03-05    NaN\n",
       "2017-03-06    2.0\n",
       "2017-03-07    2.0\n",
       "2017-03-08    1.0\n",
       "Freq: D, dtype: float64"
      ]
     },
     "execution_count": 79,
     "metadata": {},
     "output_type": "execute_result"
    }
   ],
   "source": [
    "s.diff()"
   ]
  },
  {
   "cell_type": "markdown",
   "metadata": {},
   "source": [
    "* diff()的意思是计算同一列中前后两行（挨着的两行）的差\n",
    "* 例如：s的第一行1.0 没有前一个元素 所以没有差值 为nan\n",
    "* s的第二行2.0 -第一行1.0=1.0，同理，4.0-2.0=2.0  Nan-4.0=nan， 5.0-nan=nan，7.0-5.0=2.0"
   ]
  },
  {
   "cell_type": "code",
   "execution_count": 80,
   "metadata": {},
   "outputs": [
    {
     "data": {
      "text/plain": [
       "2017-03-01     1.0\n",
       "2017-03-02     2.0\n",
       "2017-03-03     4.0\n",
       "2017-03-04     NaN\n",
       "2017-03-05     5.0\n",
       "2017-03-06     7.0\n",
       "2017-03-07     9.0\n",
       "2017-03-08    10.0\n",
       "Freq: D, dtype: float64"
      ]
     },
     "execution_count": 80,
     "metadata": {},
     "output_type": "execute_result"
    }
   ],
   "source": [
    "s"
   ]
  },
  {
   "cell_type": "code",
   "execution_count": 81,
   "metadata": {},
   "outputs": [
    {
     "data": {
      "text/plain": [
       "10.0    1\n",
       "9.0     1\n",
       "7.0     1\n",
       "5.0     1\n",
       "4.0     1\n",
       "2.0     1\n",
       "1.0     1\n",
       "dtype: int64"
      ]
     },
     "execution_count": 81,
     "metadata": {},
     "output_type": "execute_result"
    }
   ],
   "source": [
    "s.value_counts()"
   ]
  },
  {
   "cell_type": "markdown",
   "metadata": {},
   "source": [
    "打印出每个值在这个Series中出现的次数，因为DataFrame其实是Series的组合，所以两个数据类型的操作是通用的，"
   ]
  },
  {
   "cell_type": "code",
   "execution_count": 84,
   "metadata": {},
   "outputs": [
    {
     "data": {
      "text/html": [
       "<div>\n",
       "<style scoped>\n",
       "    .dataframe tbody tr th:only-of-type {\n",
       "        vertical-align: middle;\n",
       "    }\n",
       "\n",
       "    .dataframe tbody tr th {\n",
       "        vertical-align: top;\n",
       "    }\n",
       "\n",
       "    .dataframe thead th {\n",
       "        text-align: right;\n",
       "    }\n",
       "</style>\n",
       "<table border=\"1\" class=\"dataframe\">\n",
       "  <thead>\n",
       "    <tr style=\"text-align: right;\">\n",
       "      <th></th>\n",
       "      <th>A</th>\n",
       "      <th>B</th>\n",
       "      <th>C</th>\n",
       "      <th>D</th>\n",
       "      <th>G</th>\n",
       "    </tr>\n",
       "  </thead>\n",
       "  <tbody>\n",
       "    <tr>\n",
       "      <th>count</th>\n",
       "      <td>4.000000</td>\n",
       "      <td>4.000000</td>\n",
       "      <td>4.000000</td>\n",
       "      <td>4.0</td>\n",
       "      <td>2.0</td>\n",
       "    </tr>\n",
       "    <tr>\n",
       "      <th>mean</th>\n",
       "      <td>-0.249672</td>\n",
       "      <td>0.088461</td>\n",
       "      <td>0.754456</td>\n",
       "      <td>4.0</td>\n",
       "      <td>1.0</td>\n",
       "    </tr>\n",
       "    <tr>\n",
       "      <th>std</th>\n",
       "      <td>1.101847</td>\n",
       "      <td>0.474724</td>\n",
       "      <td>0.133013</td>\n",
       "      <td>0.0</td>\n",
       "      <td>0.0</td>\n",
       "    </tr>\n",
       "    <tr>\n",
       "      <th>min</th>\n",
       "      <td>-1.298248</td>\n",
       "      <td>-0.610493</td>\n",
       "      <td>0.643915</td>\n",
       "      <td>4.0</td>\n",
       "      <td>1.0</td>\n",
       "    </tr>\n",
       "    <tr>\n",
       "      <th>25%</th>\n",
       "      <td>-0.910451</td>\n",
       "      <td>0.036089</td>\n",
       "      <td>0.645883</td>\n",
       "      <td>4.0</td>\n",
       "      <td>1.0</td>\n",
       "    </tr>\n",
       "    <tr>\n",
       "      <th>50%</th>\n",
       "      <td>-0.476047</td>\n",
       "      <td>0.257362</td>\n",
       "      <td>0.729253</td>\n",
       "      <td>4.0</td>\n",
       "      <td>1.0</td>\n",
       "    </tr>\n",
       "    <tr>\n",
       "      <th>75%</th>\n",
       "      <td>0.184732</td>\n",
       "      <td>0.309734</td>\n",
       "      <td>0.837826</td>\n",
       "      <td>4.0</td>\n",
       "      <td>1.0</td>\n",
       "    </tr>\n",
       "    <tr>\n",
       "      <th>max</th>\n",
       "      <td>1.251653</td>\n",
       "      <td>0.449614</td>\n",
       "      <td>0.915403</td>\n",
       "      <td>4.0</td>\n",
       "      <td>1.0</td>\n",
       "    </tr>\n",
       "  </tbody>\n",
       "</table>\n",
       "</div>"
      ],
      "text/plain": [
       "              A         B         C    D    G\n",
       "count  4.000000  4.000000  4.000000  4.0  2.0\n",
       "mean  -0.249672  0.088461  0.754456  4.0  1.0\n",
       "std    1.101847  0.474724  0.133013  0.0  0.0\n",
       "min   -1.298248 -0.610493  0.643915  4.0  1.0\n",
       "25%   -0.910451  0.036089  0.645883  4.0  1.0\n",
       "50%   -0.476047  0.257362  0.729253  4.0  1.0\n",
       "75%    0.184732  0.309734  0.837826  4.0  1.0\n",
       "max    1.251653  0.449614  0.915403  4.0  1.0"
      ]
     },
     "execution_count": 84,
     "metadata": {},
     "output_type": "execute_result"
    }
   ],
   "source": [
    "df1.describe()"
   ]
  },
  {
   "cell_type": "code",
   "execution_count": 85,
   "metadata": {},
   "outputs": [
    {
     "data": {
      "text/html": [
       "<div>\n",
       "<style scoped>\n",
       "    .dataframe tbody tr th:only-of-type {\n",
       "        vertical-align: middle;\n",
       "    }\n",
       "\n",
       "    .dataframe tbody tr th {\n",
       "        vertical-align: top;\n",
       "    }\n",
       "\n",
       "    .dataframe thead th {\n",
       "        text-align: right;\n",
       "    }\n",
       "</style>\n",
       "<table border=\"1\" class=\"dataframe\">\n",
       "  <thead>\n",
       "    <tr style=\"text-align: right;\">\n",
       "      <th></th>\n",
       "      <th>A</th>\n",
       "      <th>B</th>\n",
       "      <th>C</th>\n",
       "      <th>D</th>\n",
       "      <th>E</th>\n",
       "    </tr>\n",
       "  </thead>\n",
       "  <tbody>\n",
       "    <tr>\n",
       "      <th>2017-03-01</th>\n",
       "      <td>-0.170908</td>\n",
       "      <td>0.449614</td>\n",
       "      <td>0.811967</td>\n",
       "      <td>4</td>\n",
       "      <td>0.374029</td>\n",
       "    </tr>\n",
       "    <tr>\n",
       "      <th>2017-03-02</th>\n",
       "      <td>1.080745</td>\n",
       "      <td>0.701230</td>\n",
       "      <td>1.727371</td>\n",
       "      <td>8</td>\n",
       "      <td>0.719010</td>\n",
       "    </tr>\n",
       "    <tr>\n",
       "      <th>2017-03-03</th>\n",
       "      <td>-0.217504</td>\n",
       "      <td>0.090737</td>\n",
       "      <td>2.373909</td>\n",
       "      <td>12</td>\n",
       "      <td>1.171539</td>\n",
       "    </tr>\n",
       "    <tr>\n",
       "      <th>2017-03-04</th>\n",
       "      <td>-0.998689</td>\n",
       "      <td>0.353844</td>\n",
       "      <td>3.017824</td>\n",
       "      <td>16</td>\n",
       "      <td>0.320431</td>\n",
       "    </tr>\n",
       "    <tr>\n",
       "      <th>2017-03-05</th>\n",
       "      <td>-0.810164</td>\n",
       "      <td>0.649342</td>\n",
       "      <td>1.525871</td>\n",
       "      <td>20</td>\n",
       "      <td>0.504139</td>\n",
       "    </tr>\n",
       "    <tr>\n",
       "      <th>2017-03-06</th>\n",
       "      <td>-1.346282</td>\n",
       "      <td>1.517094</td>\n",
       "      <td>2.275548</td>\n",
       "      <td>24</td>\n",
       "      <td>-0.396619</td>\n",
       "    </tr>\n",
       "    <tr>\n",
       "      <th>2017-03-07</th>\n",
       "      <td>-0.605354</td>\n",
       "      <td>2.925562</td>\n",
       "      <td>1.378744</td>\n",
       "      <td>28</td>\n",
       "      <td>0.324464</td>\n",
       "    </tr>\n",
       "    <tr>\n",
       "      <th>2017-03-08</th>\n",
       "      <td>-3.163559</td>\n",
       "      <td>2.580508</td>\n",
       "      <td>1.760119</td>\n",
       "      <td>32</td>\n",
       "      <td>1.519814</td>\n",
       "    </tr>\n",
       "  </tbody>\n",
       "</table>\n",
       "</div>"
      ],
      "text/plain": [
       "                   A         B         C   D         E\n",
       "2017-03-01 -0.170908  0.449614  0.811967   4  0.374029\n",
       "2017-03-02  1.080745  0.701230  1.727371   8  0.719010\n",
       "2017-03-03 -0.217504  0.090737  2.373909  12  1.171539\n",
       "2017-03-04 -0.998689  0.353844  3.017824  16  0.320431\n",
       "2017-03-05 -0.810164  0.649342  1.525871  20  0.504139\n",
       "2017-03-06 -1.346282  1.517094  2.275548  24 -0.396619\n",
       "2017-03-07 -0.605354  2.925562  1.378744  28  0.324464\n",
       "2017-03-08 -3.163559  2.580508  1.760119  32  1.519814"
      ]
     },
     "execution_count": 85,
     "metadata": {},
     "output_type": "execute_result"
    }
   ],
   "source": [
    "df.apply(np.cumsum)"
   ]
  },
  {
   "cell_type": "markdown",
   "metadata": {},
   "source": [
    "* apply()代表对前面的df应用括号里的东西，\n",
    "* 也就是np.cumsum cumulate sum 表示累加\n",
    "* 第一行加到第二行上，改变第二行的值，改变后的第二行再加到第三行上，累加"
   ]
  },
  {
   "cell_type": "code",
   "execution_count": 86,
   "metadata": {},
   "outputs": [
    {
     "data": {
      "text/html": [
       "<div>\n",
       "<style scoped>\n",
       "    .dataframe tbody tr th:only-of-type {\n",
       "        vertical-align: middle;\n",
       "    }\n",
       "\n",
       "    .dataframe tbody tr th {\n",
       "        vertical-align: top;\n",
       "    }\n",
       "\n",
       "    .dataframe thead th {\n",
       "        text-align: right;\n",
       "    }\n",
       "</style>\n",
       "<table border=\"1\" class=\"dataframe\">\n",
       "  <thead>\n",
       "    <tr style=\"text-align: right;\">\n",
       "      <th></th>\n",
       "      <th>A</th>\n",
       "      <th>B</th>\n",
       "      <th>C</th>\n",
       "      <th>D</th>\n",
       "      <th>E</th>\n",
       "    </tr>\n",
       "  </thead>\n",
       "  <tbody>\n",
       "    <tr>\n",
       "      <th>2017-03-01</th>\n",
       "      <td>-0.170908</td>\n",
       "      <td>0.449614</td>\n",
       "      <td>0.811967</td>\n",
       "      <td>4</td>\n",
       "      <td>0.374029</td>\n",
       "    </tr>\n",
       "    <tr>\n",
       "      <th>2017-03-02</th>\n",
       "      <td>1.251653</td>\n",
       "      <td>0.251616</td>\n",
       "      <td>0.915403</td>\n",
       "      <td>4</td>\n",
       "      <td>0.344982</td>\n",
       "    </tr>\n",
       "    <tr>\n",
       "      <th>2017-03-03</th>\n",
       "      <td>-1.298248</td>\n",
       "      <td>-0.610493</td>\n",
       "      <td>0.646538</td>\n",
       "      <td>4</td>\n",
       "      <td>0.452529</td>\n",
       "    </tr>\n",
       "    <tr>\n",
       "      <th>2017-03-04</th>\n",
       "      <td>-0.781185</td>\n",
       "      <td>0.263107</td>\n",
       "      <td>0.643915</td>\n",
       "      <td>4</td>\n",
       "      <td>-0.851108</td>\n",
       "    </tr>\n",
       "    <tr>\n",
       "      <th>2017-03-05</th>\n",
       "      <td>0.188525</td>\n",
       "      <td>0.295498</td>\n",
       "      <td>-1.491953</td>\n",
       "      <td>4</td>\n",
       "      <td>0.183708</td>\n",
       "    </tr>\n",
       "    <tr>\n",
       "      <th>2017-03-06</th>\n",
       "      <td>-0.536118</td>\n",
       "      <td>0.867752</td>\n",
       "      <td>0.749676</td>\n",
       "      <td>4</td>\n",
       "      <td>-0.900758</td>\n",
       "    </tr>\n",
       "    <tr>\n",
       "      <th>2017-03-07</th>\n",
       "      <td>0.740928</td>\n",
       "      <td>1.408468</td>\n",
       "      <td>-0.896803</td>\n",
       "      <td>4</td>\n",
       "      <td>0.721082</td>\n",
       "    </tr>\n",
       "    <tr>\n",
       "      <th>2017-03-08</th>\n",
       "      <td>-2.558205</td>\n",
       "      <td>-0.345054</td>\n",
       "      <td>0.381374</td>\n",
       "      <td>4</td>\n",
       "      <td>1.195350</td>\n",
       "    </tr>\n",
       "  </tbody>\n",
       "</table>\n",
       "</div>"
      ],
      "text/plain": [
       "                   A         B         C  D         E\n",
       "2017-03-01 -0.170908  0.449614  0.811967  4  0.374029\n",
       "2017-03-02  1.251653  0.251616  0.915403  4  0.344982\n",
       "2017-03-03 -1.298248 -0.610493  0.646538  4  0.452529\n",
       "2017-03-04 -0.781185  0.263107  0.643915  4 -0.851108\n",
       "2017-03-05  0.188525  0.295498 -1.491953  4  0.183708\n",
       "2017-03-06 -0.536118  0.867752  0.749676  4 -0.900758\n",
       "2017-03-07  0.740928  1.408468 -0.896803  4  0.721082\n",
       "2017-03-08 -2.558205 -0.345054  0.381374  4  1.195350"
      ]
     },
     "execution_count": 86,
     "metadata": {},
     "output_type": "execute_result"
    }
   ],
   "source": [
    "df"
   ]
  },
  {
   "cell_type": "code",
   "execution_count": 87,
   "metadata": {},
   "outputs": [
    {
     "data": {
      "text/plain": [
       "A    3.809859\n",
       "B    2.018961\n",
       "C    2.407356\n",
       "D    0.000000\n",
       "E    2.096108\n",
       "dtype: float64"
      ]
     },
     "execution_count": 87,
     "metadata": {},
     "output_type": "execute_result"
    }
   ],
   "source": [
    "df.apply(lambda x:x.max()-x.min())"
   ]
  },
  {
   "cell_type": "markdown",
   "metadata": {},
   "source": [
    "也就是每列（每个特征的极差）"
   ]
  },
  {
   "cell_type": "markdown",
   "metadata": {},
   "source": [
    "# 表格拼接 和类sql操作"
   ]
  },
  {
   "cell_type": "code",
   "execution_count": 88,
   "metadata": {},
   "outputs": [
    {
     "data": {
      "text/html": [
       "<div>\n",
       "<style scoped>\n",
       "    .dataframe tbody tr th:only-of-type {\n",
       "        vertical-align: middle;\n",
       "    }\n",
       "\n",
       "    .dataframe tbody tr th {\n",
       "        vertical-align: top;\n",
       "    }\n",
       "\n",
       "    .dataframe thead th {\n",
       "        text-align: right;\n",
       "    }\n",
       "</style>\n",
       "<table border=\"1\" class=\"dataframe\">\n",
       "  <thead>\n",
       "    <tr style=\"text-align: right;\">\n",
       "      <th></th>\n",
       "      <th>A</th>\n",
       "      <th>B</th>\n",
       "      <th>C</th>\n",
       "      <th>D</th>\n",
       "      <th>E</th>\n",
       "    </tr>\n",
       "  </thead>\n",
       "  <tbody>\n",
       "    <tr>\n",
       "      <th>2017-03-01</th>\n",
       "      <td>-0.170908</td>\n",
       "      <td>0.449614</td>\n",
       "      <td>0.811967</td>\n",
       "      <td>4</td>\n",
       "      <td>0.374029</td>\n",
       "    </tr>\n",
       "    <tr>\n",
       "      <th>2017-03-02</th>\n",
       "      <td>1.251653</td>\n",
       "      <td>0.251616</td>\n",
       "      <td>0.915403</td>\n",
       "      <td>4</td>\n",
       "      <td>0.344982</td>\n",
       "    </tr>\n",
       "    <tr>\n",
       "      <th>2017-03-03</th>\n",
       "      <td>-1.298248</td>\n",
       "      <td>-0.610493</td>\n",
       "      <td>0.646538</td>\n",
       "      <td>4</td>\n",
       "      <td>0.452529</td>\n",
       "    </tr>\n",
       "    <tr>\n",
       "      <th>2017-03-06</th>\n",
       "      <td>-0.536118</td>\n",
       "      <td>0.867752</td>\n",
       "      <td>0.749676</td>\n",
       "      <td>4</td>\n",
       "      <td>-0.900758</td>\n",
       "    </tr>\n",
       "    <tr>\n",
       "      <th>2017-03-07</th>\n",
       "      <td>0.740928</td>\n",
       "      <td>1.408468</td>\n",
       "      <td>-0.896803</td>\n",
       "      <td>4</td>\n",
       "      <td>0.721082</td>\n",
       "    </tr>\n",
       "    <tr>\n",
       "      <th>2017-03-08</th>\n",
       "      <td>-2.558205</td>\n",
       "      <td>-0.345054</td>\n",
       "      <td>0.381374</td>\n",
       "      <td>4</td>\n",
       "      <td>1.195350</td>\n",
       "    </tr>\n",
       "  </tbody>\n",
       "</table>\n",
       "</div>"
      ],
      "text/plain": [
       "                   A         B         C  D         E\n",
       "2017-03-01 -0.170908  0.449614  0.811967  4  0.374029\n",
       "2017-03-02  1.251653  0.251616  0.915403  4  0.344982\n",
       "2017-03-03 -1.298248 -0.610493  0.646538  4  0.452529\n",
       "2017-03-06 -0.536118  0.867752  0.749676  4 -0.900758\n",
       "2017-03-07  0.740928  1.408468 -0.896803  4  0.721082\n",
       "2017-03-08 -2.558205 -0.345054  0.381374  4  1.195350"
      ]
     },
     "execution_count": 88,
     "metadata": {},
     "output_type": "execute_result"
    }
   ],
   "source": [
    "pd.concat([df[:3],df[-3:]])"
   ]
  },
  {
   "cell_type": "markdown",
   "metadata": {},
   "source": [
    "拼接操作，把df的前三行，和后三行，拼接在一起\n",
    "* 注意concat只接受一个参数，所以要写在一个list里，用[]括起来"
   ]
  },
  {
   "cell_type": "markdown",
   "metadata": {},
   "source": [
    "## 类sql操作"
   ]
  },
  {
   "cell_type": "markdown",
   "metadata": {},
   "source": [
    "left=pd.DataFrame({\"key\":[\"x\",\"y\"],\"value\":[1,2]})"
   ]
  },
  {
   "cell_type": "code",
   "execution_count": 94,
   "metadata": {},
   "outputs": [],
   "source": [
    "right=pd.DataFrame({\"key\":[\"x\",\"z\"],\"value\":[3,4]})"
   ]
  },
  {
   "cell_type": "code",
   "execution_count": 95,
   "metadata": {},
   "outputs": [
    {
     "data": {
      "text/html": [
       "<div>\n",
       "<style scoped>\n",
       "    .dataframe tbody tr th:only-of-type {\n",
       "        vertical-align: middle;\n",
       "    }\n",
       "\n",
       "    .dataframe tbody tr th {\n",
       "        vertical-align: top;\n",
       "    }\n",
       "\n",
       "    .dataframe thead th {\n",
       "        text-align: right;\n",
       "    }\n",
       "</style>\n",
       "<table border=\"1\" class=\"dataframe\">\n",
       "  <thead>\n",
       "    <tr style=\"text-align: right;\">\n",
       "      <th></th>\n",
       "      <th>key</th>\n",
       "      <th>value</th>\n",
       "    </tr>\n",
       "  </thead>\n",
       "  <tbody>\n",
       "    <tr>\n",
       "      <th>0</th>\n",
       "      <td>x</td>\n",
       "      <td>1</td>\n",
       "    </tr>\n",
       "    <tr>\n",
       "      <th>1</th>\n",
       "      <td>y</td>\n",
       "      <td>2</td>\n",
       "    </tr>\n",
       "  </tbody>\n",
       "</table>\n",
       "</div>"
      ],
      "text/plain": [
       "  key  value\n",
       "0   x      1\n",
       "1   y      2"
      ]
     },
     "execution_count": 95,
     "metadata": {},
     "output_type": "execute_result"
    }
   ],
   "source": [
    "left"
   ]
  },
  {
   "cell_type": "code",
   "execution_count": 96,
   "metadata": {},
   "outputs": [
    {
     "data": {
      "text/html": [
       "<div>\n",
       "<style scoped>\n",
       "    .dataframe tbody tr th:only-of-type {\n",
       "        vertical-align: middle;\n",
       "    }\n",
       "\n",
       "    .dataframe tbody tr th {\n",
       "        vertical-align: top;\n",
       "    }\n",
       "\n",
       "    .dataframe thead th {\n",
       "        text-align: right;\n",
       "    }\n",
       "</style>\n",
       "<table border=\"1\" class=\"dataframe\">\n",
       "  <thead>\n",
       "    <tr style=\"text-align: right;\">\n",
       "      <th></th>\n",
       "      <th>key</th>\n",
       "      <th>value</th>\n",
       "    </tr>\n",
       "  </thead>\n",
       "  <tbody>\n",
       "    <tr>\n",
       "      <th>0</th>\n",
       "      <td>x</td>\n",
       "      <td>3</td>\n",
       "    </tr>\n",
       "    <tr>\n",
       "      <th>1</th>\n",
       "      <td>z</td>\n",
       "      <td>4</td>\n",
       "    </tr>\n",
       "  </tbody>\n",
       "</table>\n",
       "</div>"
      ],
      "text/plain": [
       "  key  value\n",
       "0   x      3\n",
       "1   z      4"
      ]
     },
     "execution_count": 96,
     "metadata": {},
     "output_type": "execute_result"
    }
   ],
   "source": [
    "right"
   ]
  },
  {
   "cell_type": "code",
   "execution_count": 97,
   "metadata": {},
   "outputs": [
    {
     "data": {
      "text/html": [
       "<div>\n",
       "<style scoped>\n",
       "    .dataframe tbody tr th:only-of-type {\n",
       "        vertical-align: middle;\n",
       "    }\n",
       "\n",
       "    .dataframe tbody tr th {\n",
       "        vertical-align: top;\n",
       "    }\n",
       "\n",
       "    .dataframe thead th {\n",
       "        text-align: right;\n",
       "    }\n",
       "</style>\n",
       "<table border=\"1\" class=\"dataframe\">\n",
       "  <thead>\n",
       "    <tr style=\"text-align: right;\">\n",
       "      <th></th>\n",
       "      <th>key</th>\n",
       "      <th>value_x</th>\n",
       "      <th>value_y</th>\n",
       "    </tr>\n",
       "  </thead>\n",
       "  <tbody>\n",
       "    <tr>\n",
       "      <th>0</th>\n",
       "      <td>x</td>\n",
       "      <td>1</td>\n",
       "      <td>3.0</td>\n",
       "    </tr>\n",
       "    <tr>\n",
       "      <th>1</th>\n",
       "      <td>y</td>\n",
       "      <td>2</td>\n",
       "      <td>NaN</td>\n",
       "    </tr>\n",
       "  </tbody>\n",
       "</table>\n",
       "</div>"
      ],
      "text/plain": [
       "  key  value_x  value_y\n",
       "0   x        1      3.0\n",
       "1   y        2      NaN"
      ]
     },
     "execution_count": 97,
     "metadata": {},
     "output_type": "execute_result"
    }
   ],
   "source": [
    "pd.merge(left,right,on=\"key\",how=\"left\")"
   ]
  },
  {
   "cell_type": "markdown",
   "metadata": {},
   "source": [
    "左外连接，所以left全有，由于right表中只有 x，没有y，所以[1,value_y]=nan\n",
    "所以这个merge类似于sql中的join，还可以使用group by"
   ]
  },
  {
   "cell_type": "markdown",
   "metadata": {},
   "source": [
    "DataFrame.merge（right，how ='inner'，on = None，left_on = None，right_on = None，left_index = False，right_index = False，sort = False，suffixes =（'_ x'，'_y'），copy = True，indicator = False，validate = None） \n",
    "* 通过按列（columns）或索引（index）执行数据库式的连接操作来合并DataFrame对象。\n",
    "* 如果连接列与列，则DataFrame索引index将被忽略。否则，如果连接column(s)与index或者连接index与index，则索引将被传递\n",
    "* 参数\n",
    "* right:DataFrame\n",
    "* how {'left','right','outer','inner'} default 'inner' \n",
    "* 类似数据库的左连外接（只使用左边df的keys，保持keys的顺序）\n",
    "* 右外连接（只使用右边df的keys，保持keys的顺序），\n",
    "* 外连接（使用两个df的keys的并集，类似sql的全连接模式），\n",
    "* 内连接（使用两个df的keys的交集，类似sql的内连接，保存左边keys键的顺序）\n",
    "* on ：label or list  要加入的列或索引的级别名称。这些名称必须在两个DF中存在。如果on为None且不合并索引，则默认为两个DataFrame中的列的交集\n",
    "* left_on:标记（label 就是index或者column的名称）或列表（list）或类似array   列或索引级别名称在左边的DataFrame中加入。也可以是数组或左边DataFrame长度的数组列表。这些数组被视为如同列一样。\n",
    "* 排序：布尔值，默认为False  在结果数据框中按字典顺序排列连接键。如果为False，连接键的顺序取决于连接类型（关键字如何）\n",
    "http://pandas.pydata.org/pandas-docs/stable/generated/pandas.DataFrame.merge.html\n",
    "\n",
    "    \n"
   ]
  },
  {
   "cell_type": "markdown",
   "metadata": {},
   "source": [
    "### 演示 group by"
   ]
  },
  {
   "cell_type": "code",
   "execution_count": 99,
   "metadata": {},
   "outputs": [],
   "source": [
    "df3=pd.DataFrame({\"A\":['a','b','c','b'],\"B\":list(range(4))})"
   ]
  },
  {
   "cell_type": "code",
   "execution_count": 100,
   "metadata": {},
   "outputs": [
    {
     "data": {
      "text/html": [
       "<div>\n",
       "<style scoped>\n",
       "    .dataframe tbody tr th:only-of-type {\n",
       "        vertical-align: middle;\n",
       "    }\n",
       "\n",
       "    .dataframe tbody tr th {\n",
       "        vertical-align: top;\n",
       "    }\n",
       "\n",
       "    .dataframe thead th {\n",
       "        text-align: right;\n",
       "    }\n",
       "</style>\n",
       "<table border=\"1\" class=\"dataframe\">\n",
       "  <thead>\n",
       "    <tr style=\"text-align: right;\">\n",
       "      <th></th>\n",
       "      <th>A</th>\n",
       "      <th>B</th>\n",
       "    </tr>\n",
       "  </thead>\n",
       "  <tbody>\n",
       "    <tr>\n",
       "      <th>0</th>\n",
       "      <td>a</td>\n",
       "      <td>0</td>\n",
       "    </tr>\n",
       "    <tr>\n",
       "      <th>1</th>\n",
       "      <td>b</td>\n",
       "      <td>1</td>\n",
       "    </tr>\n",
       "    <tr>\n",
       "      <th>2</th>\n",
       "      <td>c</td>\n",
       "      <td>2</td>\n",
       "    </tr>\n",
       "    <tr>\n",
       "      <th>3</th>\n",
       "      <td>b</td>\n",
       "      <td>3</td>\n",
       "    </tr>\n",
       "  </tbody>\n",
       "</table>\n",
       "</div>"
      ],
      "text/plain": [
       "   A  B\n",
       "0  a  0\n",
       "1  b  1\n",
       "2  c  2\n",
       "3  b  3"
      ]
     },
     "execution_count": 100,
     "metadata": {},
     "output_type": "execute_result"
    }
   ],
   "source": [
    "df3"
   ]
  },
  {
   "cell_type": "code",
   "execution_count": 101,
   "metadata": {},
   "outputs": [
    {
     "data": {
      "text/html": [
       "<div>\n",
       "<style scoped>\n",
       "    .dataframe tbody tr th:only-of-type {\n",
       "        vertical-align: middle;\n",
       "    }\n",
       "\n",
       "    .dataframe tbody tr th {\n",
       "        vertical-align: top;\n",
       "    }\n",
       "\n",
       "    .dataframe thead th {\n",
       "        text-align: right;\n",
       "    }\n",
       "</style>\n",
       "<table border=\"1\" class=\"dataframe\">\n",
       "  <thead>\n",
       "    <tr style=\"text-align: right;\">\n",
       "      <th></th>\n",
       "      <th>B</th>\n",
       "    </tr>\n",
       "    <tr>\n",
       "      <th>A</th>\n",
       "      <th></th>\n",
       "    </tr>\n",
       "  </thead>\n",
       "  <tbody>\n",
       "    <tr>\n",
       "      <th>a</th>\n",
       "      <td>0</td>\n",
       "    </tr>\n",
       "    <tr>\n",
       "      <th>b</th>\n",
       "      <td>4</td>\n",
       "    </tr>\n",
       "    <tr>\n",
       "      <th>c</th>\n",
       "      <td>2</td>\n",
       "    </tr>\n",
       "  </tbody>\n",
       "</table>\n",
       "</div>"
      ],
      "text/plain": [
       "   B\n",
       "A   \n",
       "a  0\n",
       "b  4\n",
       "c  2"
      ]
     },
     "execution_count": 101,
     "metadata": {},
     "output_type": "execute_result"
    }
   ],
   "source": [
    "df3.groupby(\"A\").sum()"
   ]
  },
  {
   "cell_type": "code",
   "execution_count": 102,
   "metadata": {},
   "outputs": [
    {
     "data": {
      "text/html": [
       "<div>\n",
       "<style scoped>\n",
       "    .dataframe tbody tr th:only-of-type {\n",
       "        vertical-align: middle;\n",
       "    }\n",
       "\n",
       "    .dataframe tbody tr th {\n",
       "        vertical-align: top;\n",
       "    }\n",
       "\n",
       "    .dataframe thead th {\n",
       "        text-align: right;\n",
       "    }\n",
       "</style>\n",
       "<table border=\"1\" class=\"dataframe\">\n",
       "  <thead>\n",
       "    <tr style=\"text-align: right;\">\n",
       "      <th></th>\n",
       "      <th>B</th>\n",
       "    </tr>\n",
       "    <tr>\n",
       "      <th>A</th>\n",
       "      <th></th>\n",
       "    </tr>\n",
       "  </thead>\n",
       "  <tbody>\n",
       "    <tr>\n",
       "      <th>a</th>\n",
       "      <td>1</td>\n",
       "    </tr>\n",
       "    <tr>\n",
       "      <th>b</th>\n",
       "      <td>2</td>\n",
       "    </tr>\n",
       "    <tr>\n",
       "      <th>c</th>\n",
       "      <td>1</td>\n",
       "    </tr>\n",
       "  </tbody>\n",
       "</table>\n",
       "</div>"
      ],
      "text/plain": [
       "   B\n",
       "A   \n",
       "a  1\n",
       "b  2\n",
       "c  1"
      ]
     },
     "execution_count": 102,
     "metadata": {},
     "output_type": "execute_result"
    }
   ],
   "source": [
    "df3.groupby(\"A\").count()"
   ]
  },
  {
   "cell_type": "markdown",
   "metadata": {},
   "source": [
    "* 其实和sql很像，groupby 由什么 分组 分组之后再来个聚合函数 就是顺序有点不一样\n",
    "* select count(1) from tweetsox group by ID "
   ]
  },
  {
   "cell_type": "markdown",
   "metadata": {},
   "source": [
    "### reshape (类似数据库的交叉分析或者说 透视表)"
   ]
  },
  {
   "cell_type": "code",
   "execution_count": 103,
   "metadata": {},
   "outputs": [],
   "source": [
    "import datetime"
   ]
  },
  {
   "cell_type": "code",
   "execution_count": 104,
   "metadata": {},
   "outputs": [],
   "source": [
    "df4=pd.DataFrame({'A':['one','one','two','three']*6,\n",
    "                  'B':['a','b','c']*8,\n",
    "                  'C':['foo','foo','foo','bar','bar','bar']*4,\n",
    "                  'D':np.random.randn(24),\n",
    "                  'E':np.random.randn(24),\n",
    "                  'F':[datetime.datetime(2017,i,1)for i in range(1,13)]+\n",
    "                    [datetime.datetime(2017,i,15)for i in range(1,13)]\n",
    "                 })"
   ]
  },
  {
   "cell_type": "code",
   "execution_count": 105,
   "metadata": {},
   "outputs": [
    {
     "data": {
      "text/html": [
       "<div>\n",
       "<style scoped>\n",
       "    .dataframe tbody tr th:only-of-type {\n",
       "        vertical-align: middle;\n",
       "    }\n",
       "\n",
       "    .dataframe tbody tr th {\n",
       "        vertical-align: top;\n",
       "    }\n",
       "\n",
       "    .dataframe thead th {\n",
       "        text-align: right;\n",
       "    }\n",
       "</style>\n",
       "<table border=\"1\" class=\"dataframe\">\n",
       "  <thead>\n",
       "    <tr style=\"text-align: right;\">\n",
       "      <th></th>\n",
       "      <th>A</th>\n",
       "      <th>B</th>\n",
       "      <th>C</th>\n",
       "      <th>D</th>\n",
       "      <th>E</th>\n",
       "      <th>F</th>\n",
       "    </tr>\n",
       "  </thead>\n",
       "  <tbody>\n",
       "    <tr>\n",
       "      <th>0</th>\n",
       "      <td>one</td>\n",
       "      <td>a</td>\n",
       "      <td>foo</td>\n",
       "      <td>-0.659782</td>\n",
       "      <td>0.019359</td>\n",
       "      <td>2017-01-01</td>\n",
       "    </tr>\n",
       "    <tr>\n",
       "      <th>1</th>\n",
       "      <td>one</td>\n",
       "      <td>b</td>\n",
       "      <td>foo</td>\n",
       "      <td>0.276314</td>\n",
       "      <td>0.247469</td>\n",
       "      <td>2017-02-01</td>\n",
       "    </tr>\n",
       "    <tr>\n",
       "      <th>2</th>\n",
       "      <td>two</td>\n",
       "      <td>c</td>\n",
       "      <td>foo</td>\n",
       "      <td>2.152516</td>\n",
       "      <td>-1.307719</td>\n",
       "      <td>2017-03-01</td>\n",
       "    </tr>\n",
       "    <tr>\n",
       "      <th>3</th>\n",
       "      <td>three</td>\n",
       "      <td>a</td>\n",
       "      <td>bar</td>\n",
       "      <td>-2.438921</td>\n",
       "      <td>0.198047</td>\n",
       "      <td>2017-04-01</td>\n",
       "    </tr>\n",
       "    <tr>\n",
       "      <th>4</th>\n",
       "      <td>one</td>\n",
       "      <td>b</td>\n",
       "      <td>bar</td>\n",
       "      <td>0.810488</td>\n",
       "      <td>-1.662328</td>\n",
       "      <td>2017-05-01</td>\n",
       "    </tr>\n",
       "    <tr>\n",
       "      <th>5</th>\n",
       "      <td>one</td>\n",
       "      <td>c</td>\n",
       "      <td>bar</td>\n",
       "      <td>-1.961798</td>\n",
       "      <td>-0.013632</td>\n",
       "      <td>2017-06-01</td>\n",
       "    </tr>\n",
       "    <tr>\n",
       "      <th>6</th>\n",
       "      <td>two</td>\n",
       "      <td>a</td>\n",
       "      <td>foo</td>\n",
       "      <td>-1.854651</td>\n",
       "      <td>1.338129</td>\n",
       "      <td>2017-07-01</td>\n",
       "    </tr>\n",
       "    <tr>\n",
       "      <th>7</th>\n",
       "      <td>three</td>\n",
       "      <td>b</td>\n",
       "      <td>foo</td>\n",
       "      <td>-0.163755</td>\n",
       "      <td>-1.441657</td>\n",
       "      <td>2017-08-01</td>\n",
       "    </tr>\n",
       "    <tr>\n",
       "      <th>8</th>\n",
       "      <td>one</td>\n",
       "      <td>c</td>\n",
       "      <td>foo</td>\n",
       "      <td>0.704670</td>\n",
       "      <td>1.701206</td>\n",
       "      <td>2017-09-01</td>\n",
       "    </tr>\n",
       "    <tr>\n",
       "      <th>9</th>\n",
       "      <td>one</td>\n",
       "      <td>a</td>\n",
       "      <td>bar</td>\n",
       "      <td>0.784878</td>\n",
       "      <td>-0.677511</td>\n",
       "      <td>2017-10-01</td>\n",
       "    </tr>\n",
       "    <tr>\n",
       "      <th>10</th>\n",
       "      <td>two</td>\n",
       "      <td>b</td>\n",
       "      <td>bar</td>\n",
       "      <td>0.075688</td>\n",
       "      <td>1.026495</td>\n",
       "      <td>2017-11-01</td>\n",
       "    </tr>\n",
       "    <tr>\n",
       "      <th>11</th>\n",
       "      <td>three</td>\n",
       "      <td>c</td>\n",
       "      <td>bar</td>\n",
       "      <td>0.592444</td>\n",
       "      <td>1.838892</td>\n",
       "      <td>2017-12-01</td>\n",
       "    </tr>\n",
       "    <tr>\n",
       "      <th>12</th>\n",
       "      <td>one</td>\n",
       "      <td>a</td>\n",
       "      <td>foo</td>\n",
       "      <td>0.104933</td>\n",
       "      <td>0.499759</td>\n",
       "      <td>2017-01-15</td>\n",
       "    </tr>\n",
       "    <tr>\n",
       "      <th>13</th>\n",
       "      <td>one</td>\n",
       "      <td>b</td>\n",
       "      <td>foo</td>\n",
       "      <td>0.637129</td>\n",
       "      <td>0.134687</td>\n",
       "      <td>2017-02-15</td>\n",
       "    </tr>\n",
       "    <tr>\n",
       "      <th>14</th>\n",
       "      <td>two</td>\n",
       "      <td>c</td>\n",
       "      <td>foo</td>\n",
       "      <td>-0.363090</td>\n",
       "      <td>0.888354</td>\n",
       "      <td>2017-03-15</td>\n",
       "    </tr>\n",
       "    <tr>\n",
       "      <th>15</th>\n",
       "      <td>three</td>\n",
       "      <td>a</td>\n",
       "      <td>bar</td>\n",
       "      <td>0.896716</td>\n",
       "      <td>0.910035</td>\n",
       "      <td>2017-04-15</td>\n",
       "    </tr>\n",
       "    <tr>\n",
       "      <th>16</th>\n",
       "      <td>one</td>\n",
       "      <td>b</td>\n",
       "      <td>bar</td>\n",
       "      <td>2.469472</td>\n",
       "      <td>1.088797</td>\n",
       "      <td>2017-05-15</td>\n",
       "    </tr>\n",
       "    <tr>\n",
       "      <th>17</th>\n",
       "      <td>one</td>\n",
       "      <td>c</td>\n",
       "      <td>bar</td>\n",
       "      <td>1.364053</td>\n",
       "      <td>-0.131409</td>\n",
       "      <td>2017-06-15</td>\n",
       "    </tr>\n",
       "    <tr>\n",
       "      <th>18</th>\n",
       "      <td>two</td>\n",
       "      <td>a</td>\n",
       "      <td>foo</td>\n",
       "      <td>-1.046930</td>\n",
       "      <td>-0.339907</td>\n",
       "      <td>2017-07-15</td>\n",
       "    </tr>\n",
       "    <tr>\n",
       "      <th>19</th>\n",
       "      <td>three</td>\n",
       "      <td>b</td>\n",
       "      <td>foo</td>\n",
       "      <td>-0.132143</td>\n",
       "      <td>2.496378</td>\n",
       "      <td>2017-08-15</td>\n",
       "    </tr>\n",
       "    <tr>\n",
       "      <th>20</th>\n",
       "      <td>one</td>\n",
       "      <td>c</td>\n",
       "      <td>foo</td>\n",
       "      <td>0.937418</td>\n",
       "      <td>-0.394534</td>\n",
       "      <td>2017-09-15</td>\n",
       "    </tr>\n",
       "    <tr>\n",
       "      <th>21</th>\n",
       "      <td>one</td>\n",
       "      <td>a</td>\n",
       "      <td>bar</td>\n",
       "      <td>-0.145668</td>\n",
       "      <td>-0.900635</td>\n",
       "      <td>2017-10-15</td>\n",
       "    </tr>\n",
       "    <tr>\n",
       "      <th>22</th>\n",
       "      <td>two</td>\n",
       "      <td>b</td>\n",
       "      <td>bar</td>\n",
       "      <td>-1.028675</td>\n",
       "      <td>0.118593</td>\n",
       "      <td>2017-11-15</td>\n",
       "    </tr>\n",
       "    <tr>\n",
       "      <th>23</th>\n",
       "      <td>three</td>\n",
       "      <td>c</td>\n",
       "      <td>bar</td>\n",
       "      <td>-1.925964</td>\n",
       "      <td>0.363091</td>\n",
       "      <td>2017-12-15</td>\n",
       "    </tr>\n",
       "  </tbody>\n",
       "</table>\n",
       "</div>"
      ],
      "text/plain": [
       "        A  B    C         D         E          F\n",
       "0     one  a  foo -0.659782  0.019359 2017-01-01\n",
       "1     one  b  foo  0.276314  0.247469 2017-02-01\n",
       "2     two  c  foo  2.152516 -1.307719 2017-03-01\n",
       "3   three  a  bar -2.438921  0.198047 2017-04-01\n",
       "4     one  b  bar  0.810488 -1.662328 2017-05-01\n",
       "5     one  c  bar -1.961798 -0.013632 2017-06-01\n",
       "6     two  a  foo -1.854651  1.338129 2017-07-01\n",
       "7   three  b  foo -0.163755 -1.441657 2017-08-01\n",
       "8     one  c  foo  0.704670  1.701206 2017-09-01\n",
       "9     one  a  bar  0.784878 -0.677511 2017-10-01\n",
       "10    two  b  bar  0.075688  1.026495 2017-11-01\n",
       "11  three  c  bar  0.592444  1.838892 2017-12-01\n",
       "12    one  a  foo  0.104933  0.499759 2017-01-15\n",
       "13    one  b  foo  0.637129  0.134687 2017-02-15\n",
       "14    two  c  foo -0.363090  0.888354 2017-03-15\n",
       "15  three  a  bar  0.896716  0.910035 2017-04-15\n",
       "16    one  b  bar  2.469472  1.088797 2017-05-15\n",
       "17    one  c  bar  1.364053 -0.131409 2017-06-15\n",
       "18    two  a  foo -1.046930 -0.339907 2017-07-15\n",
       "19  three  b  foo -0.132143  2.496378 2017-08-15\n",
       "20    one  c  foo  0.937418 -0.394534 2017-09-15\n",
       "21    one  a  bar -0.145668 -0.900635 2017-10-15\n",
       "22    two  b  bar -1.028675  0.118593 2017-11-15\n",
       "23  three  c  bar -1.925964  0.363091 2017-12-15"
      ]
     },
     "execution_count": 105,
     "metadata": {},
     "output_type": "execute_result"
    }
   ],
   "source": [
    "df4"
   ]
  },
  {
   "cell_type": "markdown",
   "metadata": {},
   "source": [
    "'F':[datetime.datetime(2017,i,1)for i in range(1,13)]+\n",
    "                    [datetime.datetime(2017,i,15)for i in range(1,13)]\n",
    "                    两个list相加是第二个追加到第一个后面"
   ]
  },
  {
   "cell_type": "code",
   "execution_count": 106,
   "metadata": {},
   "outputs": [
    {
     "data": {
      "text/html": [
       "<div>\n",
       "<style scoped>\n",
       "    .dataframe tbody tr th:only-of-type {\n",
       "        vertical-align: middle;\n",
       "    }\n",
       "\n",
       "    .dataframe tbody tr th {\n",
       "        vertical-align: top;\n",
       "    }\n",
       "\n",
       "    .dataframe thead th {\n",
       "        text-align: right;\n",
       "    }\n",
       "</style>\n",
       "<table border=\"1\" class=\"dataframe\">\n",
       "  <thead>\n",
       "    <tr style=\"text-align: right;\">\n",
       "      <th></th>\n",
       "      <th>C</th>\n",
       "      <th>bar</th>\n",
       "      <th>foo</th>\n",
       "    </tr>\n",
       "    <tr>\n",
       "      <th>A</th>\n",
       "      <th>B</th>\n",
       "      <th></th>\n",
       "      <th></th>\n",
       "    </tr>\n",
       "  </thead>\n",
       "  <tbody>\n",
       "    <tr>\n",
       "      <th rowspan=\"3\" valign=\"top\">one</th>\n",
       "      <th>a</th>\n",
       "      <td>0.319605</td>\n",
       "      <td>-0.277424</td>\n",
       "    </tr>\n",
       "    <tr>\n",
       "      <th>b</th>\n",
       "      <td>1.639980</td>\n",
       "      <td>0.456721</td>\n",
       "    </tr>\n",
       "    <tr>\n",
       "      <th>c</th>\n",
       "      <td>-0.298872</td>\n",
       "      <td>0.821044</td>\n",
       "    </tr>\n",
       "    <tr>\n",
       "      <th rowspan=\"3\" valign=\"top\">three</th>\n",
       "      <th>a</th>\n",
       "      <td>-0.771102</td>\n",
       "      <td>NaN</td>\n",
       "    </tr>\n",
       "    <tr>\n",
       "      <th>b</th>\n",
       "      <td>NaN</td>\n",
       "      <td>-0.147949</td>\n",
       "    </tr>\n",
       "    <tr>\n",
       "      <th>c</th>\n",
       "      <td>-0.666760</td>\n",
       "      <td>NaN</td>\n",
       "    </tr>\n",
       "    <tr>\n",
       "      <th rowspan=\"3\" valign=\"top\">two</th>\n",
       "      <th>a</th>\n",
       "      <td>NaN</td>\n",
       "      <td>-1.450791</td>\n",
       "    </tr>\n",
       "    <tr>\n",
       "      <th>b</th>\n",
       "      <td>-0.476493</td>\n",
       "      <td>NaN</td>\n",
       "    </tr>\n",
       "    <tr>\n",
       "      <th>c</th>\n",
       "      <td>NaN</td>\n",
       "      <td>0.894713</td>\n",
       "    </tr>\n",
       "  </tbody>\n",
       "</table>\n",
       "</div>"
      ],
      "text/plain": [
       "C             bar       foo\n",
       "A     B                    \n",
       "one   a  0.319605 -0.277424\n",
       "      b  1.639980  0.456721\n",
       "      c -0.298872  0.821044\n",
       "three a -0.771102       NaN\n",
       "      b       NaN -0.147949\n",
       "      c -0.666760       NaN\n",
       "two   a       NaN -1.450791\n",
       "      b -0.476493       NaN\n",
       "      c       NaN  0.894713"
      ]
     },
     "execution_count": 106,
     "metadata": {},
     "output_type": "execute_result"
    }
   ],
   "source": [
    "pd.pivot_table(df4,values=\"D\",index=[\"A\",\"B\"],columns=[\"C\"])"
   ]
  },
  {
   "cell_type": "markdown",
   "metadata": {},
   "source": [
    "* pandas.pivot_table(data, values=None, index=None, columns=None, aggfunc='mean', fill_value=None, margins=False, dropna=True, margins_name='All')\n",
    "* 以DataFrame的形式创建电子表格样式的数据透视表。数据透视表中的级别将存储在结果DataFrame的索引和列上的MultiIndex对象（分层索引）中\n",
    "\n",
    "* 参数：\n",
    "* 数据：DataFrame\n",
    "* 值：要聚合的列，可选\n",
    "* index：列，Grouper，数组或之前的列表\n",
    "\n",
    "* 如果传递数组，它必须与数据长度相同。该列表可以包含任何其他类型（列表除外）。按键在数据透视表索引上分组。如果传递数组，它将以与列值相同的方式使用。\n",
    "\n",
    "* 列：列，Grouper，数组或之前的列表\n",
    "\n",
    "* 如果传递数组，它必须与数据长度相同。该列表可以包含任何其他类型（列表除外）。在数据透视表列中按键分组。如果传递数组，它将以与列值相同的方式使用。\n",
    "\n",
    "* aggfunc：函数，函数列表，字典，默认numpy.mean\n",
    "http://pandas.pydata.org/pandas-docs/stable/generated/pandas.pivot_table.html"
   ]
  },
  {
   "cell_type": "markdown",
   "metadata": {},
   "source": [
    "# 时间序列 绘图 文件操作"
   ]
  },
  {
   "cell_type": "code",
   "execution_count": 108,
   "metadata": {},
   "outputs": [],
   "source": [
    "t_exam=pd.date_range(\"20170301\",periods=10,freq=\"S\")"
   ]
  },
  {
   "cell_type": "markdown",
   "metadata": {},
   "source": [
    "在秒的单位上构建10个连续的datetime类型\n",
    "http://pandas.pydata.org/pandas-docs/stable/timeseries.html#timeseries-offset-aliases"
   ]
  },
  {
   "cell_type": "code",
   "execution_count": 110,
   "metadata": {},
   "outputs": [
    {
     "data": {
      "text/plain": [
       "DatetimeIndex(['2017-03-01 00:00:00', '2017-03-01 00:00:01',\n",
       "               '2017-03-01 00:00:02', '2017-03-01 00:00:03',\n",
       "               '2017-03-01 00:00:04', '2017-03-01 00:00:05',\n",
       "               '2017-03-01 00:00:06', '2017-03-01 00:00:07',\n",
       "               '2017-03-01 00:00:08', '2017-03-01 00:00:09'],\n",
       "              dtype='datetime64[ns]', freq='S')"
      ]
     },
     "execution_count": 110,
     "metadata": {},
     "output_type": "execute_result"
    }
   ],
   "source": [
    "t_exam"
   ]
  },
  {
   "cell_type": "code",
   "execution_count": 111,
   "metadata": {},
   "outputs": [],
   "source": [
    "ts=pd.Series(np.random.randn(1000),index=pd.date_range(\"20170301\",periods=1000))"
   ]
  },
  {
   "cell_type": "code",
   "execution_count": 113,
   "metadata": {},
   "outputs": [],
   "source": [
    "ts=ts.cumsum()"
   ]
  },
  {
   "cell_type": "code",
   "execution_count": 114,
   "metadata": {},
   "outputs": [],
   "source": [
    "from pylab import *"
   ]
  },
  {
   "cell_type": "code",
   "execution_count": 115,
   "metadata": {},
   "outputs": [
    {
     "data": {
      "text/plain": [
       "<matplotlib.axes._subplots.AxesSubplot at 0xe36f2b7438>"
      ]
     },
     "execution_count": 115,
     "metadata": {},
     "output_type": "execute_result"
    },
    {
     "data": {
      "image/png": "[encoded data removed]",
      "text/plain": [
       "<Figure size 432x288 with 1 Axes>"
      ]
     },
     "metadata": {},
     "output_type": "display_data"
    }
   ],
   "source": [
    "ts.plot()"
   ]
  },
  {
   "cell_type": "markdown",
   "metadata": {},
   "source": [
    "### 文件操作"
   ]
  },
  {
   "cell_type": "markdown",
   "metadata": {},
   "source": [
    "* df1=pd.read_csv(\"./…….csv\") 读取\n",
    "* df2=pd.read_excel(\"……\"，\"Sheet1\")\n",
    "* df1.to_csv(\"…….csv\") 保存\n",
    "* df2.to_excel(\"…….xlxt\")"
   ]
  },
  {
   "cell_type": "code",
   "execution_count": null,
   "metadata": {},
   "outputs": [],
   "source": []
  }
 ],
 "metadata": {
  "kernelspec": {
   "display_name": "Python 3",
   "language": "python",
   "name": "python3"
  },
  "language_info": {
   "codemirror_mode": {
    "name": "ipython",
    "version": 3
   },
   "file_extension": ".py",
   "mimetype": "text/x-python",
   "name": "python",
   "nbconvert_exporter": "python",
   "pygments_lexer": "ipython3",
   "version": "3.6.5"
  }
 },
 "nbformat": 4,
 "nbformat_minor": 2
}
