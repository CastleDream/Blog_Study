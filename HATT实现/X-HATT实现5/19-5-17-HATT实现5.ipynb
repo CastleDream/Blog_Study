{
 "cells": [
  {
   "cell_type": "markdown",
   "metadata": {},
   "source": [
    "# 过程记录"
   ]
  },
  {
   "cell_type": "markdown",
   "metadata": {},
   "source": [
    "> 由于readme文件写的不是很明确，所以没有实现，不理解embedding_matrix的维度，会报错"
   ]
  },
  {
   "cell_type": "markdown",
   "metadata": {},
   "source": [
    "主要参考链接：\n",
    "\n",
    "https://github.com/charlesdong1991/interpretable-han-for-document-classification-with-keras"
   ]
  },
  {
   "cell_type": "code",
   "execution_count": 1,
   "metadata": {},
   "outputs": [
    {
     "name": "stderr",
     "output_type": "stream",
     "text": [
      "Using TensorFlow backend.\n"
     ]
    }
   ],
   "source": [
    "import pandas as pd\n",
    "import keras"
   ]
  },
  {
   "cell_type": "code",
   "execution_count": 2,
   "metadata": {},
   "outputs": [
    {
     "name": "stdout",
     "output_type": "stream",
     "text": [
      "2.2.4\n",
      "0.23.3\n"
     ]
    }
   ],
   "source": [
    "print(keras.__version__)\n",
    "print(pd.__version__)"
   ]
  },
  {
   "cell_type": "code",
   "execution_count": 10,
   "metadata": {},
   "outputs": [
    {
     "data": {
      "text/plain": [
       "<module 'test' from 'E:\\\\jupter\\\\Blog_Study\\\\HATT实现\\\\HATT实现5\\\\test.py'>"
      ]
     },
     "execution_count": 10,
     "metadata": {},
     "output_type": "execute_result"
    }
   ],
   "source": [
    "from test import  df_review\n",
    "from importlib import reload\n",
    "import test\n",
    "reload(test)"
   ]
  },
  {
   "cell_type": "markdown",
   "metadata": {},
   "source": [
    "# 数据处理"
   ]
  },
  {
   "cell_type": "code",
   "execution_count": 11,
   "metadata": {},
   "outputs": [],
   "source": [
    "data=df_review()"
   ]
  },
  {
   "cell_type": "code",
   "execution_count": 24,
   "metadata": {},
   "outputs": [
    {
     "data": {
      "text/html": [
       "<div>\n",
       "<style scoped>\n",
       "    .dataframe tbody tr th:only-of-type {\n",
       "        vertical-align: middle;\n",
       "    }\n",
       "\n",
       "    .dataframe tbody tr th {\n",
       "        vertical-align: top;\n",
       "    }\n",
       "\n",
       "    .dataframe thead th {\n",
       "        text-align: right;\n",
       "    }\n",
       "</style>\n",
       "<table border=\"1\" class=\"dataframe\">\n",
       "  <thead>\n",
       "    <tr style=\"text-align: right;\">\n",
       "      <th></th>\n",
       "      <th>review</th>\n",
       "      <th>label</th>\n",
       "    </tr>\n",
       "  </thead>\n",
       "  <tbody>\n",
       "    <tr>\n",
       "      <th>0</th>\n",
       "      <td>when at the very start of the film paleontolog...</td>\n",
       "      <td>0</td>\n",
       "    </tr>\n",
       "    <tr>\n",
       "      <th>1</th>\n",
       "      <td>i first viewed they died with there boots on,a...</td>\n",
       "      <td>1</td>\n",
       "    </tr>\n",
       "    <tr>\n",
       "      <th>2</th>\n",
       "      <td>another asian horror movie packed with intense...</td>\n",
       "      <td>1</td>\n",
       "    </tr>\n",
       "    <tr>\n",
       "      <th>3</th>\n",
       "      <td>i think that would have been a more appropriat...</td>\n",
       "      <td>0</td>\n",
       "    </tr>\n",
       "    <tr>\n",
       "      <th>4</th>\n",
       "      <td>thank god i didnt buy this movie myself! i bor...</td>\n",
       "      <td>0</td>\n",
       "    </tr>\n",
       "  </tbody>\n",
       "</table>\n",
       "</div>"
      ],
      "text/plain": [
       "                                              review  label\n",
       "0  when at the very start of the film paleontolog...      0\n",
       "1  i first viewed they died with there boots on,a...      1\n",
       "2  another asian horror movie packed with intense...      1\n",
       "3  i think that would have been a more appropriat...      0\n",
       "4  thank god i didnt buy this movie myself! i bor...      0"
      ]
     },
     "execution_count": 24,
     "metadata": {},
     "output_type": "execute_result"
    }
   ],
   "source": [
    "data.head()"
   ]
  },
  {
   "cell_type": "code",
   "execution_count": 27,
   "metadata": {},
   "outputs": [
    {
     "data": {
      "text/plain": [
       "(5454, 1297.68)"
      ]
     },
     "execution_count": 27,
     "metadata": {},
     "output_type": "execute_result"
    }
   ],
   "source": [
    "data.review.str.len()[1],data.review.str.len().mean()  #所以句子级别针对的文本长度是真的很长啊，平均1k多，这是文档级别的情感分析吧"
   ]
  },
  {
   "cell_type": "markdown",
   "metadata": {},
   "source": [
    "## 构建词典 文本向量化"
   ]
  },
  {
   "cell_type": "code",
   "execution_count": 55,
   "metadata": {},
   "outputs": [
    {
     "name": "stdout",
     "output_type": "stream",
     "text": [
      "2\n",
      "(2, 100)\n",
      "8\n",
      "(10, 100) [0 0 0 0 0 0 0 0 0 0 0 0 0 0 0 0 0 0 0 0 0 0 0 0 0 0 0 0 0 0 0 0 0 0 0 0 0\n",
      " 0 0 0 0 0 0 0 0 0 0 0 0 0 0 0 0 0 0 0 0 0 0 0 0 0 0 0 0 0 0 0 0 0 0 0 0 0\n",
      " 0 0 0 0 0 0 0 0 0 0 0 0 0 0 0 0 0 0 0 0 0 0 0 0 0 0] [  13   11  268    4 3216   56   29 1261   50    7   28   11  895 3217\n",
      "    9   15   21   30 1577   12   24   52   26  688    5  396    1  512\n",
      "   26  514  165 3218   22  687 3219  782  636   27  472 2147   22    1\n",
      " 3220 3221 3222    2 3223 3224   11 3225    8  168   30    1   95 1571\n",
      "    2    9   15 3226    5 3227   14 3228 1062   36    5  122   13    1\n",
      "  515 3229    4  575    9   15    3 2148 1059    2   40   15   22   18\n",
      " 3230    2  125   18  291  115 1051   62    5  427    2 1578    5  576\n",
      "   45    9]\n",
      "(10, 100) (1, 10, 100)\n"
     ]
    }
   ],
   "source": [
    "sentences = sent_tokenize(reviews[1])  #对每一条评论，分句，返回的sentences是一个分句list 以一个为例看一下整个过程\n",
    "# print(reviews[1]) #这个文本非常长，但是只有两个分句的标点符号\n",
    "print(len(sentences))\n",
    "tokenized_sentences = word_tokenizer.texts_to_sequences(sentences)\n",
    "\n",
    "tokenized_sentences = pad_sequences(tokenized_sentences, maxlen=100)  #填充数据长度到100\n",
    "print(tokenized_sentences.shape)\n",
    "pad_size = 10 - tokenized_sentences.shape[0]\n",
    "#控制每个reviews的分句数量在10以内\n",
    "print(pad_size)\n",
    "\n",
    "if pad_size < 0: \n",
    "        tokenized_sentences = tokenized_sentences[0:10]\n",
    "else: \n",
    "        tokenized_sentences = np.pad(tokenized_sentences, ((0, pad_size), (0, 0)), mode='constant', constant_values=0)\n",
    "print(tokenized_sentences.shape,tokenized_sentences[3],tokenized_sentences[1])\n",
    "#这里可以知道，原始的有2个分句，所以填充的是3-10的分句\n",
    "print(tokenized_sentences.shape,tokenized_sentences[None, ...].shape)\n",
    "#所以这里的tokenized_sentences[None, ...]中None的作用就相当于 expdim np.newaxis 的作用"
   ]
  },
  {
   "cell_type": "markdown",
   "metadata": {},
   "source": [
    "## 问题："
   ]
  },
  {
   "cell_type": "markdown",
   "metadata": {},
   "source": [
    "**限定长度真是一个反人类的操作，从这点上看，机器学习就不适合NLP**"
   ]
  },
  {
   "cell_type": "markdown",
   "metadata": {},
   "source": [
    "对于很长的文本，每句话也很长，起码这个数据集很奇葩，平均reviews长度1200，有甚者，reviews[1] 5k多长度，只有两个句子，但是规定分句长度的时候，只取前100，规定分句个数的时候，又是10。\n",
    "\n",
    "相当于丢失了很多原始信息，而加了很多0，如果不是用常数0填充，相当于引入了很多噪声。\n",
    "\n",
    "所以规定文本长度，填充文本长度这个东西就很反人类啊。\n",
    "\n",
    "人读文本的时候从来不会这样的。反观图像处理，会删除东西吗？再说图像也不能跟这个类比吧。"
   ]
  },
  {
   "cell_type": "markdown",
   "metadata": {},
   "source": [
    "## 相关函数学习"
   ]
  },
  {
   "cell_type": "markdown",
   "metadata": {},
   "source": [
    "### np.pad()"
   ]
  },
  {
   "cell_type": "markdown",
   "metadata": {},
   "source": [
    "```python\n",
    "Signature: np.pad(array, pad_width, mode, **kwargs)\n",
    "Docstring:Pads an array.\n",
    " \n",
    " \n",
    "https://blog.csdn.net/hustqb/article/details/77726660 这个博客理解的是对的\n",
    "    \n",
    "Parameters\n",
    "array : array_like of rank N   Input array\n",
    "pad_width : {sequence, array_like, int}\n",
    "    Number of values padded to the edges of each axis.((before_1, after_1), ... (before_N, after_N)) unique pad widths for each axis.\n",
    "    ((before, after),) yields same before and after pad for each axis.(pad,) or int is a shortcut for before = after = pad width for all axes.\n",
    "mode : str or function   One of the following string values or a user supplied function.\n",
    "    'constant'    Pads with a constant value.\n",
    "constant_values : sequence or int, optional  Used in 'constant'.  The values to set the padded values for each axis.\n",
    "```"
   ]
  },
  {
   "cell_type": "markdown",
   "metadata": {},
   "source": [
    "### np.newaxis 为 numpy.ndarray（多维数组）增加一个轴"
   ]
  },
  {
   "cell_type": "markdown",
   "metadata": {},
   "source": [
    "https://blog.csdn.net/lanchunhui/article/details/49725065 这个讲得很好"
   ]
  },
  {
   "cell_type": "markdown",
   "metadata": {},
   "source": [
    "所以使用None和np.newaxis效果一样的，都是扩展维度"
   ]
  },
  {
   "cell_type": "code",
   "execution_count": 63,
   "metadata": {},
   "outputs": [
    {
     "name": "stdout",
     "output_type": "stream",
     "text": [
      "[0 1 2] (3,)\n",
      "[[0]\n",
      " [1]\n",
      " [2]] (3, 1)\n",
      "[[0]\n",
      " [1]\n",
      " [2]] (3, 1)\n",
      "[[0]\n",
      " [1]\n",
      " [2]] (3, 1)\n"
     ]
    }
   ],
   "source": [
    "x = np.arange(3)\n",
    "print(x,x.shape)\n",
    "print(x[:, np.newaxis],x[:, np.newaxis].shape)\n",
    "print(x[:, None],x[:, None].shape)\n",
    "\n",
    "extend_x=np.expand_dims(x,axis=1)\n",
    "print(extend_x,extend_x.shape)"
   ]
  },
  {
   "cell_type": "code",
   "execution_count": 61,
   "metadata": {},
   "outputs": [
    {
     "name": "stdout",
     "output_type": "stream",
     "text": [
      "[ 2  6 10] (3,)\n"
     ]
    }
   ],
   "source": [
    "X = np.array([[1, 2, 3, 4], [5, 6, 7, 8], [9, 10, 11, 12]])\n",
    "'''\n",
    "这里和我之前理解axis=0和1的时候也一样，X[第一个轴的索引:第二个轴的索引]，\n",
    "X[:,1] 也就是说第一层中括号中所有元素都要，然后第二个轴中索引为1的元素\n",
    "'''\n",
    "print(X[:, 1],X[:, 1].shape)"
   ]
  },
  {
   "cell_type": "markdown",
   "metadata": {},
   "source": [
    "## 文本向量化"
   ]
  },
  {
   "cell_type": "code",
   "execution_count": 66,
   "metadata": {},
   "outputs": [],
   "source": [
    "from keras.preprocessing.text import Tokenizer\n",
    "import numpy as np\n",
    "from nltk.tokenize import sent_tokenize\n",
    "from keras.preprocessing.sequence import pad_sequences\n",
    "\n",
    "reviews = df_review()['review'].values\n",
    "word_tokenizer = Tokenizer(num_words=20000)\n",
    "word_tokenizer.fit_on_texts(reviews)\n",
    "\n",
    "X = np.zeros((len(reviews), 10, 100), dtype='int32')\n",
    "# 构建含有分句的矩阵\n",
    "\n",
    "'''\n",
    "tokenized_sentences.shape=(对应reviews的分句个数，100) 每个分句控制词数为100。\n",
    "np.pad第一个参数是input_array 第二个参数是要填充的数目边界，第一个括号表示axis=0 第二个表示axis=1，\n",
    "这里(0,pad_size) 比如上个cell中的例子，(0,8) 表示在已有数据的前面填充0个，后面填充8个。这里默认都填充在后面\n",
    "mode='constant' 表示全部用常数填充，后面使用常数0来填充\n",
    "'''\n",
    "for i, review in enumerate(reviews):\n",
    "    sentences = sent_tokenize(review)  \n",
    "    tokenized_sentences = word_tokenizer.texts_to_sequences(sentences)\n",
    "    tokenized_sentences = pad_sequences(tokenized_sentences, maxlen=100)  \n",
    "    pad_size = 10 - tokenized_sentences.shape[0]  \n",
    "\n",
    "    if pad_size < 0: #分句个数大于10的，只取前10个分句\n",
    "        tokenized_sentences = tokenized_sentences[0:10]\n",
    "    else: #<=10的，要进行填充\n",
    "        tokenized_sentences = np.pad(tokenized_sentences, ((0, pad_size), (0, 0)), mode='constant', constant_values=0)\n",
    "    X[i] = tokenized_sentences[None, ...]"
   ]
  },
  {
   "cell_type": "code",
   "execution_count": 67,
   "metadata": {},
   "outputs": [
    {
     "data": {
      "text/plain": [
       "(200, 10, 100)"
      ]
     },
     "execution_count": 67,
     "metadata": {},
     "output_type": "execute_result"
    }
   ],
   "source": [
    "X.shape   #200条reviews，每条有10个分句，每个分句100个词"
   ]
  },
  {
   "cell_type": "code",
   "execution_count": 68,
   "metadata": {},
   "outputs": [],
   "source": [
    "from model import HAN"
   ]
  },
  {
   "cell_type": "code",
   "execution_count": 70,
   "metadata": {},
   "outputs": [
    {
     "ename": "ValueError",
     "evalue": "Layer weight shape (200, 10) not compatible with provided weight shape (200, 10, 100)",
     "output_type": "error",
     "traceback": [
      "\u001b[1;31m---------------------------------------------------------------------------\u001b[0m",
      "\u001b[1;31mValueError\u001b[0m                                Traceback (most recent call last)",
      "\u001b[1;32m<ipython-input-70-4b9539948e26>\u001b[0m in \u001b[0;36m<module>\u001b[1;34m()\u001b[0m\n\u001b[1;32m----> 1\u001b[1;33m \u001b[0mhan\u001b[0m \u001b[1;33m=\u001b[0m \u001b[0mHAN\u001b[0m\u001b[1;33m(\u001b[0m\u001b[0membedding_matrix\u001b[0m\u001b[1;33m=\u001b[0m\u001b[0mX\u001b[0m\u001b[1;33m)\u001b[0m\u001b[1;33m\u001b[0m\u001b[0m\n\u001b[0m",
      "\u001b[1;32mE:\\jupter\\Blog_Study\\HATT实现\\HATT实现5\\model.py\u001b[0m in \u001b[0;36m__init__\u001b[1;34m(self, embedding_matrix, max_sent_length, max_sent_num, word_embed_dim, sent_embed_dim)\u001b[0m\n\u001b[0;32m     27\u001b[0m \u001b[1;33m\u001b[0m\u001b[0m\n\u001b[0;32m     28\u001b[0m         \u001b[0msuper\u001b[0m\u001b[1;33m(\u001b[0m\u001b[0mHAN\u001b[0m\u001b[1;33m,\u001b[0m \u001b[0mself\u001b[0m\u001b[1;33m)\u001b[0m\u001b[1;33m.\u001b[0m\u001b[0m__init__\u001b[0m\u001b[1;33m(\u001b[0m\u001b[0mname\u001b[0m\u001b[1;33m=\u001b[0m\u001b[1;34m'han'\u001b[0m\u001b[1;33m)\u001b[0m\u001b[1;33m\u001b[0m\u001b[0m\n\u001b[1;32m---> 29\u001b[1;33m         \u001b[0mself\u001b[0m\u001b[1;33m.\u001b[0m\u001b[0mbuild_model\u001b[0m\u001b[1;33m(\u001b[0m\u001b[1;33m)\u001b[0m\u001b[1;33m\u001b[0m\u001b[0m\n\u001b[0m\u001b[0;32m     30\u001b[0m \u001b[1;33m\u001b[0m\u001b[0m\n\u001b[0;32m     31\u001b[0m     \u001b[1;32mdef\u001b[0m \u001b[0mbuild_word_encoder\u001b[0m\u001b[1;33m(\u001b[0m\u001b[0mself\u001b[0m\u001b[1;33m)\u001b[0m\u001b[1;33m:\u001b[0m\u001b[1;33m\u001b[0m\u001b[0m\n",
      "\u001b[1;32mE:\\jupter\\Blog_Study\\HATT实现\\HATT实现5\\model.py\u001b[0m in \u001b[0;36mbuild_model\u001b[1;34m(self)\u001b[0m\n\u001b[0;32m     84\u001b[0m         \u001b[0mtext_input\u001b[0m \u001b[1;33m=\u001b[0m \u001b[0mInput\u001b[0m\u001b[1;33m(\u001b[0m\u001b[0mshape\u001b[0m\u001b[1;33m=\u001b[0m\u001b[1;33m(\u001b[0m\u001b[0mself\u001b[0m\u001b[1;33m.\u001b[0m\u001b[0mmax_sent_num\u001b[0m\u001b[1;33m,\u001b[0m \u001b[0mself\u001b[0m\u001b[1;33m.\u001b[0m\u001b[0mmax_sent_length\u001b[0m\u001b[1;33m)\u001b[0m\u001b[1;33m)\u001b[0m\u001b[1;33m\u001b[0m\u001b[0m\n\u001b[0;32m     85\u001b[0m         \u001b[1;31m# encode sentences into a single vector per sentence\u001b[0m\u001b[1;33m\u001b[0m\u001b[1;33m\u001b[0m\u001b[0m\n\u001b[1;32m---> 86\u001b[1;33m         \u001b[0mself\u001b[0m\u001b[1;33m.\u001b[0m\u001b[0mmodel_word\u001b[0m \u001b[1;33m=\u001b[0m \u001b[0mself\u001b[0m\u001b[1;33m.\u001b[0m\u001b[0mbuild_word_encoder\u001b[0m\u001b[1;33m(\u001b[0m\u001b[1;33m)\u001b[0m\u001b[1;33m\u001b[0m\u001b[0m\n\u001b[0m\u001b[0;32m     87\u001b[0m         \u001b[1;31m# time distribute word model to accept text input\u001b[0m\u001b[1;33m\u001b[0m\u001b[1;33m\u001b[0m\u001b[0m\n\u001b[0;32m     88\u001b[0m         \u001b[0msent_encoder\u001b[0m \u001b[1;33m=\u001b[0m \u001b[0mTimeDistributed\u001b[0m\u001b[1;33m(\u001b[0m\u001b[0mself\u001b[0m\u001b[1;33m.\u001b[0m\u001b[0mmodel_word\u001b[0m\u001b[1;33m)\u001b[0m\u001b[1;33m(\u001b[0m\u001b[0mtext_input\u001b[0m\u001b[1;33m)\u001b[0m\u001b[1;33m\u001b[0m\u001b[0m\n",
      "\u001b[1;32mE:\\jupter\\Blog_Study\\HATT实现\\HATT实现5\\model.py\u001b[0m in \u001b[0;36mbuild_word_encoder\u001b[1;34m(self)\u001b[0m\n\u001b[0;32m     42\u001b[0m             \u001b[0mweights\u001b[0m\u001b[1;33m=\u001b[0m\u001b[1;33m[\u001b[0m\u001b[0mself\u001b[0m\u001b[1;33m.\u001b[0m\u001b[0membedding_matrix\u001b[0m\u001b[1;33m]\u001b[0m\u001b[1;33m,\u001b[0m \u001b[0minput_length\u001b[0m\u001b[1;33m=\u001b[0m\u001b[0mself\u001b[0m\u001b[1;33m.\u001b[0m\u001b[0mmax_sent_length\u001b[0m\u001b[1;33m,\u001b[0m\u001b[1;33m\u001b[0m\u001b[0m\n\u001b[0;32m     43\u001b[0m             \u001b[0mtrainable\u001b[0m\u001b[1;33m=\u001b[0m\u001b[1;32mFalse\u001b[0m\u001b[1;33m\u001b[0m\u001b[0m\n\u001b[1;32m---> 44\u001b[1;33m         )(sent_input)\n\u001b[0m\u001b[0;32m     45\u001b[0m \u001b[1;33m\u001b[0m\u001b[0m\n\u001b[0;32m     46\u001b[0m         \u001b[1;31m# For Bidirectional, devide by 2\u001b[0m\u001b[1;33m\u001b[0m\u001b[1;33m\u001b[0m\u001b[0m\n",
      "\u001b[1;32mD:\\anaconda\\lib\\site-packages\\keras\\engine\\base_layer.py\u001b[0m in \u001b[0;36m__call__\u001b[1;34m(self, inputs, **kwargs)\u001b[0m\n\u001b[0;32m    434\u001b[0m                 \u001b[1;31m# Load weights that were specified at layer instantiation.\u001b[0m\u001b[1;33m\u001b[0m\u001b[1;33m\u001b[0m\u001b[0m\n\u001b[0;32m    435\u001b[0m                 \u001b[1;32mif\u001b[0m \u001b[0mself\u001b[0m\u001b[1;33m.\u001b[0m\u001b[0m_initial_weights\u001b[0m \u001b[1;32mis\u001b[0m \u001b[1;32mnot\u001b[0m \u001b[1;32mNone\u001b[0m\u001b[1;33m:\u001b[0m\u001b[1;33m\u001b[0m\u001b[0m\n\u001b[1;32m--> 436\u001b[1;33m                     \u001b[0mself\u001b[0m\u001b[1;33m.\u001b[0m\u001b[0mset_weights\u001b[0m\u001b[1;33m(\u001b[0m\u001b[0mself\u001b[0m\u001b[1;33m.\u001b[0m\u001b[0m_initial_weights\u001b[0m\u001b[1;33m)\u001b[0m\u001b[1;33m\u001b[0m\u001b[0m\n\u001b[0m\u001b[0;32m    437\u001b[0m \u001b[1;33m\u001b[0m\u001b[0m\n\u001b[0;32m    438\u001b[0m             \u001b[1;31m# Raise exceptions in case the input is not compatible\u001b[0m\u001b[1;33m\u001b[0m\u001b[1;33m\u001b[0m\u001b[0m\n",
      "\u001b[1;32mD:\\anaconda\\lib\\site-packages\\keras\\engine\\base_layer.py\u001b[0m in \u001b[0;36mset_weights\u001b[1;34m(self, weights)\u001b[0m\n\u001b[0;32m   1055\u001b[0m                                  \u001b[0mstr\u001b[0m\u001b[1;33m(\u001b[0m\u001b[0mpv\u001b[0m\u001b[1;33m.\u001b[0m\u001b[0mshape\u001b[0m\u001b[1;33m)\u001b[0m \u001b[1;33m+\u001b[0m\u001b[1;33m\u001b[0m\u001b[0m\n\u001b[0;32m   1056\u001b[0m                                  \u001b[1;34m' not compatible with '\u001b[0m\u001b[1;33m\u001b[0m\u001b[0m\n\u001b[1;32m-> 1057\u001b[1;33m                                  'provided weight shape ' + str(w.shape))\n\u001b[0m\u001b[0;32m   1058\u001b[0m             \u001b[0mweight_value_tuples\u001b[0m\u001b[1;33m.\u001b[0m\u001b[0mappend\u001b[0m\u001b[1;33m(\u001b[0m\u001b[1;33m(\u001b[0m\u001b[0mp\u001b[0m\u001b[1;33m,\u001b[0m \u001b[0mw\u001b[0m\u001b[1;33m)\u001b[0m\u001b[1;33m)\u001b[0m\u001b[1;33m\u001b[0m\u001b[0m\n\u001b[0;32m   1059\u001b[0m         \u001b[0mK\u001b[0m\u001b[1;33m.\u001b[0m\u001b[0mbatch_set_value\u001b[0m\u001b[1;33m(\u001b[0m\u001b[0mweight_value_tuples\u001b[0m\u001b[1;33m)\u001b[0m\u001b[1;33m\u001b[0m\u001b[0m\n",
      "\u001b[1;31mValueError\u001b[0m: Layer weight shape (200, 10) not compatible with provided weight shape (200, 10, 100)"
     ]
    }
   ],
   "source": [
    "han = HAN(embedding_matrix=X)"
   ]
  },
  {
   "cell_type": "code",
   "execution_count": null,
   "metadata": {},
   "outputs": [],
   "source": []
  }
 ],
 "metadata": {
  "kernelspec": {
   "display_name": "Python 3",
   "language": "python",
   "name": "python3"
  },
  "language_info": {
   "codemirror_mode": {
    "name": "ipython",
    "version": 3
   },
   "file_extension": ".py",
   "mimetype": "text/x-python",
   "name": "python",
   "nbconvert_exporter": "python",
   "pygments_lexer": "ipython3",
   "version": "3.6.6"
  },
  "toc": {
   "base_numbering": 1,
   "nav_menu": {},
   "number_sections": true,
   "sideBar": true,
   "skip_h1_title": false,
   "title_cell": "Table of Contents",
   "title_sidebar": "Contents",
   "toc_cell": false,
   "toc_position": {},
   "toc_section_display": true,
   "toc_window_display": true
  }
 },
 "nbformat": 4,
 "nbformat_minor": 2
}
