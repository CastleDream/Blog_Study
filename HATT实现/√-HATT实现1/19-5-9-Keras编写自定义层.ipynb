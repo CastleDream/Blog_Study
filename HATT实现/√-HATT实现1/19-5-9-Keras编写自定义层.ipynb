{
 "cells": [
  {
   "cell_type": "markdown",
   "metadata": {},
   "source": [
    "> 参考文献：\n",
    "+ keras自定义层骨架相关：\n",
    "    + [1].https://blog.csdn.net/DawnRanger/article/details/78307244#commentBox\n",
    "    + [2].https://keras.io/layers/writing-your-own-keras-layers/\n",
    "+ init和call函数：\n",
    "    + [3].https://blog.csdn.net/yaokai_assultmaster/article/details/70256621\n",
    "+ [4].[super](https://www.runoob.com/python/python-func-super.html)\n",
    "+ Actibation类相关：\n",
    "    + [5].https://keras.io/layers/core/#activation\n",
    "    + [6].https://github.com/keras-team/keras/blob/master/keras/layers/core.py#L277\n",
    "    + [7].https://www.tensorflow.org/api_docs/python/tf/keras/activations/get\n",
    "+ Layer类相关:\n",
    "    + [8] https://www.tensorflow.org/api_docs/python/tf/keras/layers/Layer\n",
    "+ keras源码解析：\n",
    "    + [9]https://blog.ddlee.cn/posts/4943e1b8/\n",
    "    + [10]https://www.jianshu.com/p/8dcddbc1c6d4"
   ]
  },
  {
   "cell_type": "markdown",
   "metadata": {},
   "source": [
    "官方文档的说明：\n",
    "\n",
    "对于简单的定制操作，我们或许可以通过使用layers.core.Lambda层来完成。但对于任何具有可训练权重的定制层，你应该自己来实现。\n",
    "\n",
    "+ build(input_shape)：这是定义权重的地方，这个方法中必须设置self.built = True，可通过调用super([layer],self).build()实现\n",
    "+ call(x)：这是定义层功能的方法，除非你希望你写的层支持masking，否则你只需要关心call的第一个参数：输入张量\n",
    "+ compute_output_shape(input_shape)：如果你的层修改了输入数据的shape，你应该在这里指定shape变化的方法，这个函数使得Keras可以进行shape的自动推断\n"
   ]
  },
  {
   "cell_type": "markdown",
   "metadata": {},
   "source": [
    "# 官方easy_demo"
   ]
  },
  {
   "cell_type": "markdown",
   "metadata": {},
   "source": [
    " ``` python\n",
    "\n",
    "#长知识了，知道怎么https://help.github.com/en/articles/creating-and-highlighting-code-blocks   创建并高亮代码块了 Markdown语法 神奇\n",
    "from keras import backend as K\n",
    "from keras.layers import Layer\n",
    "\n",
    "class MyLayer(Layer):\n",
    "    '''\n",
    "    类名后的参数表示继承，Layer 父类.\n",
    "    super(MyLayer, self).__init__(**kwargs) 继承Layer的__init__函数,继承**kwargs参数，自己定义/重写了output_dim\n",
    "    '''\n",
    "    def __init__(self, output_dim, **kwargs):\n",
    "        self.output_dim = output_dim\n",
    "        super(MyLayer, self).__init__(**kwargs)\n",
    "\n",
    "    def build(self, input_shape):\n",
    "        # Create a trainable weight variable for this layer.\n",
    "        '''\n",
    "        build()函数 用来创建当前层的weights，子类必须实现。\n",
    "        每层的参数通过这个add_weight()函数来设定。\n",
    "        super(MyLayer, self).build(input_shape) 同理，调用了Layer的build()函数\n",
    "        '''\n",
    "        self.kernel = self.add_weight(name='kernel', \n",
    "                            shape=(input_shape[1], self.output_dim),\n",
    "                            initializer='uniform',\n",
    "                            trainable=True)\n",
    "        super(MyLayer, self).build(input_shape)  # Be sure to call this at the end\n",
    "\n",
    "    def call(self, x):\n",
    "        '''\n",
    "        call是最重要的函数，它用于实现层的功能，子类必须实现。\n",
    "        魔法函数 __call__ 会将收到的输入传递给 call 函数，然后调用 call 函数实现具体的功能。\n",
    "        '''\n",
    "        return K.dot(x, self.kernel)\n",
    "\n",
    "    def compute_output_shape(self, input_shape):\n",
    "        '''\n",
    "        根据input_shape 计算输出的shape，子类必须实现。用于自动推断下一层的输入尺寸。\n",
    "        '''\n",
    "        return (input_shape[0], self.output_dim)\n",
    " ```"
   ]
  },
  {
   "cell_type": "markdown",
   "metadata": {},
   "source": [
    ">代码分析:<br>\n",
    "根据1.2.3执行顺序，可以知道上述代码：mylayer=Mylayer()时只是调用了_\\_init__()函数，当使用mylayer时，采用调用_\\_call__()函数，根据1.2.1 Layer类的一些说明，可知，_\\_call__()函数会先调用build(),确保build()调用之后，采取调用call()函数"
   ]
  },
  {
   "cell_type": "markdown",
   "metadata": {},
   "source": [
    "##  _\\_init__()函数、_\\_call__()函数、super()函数"
   ]
  },
  {
   "cell_type": "markdown",
   "metadata": {},
   "source": [
    "> _\\_init__()函数:<br>\n",
    "作用是初始化类的一个实例\n",
    "\n",
    ">_\\_call__()函数:<br>\n",
    "Python中的函数是一级对象。这意味着Python中的函数的引用可以作为输入传递到其他的函数/方法中，并在其中被执行。 \n",
    "而Python中类的实例（对象）可以被当做函数对待。也就是说，我们可以将它们作为输入传递到其他的函数/方法中并调用他们，正如我们调用一个正常的函数那样。而类中__call__()函数的意义正在于此。为了将一个类实例当做函数调用，我们需要在类中实现_\\_call__()方法。也就是我们要在类中实现如下方法：def _\\_call__(self, *args)。这个方法接受一定数量的变量作为输入。<br> \n",
    "假设x是X类的一个实例。那么调用x._\\_call__(1,2)等同于调用x(1,2)。这个实例本身在这里相当于一个函数。<br>\n",
    "\n",
    "例如：这个例子由博客[1]提供，正确性有待考量<br>\n",
    "_\\_call__ 让类的实例可以像函数一样调用，正是python的这种特性让我们可以像这样进行层之间的连接：\n",
    "```python\n",
    "inputs = Input(shape=(784,))\n",
    "# 前面的Dense(64, activation='relu')生成了类Dense的一个实例\n",
    "# 后面的(input)将调用类Dense的__call__函数\n",
    "x = Dense(64, activation='relu')(inputs)\n",
    "```\n",
    "\n",
    "\n",
    ">super函数：<br>\n",
    "**super() 函数是用于调用父类(超类)的一个方法。super 是用来解决多重继承问题的，直接用类名调用父类方法在使用单继承的时候没问题，但是如果使用多继承，会涉及到查找顺序（MRO）、重复调用（钻石继承）等种种问题。**MRO 就是类的方法解析顺序表, 其实也就是继承父类方法时的顺序表。<br>\n",
    "**super(type[, object-or-type])<br>\n",
    "参数  type -- 类(一般是用于调用父类方法的子类名称);object-or-type -- 类，一般是 self**\n"
   ]
  },
  {
   "cell_type": "markdown",
   "metadata": {},
   "source": [
    "## Layer类介绍"
   ]
  },
  {
   "cell_type": "markdown",
   "metadata": {},
   "source": [
    "根据参考链接[8]:"
   ]
  },
  {
   "cell_type": "markdown",
   "metadata": {},
   "source": [
    "### Layer类的一些说明"
   ]
  },
  {
   "cell_type": "markdown",
   "metadata": {},
   "source": [
    ">再看深的话就该去看keras源码解析了，。。。可以稍微参考\n",
    "\n",
    "Layer类是所有层类的父类，一个层是一个实施常见神经网络操作（比如：卷积，块正则等）的类，这些操作需要管理权重，损失，更新以及层之间的连接。\n",
    "\n",
    "使用时，只需要实例化一个层类调用即可。\n",
    "\n",
    "我们建议Layer的子类实现以下方法：（和keras要求不一样，keras还多一个compute_output_shape()但是实际上我看到的很多子类都没有这个方法，也就是说不是强求的，这个是可选的，真正需要实现的就build 添加变量（构建权重的） call 真正的逻辑部分，就足够了，如果最后输出的维度不一样，再加那个compute_output_shape()）\n",
    "\n",
    "+ _\\_init__():在成员变量中保存配置\n",
    "+ build():当我们知道输入的shape和dtype之后，build被_\\_call__调用一次，主要是调用其中的add_weights(),然后调用super的build方法（这会设置self.built=True,这在用户首次_\\_call__想要手动调用build时很好）\n",
    "+ call():在确保build()被调用之后被_\\_call__调用，实际作用是：执行该图层要作用到输入向量（应该作为第一个参数传递）的逻辑操作"
   ]
  },
  {
   "cell_type": "markdown",
   "metadata": {},
   "source": [
    "### 类中函数执行顺序的问题"
   ]
  },
  {
   "cell_type": "markdown",
   "metadata": {},
   "source": [
    ">参考链接：  https://www.jianshu.com/p/2e2ee316cfd0\n"
   ]
  },
  {
   "cell_type": "markdown",
   "metadata": {},
   "source": [
    "> _\\_init__()对象的初始化，是一个实例方法，第一个参数是self（对类进行实例化）<br>\n",
    "_\\_call__:对象可以进行call，注意，是对象（实例化类之后的），不是类。<br>\n",
    "当创建一个类的对象时，会先调用_\\_new__()函数，_\\_new__传递参数给_\\_init__(),_\\_init__()之后就得到了实例化的对象，<br>当使用这个对象时，就会调用_\\_call__()函数<br><br>\n",
    "在python中，类的行为就是这样，_\\_new__、_\\_init__、_\\_call__等方法不是必须写的，会默认调用，如果自己定义了，就是override,可以custom。既然override了，通常也会显式调用进行补偿以达到extend的目的。\n"
   ]
  },
  {
   "cell_type": "markdown",
   "metadata": {},
   "source": [
    "### Layer类的add_weight"
   ]
  },
  {
   "cell_type": "markdown",
   "metadata": {},
   "source": [
    "add_weight()函数，向层中添加一个新的变量，或者使用一个已存的变量，返回该变量"
   ]
  },
  {
   "cell_type": "markdown",
   "metadata": {},
   "source": [
    "### Layer类的build()"
   ]
  },
  {
   "cell_type": "markdown",
   "metadata": {},
   "source": [
    "build()函数，创建这个层的变量（一般使用add_weight来添加变量）。这个方法是由Layer或者Model的子类实现的，如果子类需要在层实例化和层调用之间进行状态创建步骤，可以重写这个方法。\n",
    "\n",
    "经常用来创建Layer子类的权重"
   ]
  },
  {
   "cell_type": "markdown",
   "metadata": {},
   "source": [
    "### Layer类的call()"
   ]
  },
  {
   "cell_type": "markdown",
   "metadata": {},
   "source": [
    "call()层的逻辑写在这里，返回一个张量或者一个张量列表/元祖"
   ]
  },
  {
   "cell_type": "markdown",
   "metadata": {},
   "source": [
    "### Layer类的compute_output_shape()"
   ]
  },
  {
   "cell_type": "markdown",
   "metadata": {},
   "source": [
    "    compute_output_shape(input_shape)函数，计算这层的输出shape。（假定这个层构建的时候会匹配所提供的输入shape）。\n",
    "    参数：input_shape:shape元组（整数元组）或者shape元组列表（这层的输出张量每个一个），对于自由维度，shape元组可以包含None，来代替整数\n",
    "    返回：一个输入shape元组"
   ]
  },
  {
   "cell_type": "markdown",
   "metadata": {},
   "source": [
    "# Activation例子"
   ]
  },
  {
   "cell_type": "markdown",
   "metadata": {},
   "source": [
    "```python\n",
    "class Activation(Layer):\n",
    "    \"\"\"Applies an activation function to an output.\n",
    "    # Arguments\n",
    "        activation: name of activation function to use\n",
    "            (see: [activations](../activations.md)),\n",
    "            or alternatively, a Theano or TensorFlow operation.\n",
    "    # Input shape\n",
    "        Arbitrary. Use the keyword argument `input_shape`\n",
    "        (tuple of integers, does not include the samples axis)\n",
    "        when using this layer as the first layer in a model.\n",
    "    # Output shape\n",
    "        Same shape as input.\n",
    "    \"\"\"\n",
    "\n",
    "    def __init__(self, activation, **kwargs):\n",
    "        '''\n",
    "        tf.keras.activations.get(identifier)\n",
    "        https://keras.io/activations/\n",
    "        可以使用的activations（也就是identifier的取值范围）\n",
    "        '''\n",
    "        super(Activation, self).__init__(**kwargs)\n",
    "        self.supports_masking = True\n",
    "        self.activation = activations.get(activation)\n",
    "\n",
    "    def call(self, inputs):\n",
    "        '''\n",
    "        完成逻辑功能部分，对输入进行的操作\n",
    "        '''\n",
    "        return self.activation(inputs)  \n",
    "\n",
    "    def get_config(self):\n",
    "        config = {'activation': activations.serialize(self.activation)}\n",
    "        base_config = super(Activation, self).get_config()\n",
    "        return dict(list(base_config.items()) + list(config.items()))\n",
    "\n",
    "    def compute_output_shape(self, input_shape):\n",
    "        return input_shape\n",
    "```"
   ]
  },
  {
   "cell_type": "code",
   "execution_count": null,
   "metadata": {},
   "outputs": [],
   "source": []
  }
 ],
 "metadata": {
  "kernelspec": {
   "display_name": "Python 3",
   "language": "python",
   "name": "python3"
  },
  "language_info": {
   "codemirror_mode": {
    "name": "ipython",
    "version": 3
   },
   "file_extension": ".py",
   "mimetype": "text/x-python",
   "name": "python",
   "nbconvert_exporter": "python",
   "pygments_lexer": "ipython3",
   "version": "3.6.6"
  },
  "toc": {
   "base_numbering": 1,
   "nav_menu": {},
   "number_sections": true,
   "sideBar": true,
   "skip_h1_title": false,
   "title_cell": "Table of Contents",
   "title_sidebar": "Contents",
   "toc_cell": false,
   "toc_position": {},
   "toc_section_display": true,
   "toc_window_display": true
  }
 },
 "nbformat": 4,
 "nbformat_minor": 2
}
