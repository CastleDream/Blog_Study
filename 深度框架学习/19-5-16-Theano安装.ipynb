{
 "cells": [
  {
   "cell_type": "markdown",
   "metadata": {},
   "source": [
    "一开始只是根据这个网页 http://deeplearning.net/software/theano/install_windows.html 直接pip install 各种，只是单纯的安装，没有配置。\n",
    "后来程序报错，数据类型的问题。\n",
    "\n",
    "**Cannot convert Type TensorType(float32, vector) (of Variable Elemwise{add,no_inplace}.0) into Type TensorType(float32, scalar). You can try to manually convert Elemwise{add,no_inplace}.0 into a TensorType(float32, scalar).**\n",
    "\n",
    "> 一开始安装的步骤：<br>\n",
    "theano安装：http://deeplearning.net/software/theano/install_windows.html <br>\n",
    "只支持conda安装，Python == 2.7* or ( >= 3.4 and < 3.6 )；NumPy >= 1.9.1 <= 1.12；SciPy >= 0.14 < 0.17.1； <br>\n",
    "conda install numpy scipy mkl-service libpython <m2w64-toolchain> <nose> <sphinx> <pydot-ng> <git>  <br>其中<>代表是可选的包，所以实际只要执行前面的就可以.考虑到分开安装theano和libgpuarray的复杂性，(需要编译，即便是windows环境下，比较麻烦)决定还是直接安装下面的，自己默认去把libgpuarray当依赖安装吧<br>\n",
    "+ conda install theano pygpu\n",
    "+ 安装了1.0.3版本，和numpy1.16不兼容，更新至1.0.4\n",
    "+ pip install --upgrade theano\n",
    "    \n",
    "------\n",
    "------\n",
    "\n",
    "出现错误后，重新面对这个问题，搜索可知，<br>\n",
    "参考链接：https://github.com/Theano/Theano/wiki/WindowsInstallation\n",
    "\n",
    "1. 先安装MinGW http://www.mingw.org/wiki/Getting_Started 下载安装，其实这是一个安装器。<br>\n",
    "（Anaconda安装完之后，如果Anaconda目录里没有MinGW目录，则表明该版本的Anaconda不带有MinGW。如果运行某些库（如Theano）需要MinGW，则我们自己需要安装。）\n",
    "2. 安装GCC  感觉不靠谱\n",
    "\n",
    "----\n",
    "\n",
    "## 正确的开始\n",
    "\n",
    "继续探索方案，<br>\n",
    "参考链接：https://zhyack.github.io/posts/2016_05_26-Configurate-Theano-On-Windows.html\n",
    "直接跟着这个走全套就好。\n",
    "\n",
    "+ pip install mkl mkl-service 需要先安这个\n",
    "\n",
    "1. conda install mingw libpython   报错源不行了，\n",
    "\n",
    "    删除之前配置的清华镜像，\n",
    "\n",
    "    (base) C:\\Users\\shanshan>conda config --show channels  <br>\n",
    "    channels:\n",
    "      - https://mirrors.tuna.tsinghua.edu.cn/anaconda/pkgs/main/\n",
    "      - https://mirrors.tuna.tsinghua.edu.cn/anaconda/pkgs/free/\n",
    "      - defaults\n",
    "\n",
    "    (base) C:\\Users\\shanshan>conda config --remove channels https://mirrors.tuna.tsi\n",
    "    nghua.edu.cn/anaconda/pkgs/main/\n",
    "\n",
    "    (base) C:\\Users\\shanshan>conda config --remove channels https://mirrors.tuna.tsi\n",
    "    nghua.edu.cn/anaconda/pkgs/free/\n",
    "    \n",
    "    这样之后再 conda install 就可以了 安装之后 去ananconda目录下查看是否多了一个MinGW，多了就对了。然后在cmd输入 gcc --version   可以看到gcc版本代表安对了。就不用再去配置系统路径了，安装anaconda时应该都默认加上了，如果没有看到版本就需要再去配置了。\n",
    "2. pip install theano\n",
    "3. 在c盘 用户/username/目录下创建一个叫做.theanorc(或者.theanorc.txt)文件, 并编辑其内容为:\n",
    "    - [global] \n",
    "    - openmp = False \n",
    "    - device = cpu \n",
    "    - floatX = float32 \n",
    "    - allow_input_downcast=True \n",
    "    - [blas] \n",
    "    - ldflags= \n",
    "    - [gcc] \n",
    "    - cxxflags=-ID:\\Anaconda\\MinGW\\x86_64-w64-mingw32\\include\n",
    "    <br>我的在D盘，所以改成D"
   ]
  },
  {
   "cell_type": "markdown",
   "metadata": {},
   "source": [
    "在经过一天的实践尝试之后发现，MinGW这个路径，由于系统路径写的是Anaconda路径，所以当想要的python版本是anaconda环境的时候，配置路径就有问题，就会出错。所以最好还是配置在最原本的python版本下好一点。\n",
    "\n",
    "直接对自己Anaconda原始python版本的keras进行修改，先\n",
    "\n",
    "pip uninstall keras\n",
    "\n",
    "pip install keras==2.0.8  改成和那个代码版本一致的，降级版本。但是会有警告信息：\n",
    "\n",
    "keras-preprocessing 1.0.1 has requirement keras>=2.1.6,but you'll have keras 2.0.8 which is incompatible\n",
    "\n",
    "\n",
    "keras-applications 1.0.2 has requirement keras>=2.1.6,but you'll have keras 2.0.8 which is incompatible\n",
    "\n",
    "-----\n",
    "\n",
    "+ 配置安装theano： https://zhyack.github.io/posts/2016_05_26-Configurate-Theano-On-Windows.html\n",
    "+ WARNING (theano.tensor.blas): Using NumPy C-API based implementation for BLAS functions.\n",
    "    + https://blog.csdn.net/m0_38058163/article/details/80657447\n",
    "+ http://deeplearning.net/software/theano/library/config.html#envvar-THEANO_FLAGS  <br>\n",
    "    config.blas.ldflags[source]\n",
    "    \n",
    "    Default: '-lblas'\n",
    "    \n",
    "    Link arguments to link against a (Fortran) level-3 blas implementation. The default will test if '-lblas' works. If not, we will disable our C code for BLAS."
   ]
  },
  {
   "cell_type": "markdown",
   "metadata": {},
   "source": [
    "## 问题"
   ]
  },
  {
   "cell_type": "markdown",
   "metadata": {},
   "source": [
    "但是这样修改了环境，我之后敲代码就稍微有点麻烦了，所以之前用到keras的代码可能都需要改一下，不过还好，不算很多。\n",
    "\n",
    "实在不行就再新建一个环境，在jupyter上再加一个内核就好"
   ]
  },
  {
   "cell_type": "code",
   "execution_count": null,
   "metadata": {},
   "outputs": [],
   "source": []
  }
 ],
 "metadata": {
  "kernelspec": {
   "display_name": "Python 3",
   "language": "python",
   "name": "python3"
  },
  "language_info": {
   "codemirror_mode": {
    "name": "ipython",
    "version": 3
   },
   "file_extension": ".py",
   "mimetype": "text/x-python",
   "name": "python",
   "nbconvert_exporter": "python",
   "pygments_lexer": "ipython3",
   "version": "3.6.6"
  },
  "toc": {
   "base_numbering": 1,
   "nav_menu": {},
   "number_sections": true,
   "sideBar": true,
   "skip_h1_title": false,
   "title_cell": "Table of Contents",
   "title_sidebar": "Contents",
   "toc_cell": false,
   "toc_position": {},
   "toc_section_display": true,
   "toc_window_display": false
  }
 },
 "nbformat": 4,
 "nbformat_minor": 2
}
