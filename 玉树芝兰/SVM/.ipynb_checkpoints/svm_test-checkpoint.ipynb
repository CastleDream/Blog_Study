{
 "cells": [
  {
   "cell_type": "markdown",
   "metadata": {},
   "source": [
    "# 预备函数知识"
   ]
  },
  {
   "cell_type": "markdown",
   "metadata": {},
   "source": [
    "## pd.read_csv参数详解（可以跳过不看）"
   ]
  },
  {
   "cell_type": "markdown",
   "metadata": {},
   "source": [
    "https://www.cnblogs.com/datablog/p/6127000.html \n",
    "参见这个博客"
   ]
  },
  {
   "cell_type": "markdown",
   "metadata": {},
   "source": [
    "## svm绘图使用的函数"
   ]
  },
  {
   "cell_type": "markdown",
   "metadata": {},
   "source": [
    "https://blog.csdn.net/geduo_feng/article/details/79187484 参考这个博客的解释\n",
    "\n",
    "在第6部分画图的部分也会再说"
   ]
  },
  {
   "cell_type": "markdown",
   "metadata": {},
   "source": [
    "# 处理数据"
   ]
  },
  {
   "cell_type": "code",
   "execution_count": 1,
   "metadata": {},
   "outputs": [],
   "source": [
    "import pandas as pd"
   ]
  },
  {
   "cell_type": "code",
   "execution_count": 2,
   "metadata": {},
   "outputs": [],
   "source": [
    "df=pd.read_csv('Iris.csv',header=None)"
   ]
  },
  {
   "cell_type": "markdown",
   "metadata": {},
   "source": [
    "因为这个数据集没有列名，所以要使用header来指明没有列名，所有都是数据，使用默认的数字列名"
   ]
  },
  {
   "cell_type": "code",
   "execution_count": 3,
   "metadata": {},
   "outputs": [
    {
     "data": {
      "text/html": [
       "<div>\n",
       "<style scoped>\n",
       "    .dataframe tbody tr th:only-of-type {\n",
       "        vertical-align: middle;\n",
       "    }\n",
       "\n",
       "    .dataframe tbody tr th {\n",
       "        vertical-align: top;\n",
       "    }\n",
       "\n",
       "    .dataframe thead th {\n",
       "        text-align: right;\n",
       "    }\n",
       "</style>\n",
       "<table border=\"1\" class=\"dataframe\">\n",
       "  <thead>\n",
       "    <tr style=\"text-align: right;\">\n",
       "      <th></th>\n",
       "      <th>0</th>\n",
       "      <th>1</th>\n",
       "      <th>2</th>\n",
       "      <th>3</th>\n",
       "      <th>4</th>\n",
       "    </tr>\n",
       "  </thead>\n",
       "  <tbody>\n",
       "    <tr>\n",
       "      <th>0</th>\n",
       "      <td>5.1</td>\n",
       "      <td>3.5</td>\n",
       "      <td>1.4</td>\n",
       "      <td>0.2</td>\n",
       "      <td>Iris-setosa</td>\n",
       "    </tr>\n",
       "    <tr>\n",
       "      <th>1</th>\n",
       "      <td>4.9</td>\n",
       "      <td>3.0</td>\n",
       "      <td>1.4</td>\n",
       "      <td>0.2</td>\n",
       "      <td>Iris-setosa</td>\n",
       "    </tr>\n",
       "    <tr>\n",
       "      <th>2</th>\n",
       "      <td>4.7</td>\n",
       "      <td>3.2</td>\n",
       "      <td>1.3</td>\n",
       "      <td>0.2</td>\n",
       "      <td>Iris-setosa</td>\n",
       "    </tr>\n",
       "    <tr>\n",
       "      <th>3</th>\n",
       "      <td>4.6</td>\n",
       "      <td>3.1</td>\n",
       "      <td>1.5</td>\n",
       "      <td>0.2</td>\n",
       "      <td>Iris-setosa</td>\n",
       "    </tr>\n",
       "    <tr>\n",
       "      <th>4</th>\n",
       "      <td>5.0</td>\n",
       "      <td>3.6</td>\n",
       "      <td>1.4</td>\n",
       "      <td>0.2</td>\n",
       "      <td>Iris-setosa</td>\n",
       "    </tr>\n",
       "  </tbody>\n",
       "</table>\n",
       "</div>"
      ],
      "text/plain": [
       "     0    1    2    3            4\n",
       "0  5.1  3.5  1.4  0.2  Iris-setosa\n",
       "1  4.9  3.0  1.4  0.2  Iris-setosa\n",
       "2  4.7  3.2  1.3  0.2  Iris-setosa\n",
       "3  4.6  3.1  1.5  0.2  Iris-setosa\n",
       "4  5.0  3.6  1.4  0.2  Iris-setosa"
      ]
     },
     "execution_count": 3,
     "metadata": {},
     "output_type": "execute_result"
    }
   ],
   "source": [
    "df.head(5)"
   ]
  },
  {
   "cell_type": "markdown",
   "metadata": {},
   "source": [
    "和之前的决策树流程差不多，因为这都是有监督的学习，所以都会有一个target目标列，也就是最后的分类结果列，所以一般分成X特征  Y分类"
   ]
  },
  {
   "cell_type": "code",
   "execution_count": 4,
   "metadata": {},
   "outputs": [],
   "source": [
    "X=df.drop(4,axis=1)"
   ]
  },
  {
   "cell_type": "code",
   "execution_count": 5,
   "metadata": {},
   "outputs": [
    {
     "data": {
      "text/html": [
       "<div>\n",
       "<style scoped>\n",
       "    .dataframe tbody tr th:only-of-type {\n",
       "        vertical-align: middle;\n",
       "    }\n",
       "\n",
       "    .dataframe tbody tr th {\n",
       "        vertical-align: top;\n",
       "    }\n",
       "\n",
       "    .dataframe thead th {\n",
       "        text-align: right;\n",
       "    }\n",
       "</style>\n",
       "<table border=\"1\" class=\"dataframe\">\n",
       "  <thead>\n",
       "    <tr style=\"text-align: right;\">\n",
       "      <th></th>\n",
       "      <th>0</th>\n",
       "      <th>1</th>\n",
       "      <th>2</th>\n",
       "      <th>3</th>\n",
       "    </tr>\n",
       "  </thead>\n",
       "  <tbody>\n",
       "    <tr>\n",
       "      <th>0</th>\n",
       "      <td>5.1</td>\n",
       "      <td>3.5</td>\n",
       "      <td>1.4</td>\n",
       "      <td>0.2</td>\n",
       "    </tr>\n",
       "    <tr>\n",
       "      <th>1</th>\n",
       "      <td>4.9</td>\n",
       "      <td>3.0</td>\n",
       "      <td>1.4</td>\n",
       "      <td>0.2</td>\n",
       "    </tr>\n",
       "    <tr>\n",
       "      <th>2</th>\n",
       "      <td>4.7</td>\n",
       "      <td>3.2</td>\n",
       "      <td>1.3</td>\n",
       "      <td>0.2</td>\n",
       "    </tr>\n",
       "    <tr>\n",
       "      <th>3</th>\n",
       "      <td>4.6</td>\n",
       "      <td>3.1</td>\n",
       "      <td>1.5</td>\n",
       "      <td>0.2</td>\n",
       "    </tr>\n",
       "    <tr>\n",
       "      <th>4</th>\n",
       "      <td>5.0</td>\n",
       "      <td>3.6</td>\n",
       "      <td>1.4</td>\n",
       "      <td>0.2</td>\n",
       "    </tr>\n",
       "  </tbody>\n",
       "</table>\n",
       "</div>"
      ],
      "text/plain": [
       "     0    1    2    3\n",
       "0  5.1  3.5  1.4  0.2\n",
       "1  4.9  3.0  1.4  0.2\n",
       "2  4.7  3.2  1.3  0.2\n",
       "3  4.6  3.1  1.5  0.2\n",
       "4  5.0  3.6  1.4  0.2"
      ]
     },
     "execution_count": 5,
     "metadata": {},
     "output_type": "execute_result"
    }
   ],
   "source": [
    "X.head(5)"
   ]
  },
  {
   "cell_type": "code",
   "execution_count": 6,
   "metadata": {},
   "outputs": [],
   "source": [
    "Y=df[4]"
   ]
  },
  {
   "cell_type": "code",
   "execution_count": 7,
   "metadata": {},
   "outputs": [
    {
     "data": {
      "text/plain": [
       "0    Iris-setosa\n",
       "1    Iris-setosa\n",
       "2    Iris-setosa\n",
       "3    Iris-setosa\n",
       "4    Iris-setosa\n",
       "Name: 4, dtype: object"
      ]
     },
     "execution_count": 7,
     "metadata": {},
     "output_type": "execute_result"
    }
   ],
   "source": [
    "Y.head(5)"
   ]
  },
  {
   "cell_type": "markdown",
   "metadata": {},
   "source": [
    "这里因为四个特征都是数值类型，所以不必使用default(LabelEncoder)再进行编码，可以直接进行分类，分成训练集和测试集"
   ]
  },
  {
   "cell_type": "markdown",
   "metadata": {},
   "source": [
    "# 判断数据分布"
   ]
  },
  {
   "cell_type": "markdown",
   "metadata": {},
   "source": [
    " 做分析的时候首先要看一下数据分布是不是有规律的，再决定是否要画图，这里因为已知iris这个数据集共有150个样本，前50一类，中间50一类，最后50一类，所以可以先画下前50，中50，后50的两个特征的图"
   ]
  },
  {
   "cell_type": "code",
   "execution_count": 8,
   "metadata": {},
   "outputs": [
    {
     "data": {
      "text/plain": [
       "<Figure size 640x480 with 1 Axes>"
      ]
     },
     "metadata": {},
     "output_type": "display_data"
    }
   ],
   "source": [
    "import matplotlib.pyplot as plt\n",
    "#plt.scatter(X, Y, c=iris.target, marker='x')\n",
    "f1=X.iloc[:,0]\n",
    "f2=X.iloc[:,3]\n",
    "plt.scatter(f1[:50], f2[:50], color='red', marker='o', label='setosa') #前50个样本\n",
    "plt.scatter(f1[50:100], f2[50:100], color='blue', marker='x', label='versicolor') #中间50个\n",
    "plt.scatter(f1[100:], f2[100:],color='green', marker='+', label='Virginica') #后50个样本\n",
    "plt.legend(loc=2) #左上角\n",
    "plt.show()"
   ]
  },
  {
   "cell_type": "markdown",
   "metadata": {},
   "source": [
    "**从图中可以看出，数据集线性可分的，可以划分为3类，分别对应三种类型的鸢尾花**\n",
    "+ 其实这个步骤应该放在建模预测之前，因为判断其线性可分，所以才能够进行建模预测"
   ]
  },
  {
   "cell_type": "markdown",
   "metadata": {},
   "source": [
    "# 分成训练集和测试集"
   ]
  },
  {
   "cell_type": "code",
   "execution_count": 9,
   "metadata": {},
   "outputs": [],
   "source": [
    "from sklearn.model_selection import train_test_split"
   ]
  },
  {
   "cell_type": "markdown",
   "metadata": {},
   "source": [
    "### ** 注意库的更新换代 **\n",
    "scikit-learn就是sklearn，我现在的版本是0.19版本\n",
    "+ 如果使用 from sklearn.cross_validation import train_test_split会提示这个函数已经移至model_selection这个库，而cross_validation这个库在0.20版本中将被删除"
   ]
  },
  {
   "cell_type": "code",
   "execution_count": 10,
   "metadata": {},
   "outputs": [],
   "source": [
    "X_train,X_test,Y_train,Y_test=train_test_split(X,Y,random_state=1)"
   ]
  },
  {
   "cell_type": "code",
   "execution_count": 11,
   "metadata": {},
   "outputs": [
    {
     "data": {
      "text/plain": [
       "(112, 4)"
      ]
     },
     "execution_count": 11,
     "metadata": {},
     "output_type": "execute_result"
    }
   ],
   "source": [
    "X_train.shape"
   ]
  },
  {
   "cell_type": "code",
   "execution_count": 12,
   "metadata": {},
   "outputs": [
    {
     "data": {
      "text/plain": [
       "(38, 4)"
      ]
     },
     "execution_count": 12,
     "metadata": {},
     "output_type": "execute_result"
    }
   ],
   "source": [
    "X_test.shape"
   ]
  },
  {
   "cell_type": "markdown",
   "metadata": {},
   "source": [
    "也就是说，如果不指定train_size,默认的train和test比例是3:1，\n",
    "\n",
    "** HoldOut**\n",
    "方法：将原始数据随机分为两组,一组做为训练集,一组做为验证集,利用训练集训练分类器,然后利用验证集验证模型,记录最后的分类准确率为此Hold-OutMethod下分类器的性能指标.。Hold-OutMethod相对于K-fold Cross Validation 又称Double cross-validation ，或相对K-CV称 2-fold cross-validation(2-CV)\n",
    "\n",
    "一般来说，Holdout 验证并非一种交叉验证，因为数据并没有交叉使用。 随机从最初的样本中选出部分，形成交叉验证数据，而剩余的就当做训练数据。 一般来说，少于原本样本三分之一的数据被选做验证数据。\n",
    "\n",
    "这大概就是依据吧\n"
   ]
  },
  {
   "cell_type": "markdown",
   "metadata": {},
   "source": [
    "接下来，就是使用sklearn已经实现的svm来训练适应这个问题的模型"
   ]
  },
  {
   "cell_type": "markdown",
   "metadata": {},
   "source": [
    "# 生成模型"
   ]
  },
  {
   "cell_type": "code",
   "execution_count": 13,
   "metadata": {},
   "outputs": [],
   "source": [
    "from sklearn import svm"
   ]
  },
  {
   "cell_type": "code",
   "execution_count": 14,
   "metadata": {},
   "outputs": [],
   "source": [
    "clf=svm.SVC(C=0.8,kernel='rbf',gamma=20, decision_function_shape='ovr')"
   ]
  },
  {
   "cell_type": "markdown",
   "metadata": {},
   "source": [
    "kernel='linear'时，为线性核，C越大分类效果越好，但有可能会过拟合（defaul C=1）。\n",
    "\n",
    "kernel='rbf'时（default），为高斯核，gamma值越小，分类界面越连续；gamma值越大，分类界面越“散”，分类效果越好，但有可能会过拟合。\n",
    "\n",
    "decision_function_shape='ovr'时，为one v rest，即一个类别与其他类别进行划分，\n",
    "\n",
    "decision_function_shape='ovo'时，为one v one，即将类别两两之间进行划分，用二分类的方法模拟多分类的结果。\n",
    "\n",
    "** SVC(support vectors classification) 支持向量分类**\n",
    "\n",
    "+ 因为SVM叫支持向量机，但是SVM既可以用来做分类，也可以用来做回归\n",
    "+ 和决策树一样，都是既可以做分类（离散值），又可以做回归（连续值）"
   ]
  },
  {
   "cell_type": "code",
   "execution_count": 15,
   "metadata": {},
   "outputs": [
    {
     "data": {
      "text/plain": [
       "SVC(C=0.8, cache_size=200, class_weight=None, coef0=0.0,\n",
       "  decision_function_shape='ovr', degree=3, gamma=20, kernel='rbf',\n",
       "  max_iter=-1, probability=False, random_state=None, shrinking=True,\n",
       "  tol=0.001, verbose=False)"
      ]
     },
     "execution_count": 15,
     "metadata": {},
     "output_type": "execute_result"
    }
   ],
   "source": [
    "clf.fit(X_train,Y_train)"
   ]
  },
  {
   "cell_type": "markdown",
   "metadata": {},
   "source": [
    "# 查看精度和测试结果"
   ]
  },
  {
   "cell_type": "code",
   "execution_count": 16,
   "metadata": {},
   "outputs": [],
   "source": [
    "from sklearn.metrics import accuracy_score"
   ]
  },
  {
   "cell_type": "code",
   "execution_count": 17,
   "metadata": {},
   "outputs": [
    {
     "data": {
      "text/plain": [
       "0.7368421052631579"
      ]
     },
     "execution_count": 17,
     "metadata": {},
     "output_type": "execute_result"
    }
   ],
   "source": [
    "accuracy_score(Y_test,clf.predict(X_test))"
   ]
  },
  {
   "cell_type": "markdown",
   "metadata": {},
   "source": [
    "这是准确率，accuracy_score(Y_true,Y_predict),也就是分类准确性达到了73多，很高，比我参考的博客那个人都高\n",
    "\n",
    "如果想查看决策函数，可以通过decision_function()实现\n",
    "+ 　decision_function中每一行的值代表距离各类别的距离\n",
    "\n",
    "大致看一下决策函数（分类依据）以及分类结果（只取了前10，不然太多）"
   ]
  },
  {
   "cell_type": "code",
   "execution_count": 18,
   "metadata": {},
   "outputs": [
    {
     "data": {
      "text/plain": [
       "array([[-0.32710222,  2.47212784,  0.85497437],\n",
       "       [-0.30223005,  0.82889594,  2.47333411],\n",
       "       [-0.30218574,  0.82188825,  2.4802975 ],\n",
       "       [ 2.48028444, -0.28082166,  0.80053723],\n",
       "       [-0.30716376,  0.83989805,  2.46726571],\n",
       "       [-0.30215841,  0.82191389,  2.48024452],\n",
       "       [-0.32488127,  2.48021966,  0.84466161],\n",
       "       [-0.3022148 ,  0.82369909,  2.47851571],\n",
       "       [ 2.26029264, -0.18213062,  0.92183798],\n",
       "       [ 2.5       , -0.29465435,  0.79465435]])"
      ]
     },
     "execution_count": 18,
     "metadata": {},
     "output_type": "execute_result"
    }
   ],
   "source": [
    "clf.decision_function(X_train[:10])"
   ]
  },
  {
   "cell_type": "code",
   "execution_count": 19,
   "metadata": {},
   "outputs": [
    {
     "data": {
      "text/plain": [
       "array(['Iris-virginica', 'Iris-virginica', 'Iris-versicolor',\n",
       "       'Iris-virginica', 'Iris-virginica', 'Iris-virginica',\n",
       "       'Iris-virginica', 'Iris-virginica', 'Iris-setosa',\n",
       "       'Iris-virginica'], dtype=object)"
      ]
     },
     "execution_count": 19,
     "metadata": {},
     "output_type": "execute_result"
    }
   ],
   "source": [
    "clf.predict(X_test[:10])"
   ]
  },
  {
   "cell_type": "markdown",
   "metadata": {},
   "source": [
    "# 画图（方便观察）"
   ]
  },
  {
   "cell_type": "markdown",
   "metadata": {},
   "source": [
    "注意：我参考的博客在生成模型的时候只使用了两列特征值，就是为了绘图，因为x轴y轴只能表示两个特征，所以必须选出两个特征\n",
    "\n",
    "## 特征选取"
   ]
  },
  {
   "cell_type": "markdown",
   "metadata": {},
   "source": [
    "这个[博客](https://www.cnblogs.com/bonelee/p/8632848.html)写的很好，很实用https://www.cnblogs.com/bonelee/p/8632848.html"
   ]
  },
  {
   "cell_type": "code",
   "execution_count": 20,
   "metadata": {},
   "outputs": [],
   "source": [
    "from sklearn.feature_selection import SelectKBest\n",
    "from sklearn.feature_selection import chi2\n",
    "iris = df\n",
    "X, y = df.iloc[:,0:3],df.iloc[:,4]\n",
    "X_new = SelectKBest(chi2, k=2).fit_transform(X, y)"
   ]
  },
  {
   "cell_type": "code",
   "execution_count": 21,
   "metadata": {},
   "outputs": [
    {
     "data": {
      "text/plain": [
       "array([[5.1, 1.4],\n",
       "       [4.9, 1.4],\n",
       "       [4.7, 1.3]])"
      ]
     },
     "execution_count": 21,
     "metadata": {},
     "output_type": "execute_result"
    }
   ],
   "source": [
    "X_new[0:3]"
   ]
  },
  {
   "cell_type": "markdown",
   "metadata": {},
   "source": [
    "自己查看原始Iris数据集，所以最优特征取的是第0列和第2列，所以再来试一次只用两个特征生成分类模型clf =classifier"
   ]
  },
  {
   "cell_type": "code",
   "execution_count": 22,
   "metadata": {},
   "outputs": [],
   "source": [
    "clf_extract=svm.SVC(C=0.8,kernel='rbf',gamma=20, decision_function_shape='ovr')"
   ]
  },
  {
   "cell_type": "code",
   "execution_count": 23,
   "metadata": {},
   "outputs": [],
   "source": [
    "x=iris.loc[:,[0,2]]"
   ]
  },
  {
   "cell_type": "markdown",
   "metadata": {},
   "source": [
    "由于这里是选择不连续的列，所以直接使用label，也就是列名或者index名称更方便"
   ]
  },
  {
   "cell_type": "code",
   "execution_count": 24,
   "metadata": {},
   "outputs": [],
   "source": [
    "y=iris.loc[:,4]"
   ]
  },
  {
   "cell_type": "code",
   "execution_count": 25,
   "metadata": {},
   "outputs": [],
   "source": [
    "x_train,x_test,y_train,y_test=train_test_split(x,y,random_state=1)"
   ]
  },
  {
   "cell_type": "code",
   "execution_count": 26,
   "metadata": {},
   "outputs": [
    {
     "data": {
      "text/plain": [
       "SVC(C=0.8, cache_size=200, class_weight=None, coef0=0.0,\n",
       "  decision_function_shape='ovr', degree=3, gamma=20, kernel='rbf',\n",
       "  max_iter=-1, probability=False, random_state=None, shrinking=True,\n",
       "  tol=0.001, verbose=False)"
      ]
     },
     "execution_count": 26,
     "metadata": {},
     "output_type": "execute_result"
    }
   ],
   "source": [
    "clf_extract.fit(x_train,y_train)"
   ]
  },
  {
   "cell_type": "code",
   "execution_count": 27,
   "metadata": {},
   "outputs": [
    {
     "data": {
      "text/plain": [
       "0.9473684210526315"
      ]
     },
     "execution_count": 27,
     "metadata": {},
     "output_type": "execute_result"
    }
   ],
   "source": [
    "accuracy_score(y_test,clf_extract.predict(x_test))"
   ]
  },
  {
   "cell_type": "markdown",
   "metadata": {},
   "source": [
    "所以这两个函数作用其实一样的，但是明显下面这个函数更简洁\n",
    "+ svm.SVC.scorescore(self, X, y, sample_weight=None)\n",
    "   + 返回给定的测试数据以及正确表情的平均准确率\n",
    "   + 参数X： 数组类型，测试样本\n",
    "   + 参数y，也是数组类型，X的真（正确）的标记\n",
    "   + 样本权重，可选 \n",
    "   + 返回值：浮点数，返回self.predict(X） wrt.y\n",
    "+ 也就是说这个函数多做了一个预测clf.predict(X)的操作"
   ]
  },
  {
   "cell_type": "code",
   "execution_count": 28,
   "metadata": {},
   "outputs": [
    {
     "data": {
      "text/plain": [
       "0.9473684210526315"
      ]
     },
     "execution_count": 28,
     "metadata": {},
     "output_type": "execute_result"
    }
   ],
   "source": [
    "clf_extract.score(x_test,y_test) #测试集的准确度，相对有意义"
   ]
  },
  {
   "cell_type": "code",
   "execution_count": 29,
   "metadata": {},
   "outputs": [
    {
     "data": {
      "text/plain": [
       "0.9732142857142857"
      ]
     },
     "execution_count": 29,
     "metadata": {},
     "output_type": "execute_result"
    }
   ],
   "source": [
    "clf_extract.score(x_train,y_train)# 训练集的准确度，很高，但是没什么意义"
   ]
  },
  {
   "cell_type": "code",
   "execution_count": 30,
   "metadata": {},
   "outputs": [
    {
     "data": {
      "text/plain": [
       "array(['Iris-virginica', 'Iris-versicolor', 'Iris-versicolor',\n",
       "       'Iris-setosa', 'Iris-virginica'], dtype=object)"
      ]
     },
     "execution_count": 30,
     "metadata": {},
     "output_type": "execute_result"
    }
   ],
   "source": [
    "y_hat=clf_extract.predict(x_test)\n",
    "y_hat[:5]"
   ]
  },
  {
   "cell_type": "markdown",
   "metadata": {},
   "source": [
    "上面的**hat** ，其实就是帽子的意思，就是y的估计值的意思。如下：<br>\n",
    "\n",
    "$$ \n",
    "\\hat{y} \n",
    "$$\n",
    "\n",
    "$$ \n",
    "\\bar{x}  \n",
    "$$\n"
   ]
  },
  {
   "cell_type": "markdown",
   "metadata": {},
   "source": [
    "** 所以只使用最重要的两个特征，反倒准确度很高，提高了20%多，恐怖 **\n",
    "\n",
    "简单的说一下 \n",
    "+ Iris数据集的四个特征，四列分别代表\n",
    "    + 花萼长度、花萼宽度、花瓣长度、花瓣宽度\n",
    "    + 所以最明显有用，区分度最高的特征是花萼长度和花瓣长度这两个特征\n",
    "+ 分类里的三类分别是：\n",
    "    + 山鸢尾、变色鸢尾还是维吉尼亚鸢尾"
   ]
  },
  {
   "cell_type": "markdown",
   "metadata": {},
   "source": [
    "## 真的画图"
   ]
  },
  {
   "cell_type": "markdown",
   "metadata": {},
   "source": [
    "网上有很多画图的例子，这里多试几种，哪个好看以后就用哪个"
   ]
  },
  {
   "cell_type": "markdown",
   "metadata": {},
   "source": [
    "### 第一种，带背景（区域状色块的）"
   ]
  },
  {
   "cell_type": "markdown",
   "metadata": {},
   "source": [
    "参考博客：\n",
    "http://www.cnblogs.com/shenxiaolin/p/8854838.html\n",
    "\n",
    "[1]. https://www.cnblogs.com/luyaoblog/p/6775342.html\n",
    "\n",
    "上面这两个是一个借鉴另一个，基本差不多\n",
    "\n",
    "https://blog.csdn.net/geduo_feng/article/details/79187484\n",
    "\n",
    "这个更好，给出了官方文档连接\n",
    "\n",
    "[2]. http://scikit-learn.org/stable/auto_examples/svm/plot_iris.html#sphx-glr-auto-examples-svm-plot-iris-py\n",
    "\n",
    "这个才是实际用的最好的\n",
    "+ 下面是按照1和2对照进行的"
   ]
  },
  {
   "cell_type": "code",
   "execution_count": 31,
   "metadata": {},
   "outputs": [
    {
     "data": {
      "image/png": "[encoded data removed]",
      "text/plain": [
       "<Figure size 432x288 with 4 Axes>"
      ]
     },
     "metadata": {},
     "output_type": "display_data"
    }
   ],
   "source": [
    "import numpy as np\n",
    "import matplotlib.pyplot as plt\n",
    "from sklearn import svm, datasets\n",
    "\n",
    "def make_meshgrid(x, y, h=.02):\n",
    "    \"\"\"Create a mesh of points to plot in\n",
    "      创建要绘制的点的网格\n",
    "    Parameters\n",
    "    ----------\n",
    "    x: data to base x-axis meshgrid on 数据以x轴网格为基础\n",
    "    y: data to base y-axis meshgrid on 数据以y轴网格为基础\n",
    "    h: stepsize for meshgrid, optional 网格划分间距 可选\n",
    "\n",
    "    Returns\n",
    "    -------\n",
    "    xx, yy : ndarray 返回ndarray类型的数组（numpy）\n",
    "    \"\"\"\n",
    "    x_min, x_max = x.min() - 1, x.max() + 1\n",
    "    y_min, y_max = y.min() - 1, y.max() + 1\n",
    "    xx, yy = np.meshgrid(np.arange(x_min, x_max, h),\n",
    "                         np.arange(y_min, y_max, h))\n",
    "    return xx, yy\n",
    "#和下面我使用的写法不一样，但是都是产生一个值的范围，用作x轴y轴坐标轴的范围以及刻度\n",
    "\n",
    "def plot_contours(ax, clf, xx, yy, **params):\n",
    "    \"\"\"Plot the decision boundaries for a classifier.\n",
    "\n",
    "    Parameters\n",
    "    ----------\n",
    "    ax: matplotlib axes object\n",
    "    clf: a classifier\n",
    "    xx: meshgrid ndarray\n",
    "    yy: meshgrid ndarray\n",
    "    params: dictionary of params to pass to contourf, optional\n",
    "\"\"\"\n",
    "    Z = clf.predict(np.c_[xx.ravel(), yy.ravel()])\n",
    "    Z = Z.reshape(xx.shape)\n",
    "    out = ax.contourf(xx, yy, Z, **params)\n",
    "    return out\n",
    "\n",
    "\n",
    "# import some data to play with\n",
    "iris = datasets.load_iris()\n",
    "# Take the first two features. We could avoid this by using a two-dim dataset\n",
    "X = iris.data[:, :2]\n",
    "y = iris.target\n",
    "\n",
    "# we create an instance of SVM and fit out data. We do not scale our\n",
    "# data since we want to plot the support vectors\n",
    "C = 1.0  # SVM regularization parameter\n",
    "models = (svm.SVC(kernel='linear', C=C),\n",
    "          svm.LinearSVC(C=C),\n",
    "          svm.SVC(kernel='rbf', gamma=0.7, C=C),\n",
    "          svm.SVC(kernel='poly', degree=3, C=C))\n",
    "models = (clf.fit(X, y) for clf in models)\n",
    "\n",
    "# title for the plots\n",
    "titles = ('SVC with linear kernel',\n",
    "          'LinearSVC (linear kernel)',\n",
    "          'SVC with RBF kernel',\n",
    "          'SVC with polynomial (degree 3) kernel')\n",
    "\n",
    "# Set-up 2x2 grid for plotting.\n",
    "fig, sub = plt.subplots(2, 2)\n",
    "plt.subplots_adjust(wspace=0.4, hspace=0.4)\n",
    "\n",
    "X0, X1 = X[:, 0], X[:, 1]\n",
    "xx, yy = make_meshgrid(X0, X1)\n",
    "\n",
    "# zip函数 从这三个参数中每次各取一个元素，打包成元组，最后返回一个元组列表 clf ->models title->titles ax->sub.flatten()\n",
    "for clf, title, ax in zip(models, titles, sub.flatten()):\n",
    "    plot_contours(ax, clf, xx, yy,\n",
    "                  cmap=plt.cm.coolwarm, alpha=0.8)\n",
    "    ax.scatter(X0, X1, c=y, cmap=plt.cm.coolwarm, s=20, edgecolors='k')\n",
    "    ax.set_xlim(xx.min(), xx.max()) #设置坐标轴范围\n",
    "    ax.set_ylim(yy.min(), yy.max())\n",
    "    ax.set_xlabel('Sepal length')#设置坐标轴标签\n",
    "    ax.set_ylabel('Sepal width')\n",
    "    ax.set_xticks(()) #设置坐标轴刻度\n",
    "    ax.set_yticks(())\n",
    "    ax.set_title(title)#设置图的名字\n",
    "\n",
    "plt.show()"
   ]
  },
  {
   "cell_type": "markdown",
   "metadata": {},
   "source": [
    "借鉴然后运用到自己的模型数据中\n",
    "\n",
    "+ 因为我选择的特征是第0列和第2列，所以先求出这两列的最值，根据最值来划分网格范围"
   ]
  },
  {
   "cell_type": "markdown",
   "metadata": {},
   "source": [
    "### 代码解释"
   ]
  },
  {
   "cell_type": "code",
   "execution_count": 32,
   "metadata": {},
   "outputs": [
    {
     "name": "stdout",
     "output_type": "stream",
     "text": [
      "4.3 7.9 1.0 6.9\n"
     ]
    }
   ],
   "source": [
    "print(x.iloc[:, 0].min(), x.iloc[:, 0].max(),x.iloc[:, 1].min(), x.iloc[:, 1].max())"
   ]
  },
  {
   "cell_type": "markdown",
   "metadata": {},
   "source": [
    "**mgrid用法：**\n",
    ">返回多维结构，常见的如2D图形，3D图形。**对比np.meshgrid，在处理大数据时速度更快. **\n",
    "><br> ret = np.mgrid[ 第1维，第2维 ，第3维 ， …] \n",
    "> <br>返回多值，以多个矩阵的形式返回，第1返回值为第1维数据在最终结构中的分布，第2返回值为第2维数据在最终结构中的分布，以此类推。（分布以矩阵形式现） \n",
    "> <br>例如xx，yy=np.mgrid[x , y]   样本（i，j）的坐标为 （X[i，j],Y[i，j]）,X代表第1维，Y代表第2维，在此例中分别为横纵坐标。\n",
    "\n",
    ">xx=np.mgrid[1:3:3j]# 最后一个数字3j是复数，表示产生序列的个数，实数时表示间隔"
   ]
  },
  {
   "cell_type": "markdown",
   "metadata": {},
   "source": [
    " **np.ravel()和np.flatten()**\n",
    ">两者的功能是一致的，将多维数组降为一维，但是两者的区别是返回拷贝还是返回视图，\n",
    "+ np.flatten(0返回一份拷贝，对拷贝所做修改不会影响原始矩阵，\n",
    "+ 而np.ravel()返回的是视图，修改时会影响原始矩阵"
   ]
  },
  {
   "cell_type": "code",
   "execution_count": 33,
   "metadata": {},
   "outputs": [],
   "source": [
    "from sklearn.preprocessing import LabelEncoder\n",
    "from collections import defaultdict\n",
    "import pandas as pd\n",
    "df=pd.read_csv('Iris.csv',header=None)"
   ]
  },
  {
   "cell_type": "code",
   "execution_count": 34,
   "metadata": {},
   "outputs": [],
   "source": [
    "y=df.iloc[:,4]"
   ]
  },
  {
   "cell_type": "code",
   "execution_count": 35,
   "metadata": {},
   "outputs": [],
   "source": [
    "y=LabelEncoder().fit_transform(y)"
   ]
  },
  {
   "cell_type": "code",
   "execution_count": 36,
   "metadata": {},
   "outputs": [
    {
     "data": {
      "text/plain": [
       "array([0, 0, 0, 0, 0, 0, 0, 0, 0, 0, 0, 0, 0, 0, 0, 0, 0, 0, 0, 0, 0, 0,\n",
       "       0, 0, 0, 0, 0, 0, 0, 0, 0, 0, 0, 0, 0, 0, 0, 0, 0, 0, 0, 0, 0, 0,\n",
       "       0, 0, 0, 0, 0, 0, 1, 1, 1, 1, 1, 1, 1, 1, 1, 1, 1, 1, 1, 1, 1, 1,\n",
       "       1, 1, 1, 1, 1, 1, 1, 1, 1, 1, 1, 1, 1, 1, 1, 1, 1, 1, 1, 1, 1, 1,\n",
       "       1, 1, 1, 1, 1, 1, 1, 1, 1, 1, 1, 1, 2, 2, 2, 2, 2, 2, 2, 2, 2, 2,\n",
       "       2, 2, 2, 2, 2, 2, 2, 2, 2, 2, 2, 2, 2, 2, 2, 2, 2, 2, 2, 2, 2, 2,\n",
       "       2, 2, 2, 2, 2, 2, 2, 2, 2, 2, 2, 2, 2, 2, 2, 2, 2, 2], dtype=int64)"
      ]
     },
     "execution_count": 36,
     "metadata": {},
     "output_type": "execute_result"
    }
   ],
   "source": [
    "y"
   ]
  },
  {
   "cell_type": "code",
   "execution_count": 37,
   "metadata": {},
   "outputs": [],
   "source": [
    "x0_min, x0_max = x.iloc[:, 0].min(), x.iloc[:, 0].max()  # 第0列的范围  x=iris.loc[:,[0,2]]我的x只有这两列\n",
    "x1_min, x1_max = x.iloc[:, 1].min(), x.iloc[:, 1].max()  # 第1列的范围\n",
    "xx, yy = np.mgrid[x0_min:x0_max:200j, x1_min:x1_max:200j]  # 生成网格采样点  看上面的介绍，以多个矩阵的形式返回\n",
    "# 这个相当于官方代码中的 make_meshgrid"
   ]
  },
  {
   "cell_type": "markdown",
   "metadata": {},
   "source": [
    "jupter notebook 撤销误删 没有这个功能\n",
    "+ 但是可以通过history命令从历史命令中找到要恢复的那个，但是只能恢复代码命令，不能恢复注释类文本"
   ]
  },
  {
   "cell_type": "markdown",
   "metadata": {},
   "source": [
    "+ 使用xx[1:2]对xx进行观察，xx是一个列表型列表，其中每个元素的200个值都是一样的，4.3 7.9 1.0 6.9，其实x中每个元素的200个一样的值是[4.3,7.9]分成200个间隔得到的\n",
    "    + xx[0:1]=4.3\n",
    "    + xx[1:2]=4.3+(7.9-4.3)/200 其他同理"
   ]
  },
  {
   "cell_type": "markdown",
   "metadata": {},
   "source": [
    "+ 同理，使用yy[:2]对yy进行观察，yy也是列表型列表，但是其中每个元素的200个值不一样了\n",
    "    + 但是yy[:,1]=yy[:,2]，即yy中每个元素（列表）与其他元素（列表）之间对应值相等\n",
    "+ 对应于yy，最值范围是[1.0,6.9],所以对于yy中任何一个元素（每个元素都是列表），列表中数据都是[1.0……6.9]中间200个，均匀分布\n",
    "    + 1+5.9/200=1.0295\n",
    "    + 1.0+5.9/100=1.059\n",
    "+ 因为yy[:2]或者xx[1:2]的输出太大，占地方，所以没显示，感兴趣可以自己输出看看样子"
   ]
  },
  {
   "cell_type": "markdown",
   "metadata": {},
   "source": [
    "xx, yy = np.mgrid[x0_min:x0_max:200j, x1_min:x1_max:200j]  # 生成网格采样点 \n",
    "\n",
    "所以这句代码其实就是生成了一个200*\\200=4w的贼大的网格，这里给出一个网格的示例图，帮助理解"
   ]
  },
  {
   "cell_type": "markdown",
   "metadata": {},
   "source": [
    "![avatar](https://wx4.sinaimg.cn/mw690/0071mudSly1fspswcb4aij30d308dwey.jpg)"
   ]
  },
  {
   "cell_type": "markdown",
   "metadata": {},
   "source": [
    "+ 博客[1]中\n",
    "<br>1. grid_test = np.stack((x1.flat, x2.flat), axis=1)\n",
    "<br>2. grid_hat = clf.predict(grid_test)       # 预测分类值\n",
    "<br>3. grid_hat = grid_hat.reshape(x1.shape)  # 使之与输入的形状相同\n",
    "+ 官方[2]中\n",
    "<br>4. Z = clf.predict(np.c_[xx.ravel(), yy.ravel()])\n",
    "<br>5. Z = Z.reshape(xx.shape)\n",
    "+ 1.2代码行=4代码行。这两者其实都是把刚刚得到的xx和yy进行扁平化（降维）降成一维\n",
    "    + xx.ravel()[:202]可以试试用这个观察下这个一维数据的样子，其实就是把xx压扁成一维\n",
    "    + 同理，yy.ravel()也是\n",
    "    + xx.flat完成的工作和xx.ravel完成的相似\n",
    "+ 接下来是stack和np_c\n",
    "    \n",
    ">#np.r_是按列连接两个矩阵，就是把两矩阵上下相加，要求列数相等，类似于pandas中的concat()。\n",
    "<br>#np.c_是按行连接两个矩阵，就是把两矩阵左右相加，要求行数相等，类似于pandas中的merge()。 \n",
    "<br>a = np.array([1, 2, 3])\n",
    "<br>b = np.array([4, 5, 6])\n",
    "<br>np.r_[a,b]:[1 2 3 4 5 6]\n",
    "<br>np.c_[a,b]:\n",
    "<br>[[1 4]\n",
    "<br> [2 5]\n",
    "<br> [3 6]]\n",
    "\n",
    ">np.stack((a,b),axis=0)与np.vstack((a,b))作用一样,等于np.c_\n",
    "<br>np.stack((a,b),axis=1)与np.hstack((a,b))作用一样 在行上堆叠，也等于np.r_"
   ]
  },
  {
   "cell_type": "code",
   "execution_count": 38,
   "metadata": {},
   "outputs": [
    {
     "data": {
      "text/plain": [
       "array([4.3, 4.3, 4.3, ..., 7.9, 7.9, 7.9])"
      ]
     },
     "execution_count": 38,
     "metadata": {},
     "output_type": "execute_result"
    }
   ],
   "source": [
    "xx.ravel()"
   ]
  },
  {
   "cell_type": "code",
   "execution_count": 39,
   "metadata": {},
   "outputs": [
    {
     "data": {
      "text/plain": [
       "<numpy.flatiter at 0x5c42f83410>"
      ]
     },
     "execution_count": 39,
     "metadata": {},
     "output_type": "execute_result"
    }
   ],
   "source": [
    "xx.flat"
   ]
  },
  {
   "cell_type": "markdown",
   "metadata": {},
   "source": [
    "所以上述对合并后的结果进行预测，以1,2行代码为例进行解释：\n",
    "<br>1. grid_test = np.stack((x1.flat, x2.flat), axis=1)\n",
    "<br>2. grid_hat = clf.predict(grid_test) \n",
    "<br>从上面可以看出来，xx和yy都是一个一行的ndarray\n",
    "<br>可以先看下合并后的结果，使用np.hstack((xx.flat,yy.flat)) 水平加和，第一行和第二行对应元素相互组合"
   ]
  },
  {
   "cell_type": "code",
   "execution_count": 40,
   "metadata": {},
   "outputs": [],
   "source": [
    "grid_test=np.stack((xx.flat,yy.flat),axis=1)"
   ]
  },
  {
   "cell_type": "code",
   "execution_count": 41,
   "metadata": {},
   "outputs": [
    {
     "data": {
      "text/plain": [
       "array([[4.3       , 1.        ],\n",
       "       [4.3       , 1.02964824],\n",
       "       [4.3       , 1.05929648],\n",
       "       ...,\n",
       "       [7.9       , 6.84070352],\n",
       "       [7.9       , 6.87035176],\n",
       "       [7.9       , 6.9       ]])"
      ]
     },
     "execution_count": 41,
     "metadata": {},
     "output_type": "execute_result"
    }
   ],
   "source": [
    "grid_test"
   ]
  },
  {
   "cell_type": "code",
   "execution_count": 42,
   "metadata": {},
   "outputs": [
    {
     "data": {
      "text/plain": [
       "(40000, 2)"
      ]
     },
     "execution_count": 42,
     "metadata": {},
     "output_type": "execute_result"
    }
   ],
   "source": [
    "grid_test.shape"
   ]
  },
  {
   "cell_type": "markdown",
   "metadata": {},
   "source": [
    "+ 所以是4w行，2列的一个ndarray,4w就是刚刚的200\\*200\n",
    "+ 注意，虽然称为xx，yy，但是其本质是两个特征，相当于为了画图，把这些特征进行了扩充，1个特征对应另一个特征的所有值，然后一个特征就是200个点"
   ]
  },
  {
   "cell_type": "markdown",
   "metadata": {},
   "source": [
    "这里只是把上面只使用两个特征的模型抄了一遍，因为之前的clf_extract模型是使用目标的字符串形式，所以要重新生成一次模型"
   ]
  },
  {
   "cell_type": "code",
   "execution_count": 54,
   "metadata": {},
   "outputs": [
    {
     "data": {
      "text/plain": [
       "SVC(C=0.8, cache_size=200, class_weight=None, coef0=0.0,\n",
       "  decision_function_shape='ovr', degree=3, gamma=20, kernel='rbf',\n",
       "  max_iter=-1, probability=False, random_state=None, shrinking=True,\n",
       "  tol=0.001, verbose=False)"
      ]
     },
     "execution_count": 54,
     "metadata": {},
     "output_type": "execute_result"
    }
   ],
   "source": [
    "from sklearn.feature_selection import SelectKBest\n",
    "from sklearn.feature_selection import chi2\n",
    "from sklearn import svm\n",
    "iris = df\n",
    "X= df.iloc[:,0:3]\n",
    "X_new = SelectKBest(chi2, k=2).fit_transform(X, y)\n",
    "clf_right=svm.SVC(C=0.8,kernel='rbf',gamma=20, decision_function_shape='ovr')\n",
    "x_train,x_test,y_train,y_test=train_test_split(x,y,random_state=1)\n",
    "clf_right.fit(x_train,y_train)"
   ]
  },
  {
   "cell_type": "code",
   "execution_count": 55,
   "metadata": {},
   "outputs": [],
   "source": [
    "grid_hat=clf_right.predict(grid_test)"
   ]
  },
  {
   "cell_type": "markdown",
   "metadata": {},
   "source": [
    "用训练好的模型对这些数据，这是所有数据，没有分测试集训练集的，两个特征的数据，进行预测"
   ]
  },
  {
   "cell_type": "code",
   "execution_count": 56,
   "metadata": {},
   "outputs": [
    {
     "data": {
      "text/plain": [
       "array([0, 0, 0, ..., 2, 2, 2], dtype=int64)"
      ]
     },
     "execution_count": 56,
     "metadata": {},
     "output_type": "execute_result"
    }
   ],
   "source": [
    "grid_hat"
   ]
  },
  {
   "cell_type": "code",
   "execution_count": 57,
   "metadata": {},
   "outputs": [
    {
     "data": {
      "text/plain": [
       "(40000,)"
      ]
     },
     "execution_count": 57,
     "metadata": {},
     "output_type": "execute_result"
    }
   ],
   "source": [
    "grid_hat.shape"
   ]
  },
  {
   "cell_type": "code",
   "execution_count": 58,
   "metadata": {},
   "outputs": [],
   "source": [
    "grid_hat = grid_hat.reshape(xx.shape) "
   ]
  },
  {
   "cell_type": "code",
   "execution_count": 59,
   "metadata": {},
   "outputs": [
    {
     "data": {
      "text/plain": [
       "(200, 200)"
      ]
     },
     "execution_count": 59,
     "metadata": {},
     "output_type": "execute_result"
    }
   ],
   "source": [
    "grid_hat.shape"
   ]
  },
  {
   "cell_type": "code",
   "execution_count": 60,
   "metadata": {},
   "outputs": [
    {
     "data": {
      "text/plain": [
       "(200, 200)"
      ]
     },
     "execution_count": 60,
     "metadata": {},
     "output_type": "execute_result"
    }
   ],
   "source": [
    "xx.shape"
   ]
  },
  {
   "cell_type": "markdown",
   "metadata": {},
   "source": [
    "+ grid_hat = grid_hat.reshape(xx.shape) 使用这句话是因为要使用的图的坐标轴是200\\*200大小的，为了是grid_hat对应在图上相应位置\n",
    "+ grid_hat中一共有4w个值，对应刚刚的4w个点，但是两个坐标轴只是用来表现xx和yy这两个特征值，grid_hat（类别预测值）最后是通过类别的颜色区分，显示在图中\n",
    "+ 上面看grid_test是4w行，2列，也就是每个数据根据两个特征值来产生预测值，所以最后得到了一个4w行，1列的grid_hat 预测值\n",
    "+ 原始的xx和yy都是200\\*200的shape，将grid_hat转为一样的shape，使用grid_hat[:1]观察下转换后的内容，只看第一个元素（一个有200个预测值的列表）"
   ]
  },
  {
   "cell_type": "markdown",
   "metadata": {},
   "source": [
    "## 按照[1]画的"
   ]
  },
  {
   "cell_type": "code",
   "execution_count": 61,
   "metadata": {},
   "outputs": [
    {
     "data": {
      "text/plain": [
       "Text(0.5,1,'鸢尾花SVM二特征分类')"
      ]
     },
     "execution_count": 61,
     "metadata": {},
     "output_type": "execute_result"
    },
    {
     "data": {
      "image/png": "[encoded data removed]",
      "text/plain": [
       "<Figure size 432x288 with 1 Axes>"
      ]
     },
     "metadata": {},
     "output_type": "display_data"
    }
   ],
   "source": [
    "from matplotlib.font_manager import FontProperties\n",
    "font_set = FontProperties(fname=r\"c:\\windows\\fonts\\simsun.ttc\", size=12)\n",
    "from matplotlib import colors\n",
    "\n",
    "cm_light = colors.ListedColormap(['#A0FFA0', '#FFA0A0', '#A0A0FF'])# 背景色，三种类别的区域颜色\n",
    "cm_dark = colors.ListedColormap(['g', 'r', 'b']) #前景色，绘制的预测值点的颜色\n",
    "\n",
    "alpha = 0.5\n",
    "plt.pcolormesh(xx, yy,grid_hat,cmap=cm_light)\n",
    "plt.scatter(x.iloc[:, 0], x.iloc[:, 1], c=y, edgecolors='k', s=50, cmap=cm_dark)  # 样本\n",
    "#plt.scatter(x_test.iloc[:, 0], x_test.iloc[:, 1], s=120, facecolors='none', zorder=10)  # 圈中测试集样本，这句有没有没影响。。\n",
    "\n",
    "#设置坐标轴标签\n",
    "plt.xlabel(u'花萼长度',fontproperties=font_set)\n",
    "plt.ylabel(u'花瓣长度',fontproperties=font_set)\n",
    "plt.xlim(x0_min, x0_max)\n",
    "plt.ylim(x1_min, x1_max)\n",
    "plt.title(u'鸢尾花SVM二特征分类', fontsize=15,fontproperties=font_set)\n",
    "#plt.grid()"
   ]
  },
  {
   "cell_type": "markdown",
   "metadata": {},
   "source": [
    "> ** pcolormesh**\n",
    "\n",
    "+ 用法：类似np.pcolor ，是对坐标点着色。 \n",
    "+ np.pcolormesh(X, Y, C, **kwargs) \n",
    "+ 例如有样本点（X[i，j] , Y[i，j]），对样本周围（包括样本所在坐标）的四个坐标点进行着色，C代表着色方案，kwargs里可以设置着色配置。"
   ]
  },
  {
   "cell_type": "markdown",
   "metadata": {},
   "source": [
    "但是上面的方法一旦画背景色就会出错，好像是数据浮点数不好使，换种方法试试"
   ]
  },
  {
   "cell_type": "markdown",
   "metadata": {},
   "source": [
    "## 试试[2]"
   ]
  },
  {
   "cell_type": "code",
   "execution_count": 62,
   "metadata": {},
   "outputs": [],
   "source": [
    "F1=x.iloc[:,0] #第一个特征\n",
    "F2=x.iloc[:,1] #第二个特征\n",
    "F1_min,F1_max = F1.min() - 1, F1.max() + 1\n",
    "F2_min,F2_max = F2.min() - 1, F2.max() + 1\n",
    "FF1, FF2 = np.meshgrid(np.arange(F1_min,F1_max,0.02), np.arange(F2_min,F2_max,0.02))"
   ]
  },
  {
   "cell_type": "code",
   "execution_count": 65,
   "metadata": {},
   "outputs": [],
   "source": [
    "Z = clf_right.predict(np.c_[FF1.ravel(), FF2.ravel()])\n",
    "Z = Z.reshape(FF1.shape)"
   ]
  },
  {
   "cell_type": "code",
   "execution_count": 66,
   "metadata": {},
   "outputs": [
    {
     "data": {
      "text/plain": [
       "(395, 280)"
      ]
     },
     "execution_count": 66,
     "metadata": {},
     "output_type": "execute_result"
    }
   ],
   "source": [
    "Z.shape"
   ]
  },
  {
   "cell_type": "code",
   "execution_count": 67,
   "metadata": {},
   "outputs": [
    {
     "data": {
      "text/plain": [
       "<matplotlib.collections.PathCollection at 0x5c43533eb8>"
      ]
     },
     "execution_count": 67,
     "metadata": {},
     "output_type": "execute_result"
    },
    {
     "data": {
      "image/png": "[encoded data removed]",
      "text/plain": [
       "<Figure size 432x288 with 1 Axes>"
      ]
     },
     "metadata": {},
     "output_type": "display_data"
    }
   ],
   "source": [
    "cm_light = colors.ListedColormap(['#A0FFA0', '#FFA0A0', '#A0A0FF'])# 背景色，三种类别的区域颜色\n",
    "cm_dark = colors.ListedColormap(['g', 'r', 'b']) #前景色，绘制的预测值点的颜色\n",
    "\n",
    "alpha = 0.5\n",
    "plt.pcolormesh(FF1, FF2,Z,cmap=cm_light)\n",
    "plt.scatter(F1, F2, c=y, edgecolors='k', s=50, cmap=cm_dark) "
   ]
  },
  {
   "cell_type": "markdown",
   "metadata": {},
   "source": [
    "惊奇的发现，竟然产生了一样的错误。。。但是直接把官网整个程序放过来运行就没事，难道是数据问题？\n",
    "对的，因为目标列，y是字符类型，不是数值型，博客中一开始就进行了转换，就像决策树中LabelEncoder一样\n",
    "\n",
    "但是如果从头改的话，就不直观了，所以只改画图的部分，让图像可以正常显示就好\n",
    "\n",
    "+ ** 将目标类型从字符串改为数字，就正确了**"
   ]
  }
 ],
 "metadata": {
  "kernelspec": {
   "display_name": "Python 3",
   "language": "python",
   "name": "python3"
  },
  "language_info": {
   "codemirror_mode": {
    "name": "ipython",
    "version": 3
   },
   "file_extension": ".py",
   "mimetype": "text/x-python",
   "name": "python",
   "nbconvert_exporter": "python",
   "pygments_lexer": "ipython3",
   "version": "3.6.5"
  },
  "toc": {
   "base_numbering": 1,
   "nav_menu": {
    "height": "359px",
    "width": "367px"
   },
   "number_sections": true,
   "sideBar": true,
   "skip_h1_title": false,
   "title_cell": "Table of Contents",
   "title_sidebar": "Contents",
   "toc_cell": false,
   "toc_position": {
    "height": "calc(100% - 180px)",
    "left": "10px",
    "top": "150px",
    "width": "273px"
   },
   "toc_section_display": true,
   "toc_window_display": false
  }
 },
 "nbformat": 4,
 "nbformat_minor": 2
}
