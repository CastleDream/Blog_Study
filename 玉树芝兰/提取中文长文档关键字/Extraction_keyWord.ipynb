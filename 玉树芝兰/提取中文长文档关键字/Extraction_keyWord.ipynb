{
 "cells": [
  {
   "cell_type": "markdown",
   "metadata": {},
   "source": [
    "# 数据选取"
   ]
  },
  {
   "cell_type": "markdown",
   "metadata": {},
   "source": [
    "以前说过多个文档（多个评论/文章）提取主题，那是属于聚类的方法\n",
    "\n",
    "这次是针对一篇文章提取关键词（类似写摘要（总结）的感觉）\n",
    "\n",
    "选取的文章是《网约车司机二三事》https://www.jianshu.com/p/6941a40df96c"
   ]
  },
  {
   "cell_type": "markdown",
   "metadata": {},
   "source": [
    "注意：如果是直接从网上复制的文本，在保存和使用的很可能出现错误\n",
    "\n",
    "这是因为不同于英语，汉字有编码问题。不同系统都有不同的默认编码，不同版本的Python接受的编码也不同。你从网上下载的文本文件，也可能与你系统的编码不统一。"
   ]
  },
  {
   "cell_type": "markdown",
   "metadata": {},
   "source": [
    "![avatar](https://upload-images.jianshu.io/upload_images/64542-7510c535903f92d0.png?imageMogr2/auto-orient/strip%7CimageView2/2/w/700)"
   ]
  },
  {
   "cell_type": "markdown",
   "metadata": {},
   "source": [
    "所以，避免掉坑的正确使用中文文本数据方式，是在Jupter Notebook里，新建一个文本文件，把**文本以任意一种能正常显示的编辑器打开**,复制到这里面,然后拷贝全部内容，粘贴即可"
   ]
  },
  {
   "cell_type": "markdown",
   "metadata": {},
   "source": [
    "# 提取"
   ]
  },
  {
   "cell_type": "markdown",
   "metadata": {},
   "source": [
    "## 分词"
   ]
  },
  {
   "cell_type": "code",
   "execution_count": 1,
   "metadata": {},
   "outputs": [],
   "source": [
    "from jieba.analyse import *"
   ]
  },
  {
   "cell_type": "code",
   "execution_count": 3,
   "metadata": {},
   "outputs": [],
   "source": [
    "with open('sample.txt',encoding='utf8') as f:\n",
    "    data=f.read()"
   ]
  },
  {
   "cell_type": "code",
   "execution_count": 5,
   "metadata": {},
   "outputs": [
    {
     "data": {
      "text/plain": [
       "'网约车司机二三事\\n\\n'"
      ]
     },
     "execution_count": 5,
     "metadata": {},
     "output_type": "execute_result"
    }
   ],
   "source": [
    "data[:10]"
   ]
  },
  {
   "cell_type": "markdown",
   "metadata": {},
   "source": [
    "数据读取正确"
   ]
  },
  {
   "cell_type": "markdown",
   "metadata": {},
   "source": [
    "## 使用TF-IDF提取关键字"
   ]
  },
  {
   "cell_type": "markdown",
   "metadata": {},
   "source": [
    "使用TF-idf方式提取关键词和权重，并且依次显示出来。如果你不做特殊指定的话，默认显示数量为20个关键词。"
   ]
  },
  {
   "cell_type": "code",
   "execution_count": 6,
   "metadata": {},
   "outputs": [
    {
     "name": "stderr",
     "output_type": "stream",
     "text": [
      "Building prefix dict from the default dictionary ...\n",
      "Loading model from cache C:\\Users\\shanshan\\AppData\\Local\\Temp\\jieba.cache\n",
      "Loading model cost 1.081 seconds.\n",
      "Prefix dict has been built succesfully.\n"
     ]
    },
    {
     "name": "stdout",
     "output_type": "stream",
     "text": [
      "优步 0.28087559478179147\n",
      "司机 0.11995194759665198\n",
      "乘客 0.10548612948502202\n",
      "师傅 0.09588881078154185\n",
      "张师傅 0.08381623349632894\n",
      "目的地 0.07536185128863436\n",
      "网约车 0.07021889869544787\n",
      "姐姐 0.06834121277656388\n",
      "自己 0.06725331106610866\n",
      "上车 0.06232769163083701\n",
      "活儿 0.06001343542136564\n",
      "天津 0.05691580567920705\n",
      "10 0.0526641740215859\n",
      "开优步 0.0526641740215859\n",
      "事儿 0.04855445676703377\n",
      "李师傅 0.04850355019427313\n",
      "天津人 0.04826536860264317\n",
      "绕路 0.047824472309691626\n",
      "出租车 0.04484802607483113\n",
      "时候 0.044084029859148305\n"
     ]
    }
   ],
   "source": [
    "for keyword,weight in extract_tags(data,withWeight=True):\n",
    "    print(\"%s %s\"%(keyword,weight))"
   ]
  },
  {
   "cell_type": "markdown",
   "metadata": {},
   "source": [
    "其实就是调用jieba分词里的分析工具，进行了TF—IDF的提取分析"
   ]
  },
  {
   "cell_type": "markdown",
   "metadata": {},
   "source": [
    "观察下类别，其实关键词提取还是比较靠谱的。当然，其中也混入了个数字10，好在无伤大雅。"
   ]
  },
  {
   "cell_type": "markdown",
   "metadata": {},
   "source": [
    "你需要修改关键词数量，就需要指定topK参数"
   ]
  },
  {
   "cell_type": "code",
   "execution_count": 8,
   "metadata": {},
   "outputs": [
    {
     "name": "stdout",
     "output_type": "stream",
     "text": [
      "优步 0.28087559478179147\n",
      "司机 0.11995194759665198\n",
      "乘客 0.10548612948502202\n",
      "师傅 0.09588881078154185\n",
      "张师傅 0.08381623349632894\n",
      "目的地 0.07536185128863436\n",
      "网约车 0.07021889869544787\n",
      "姐姐 0.06834121277656388\n",
      "自己 0.06725331106610866\n",
      "上车 0.06232769163083701\n"
     ]
    }
   ],
   "source": [
    "for keyword,weight in extract_tags(data,topK=10,withWeight=True):\n",
    "    print(\"%s %s\"%(keyword,weight))"
   ]
  },
  {
   "cell_type": "markdown",
   "metadata": {},
   "source": [
    "## TextRank提取关键字"
   ]
  },
  {
   "cell_type": "code",
   "execution_count": 10,
   "metadata": {},
   "outputs": [
    {
     "name": "stdout",
     "output_type": "stream",
     "text": [
      "优步 1.0\n",
      "司机 0.7494059966484155\n",
      "乘客 0.5942845064572533\n",
      "姐姐 0.48545874199064\n",
      "天津 0.4511134903660482\n",
      "目的地 0.4294100274662929\n",
      "时候 0.41808386330346065\n",
      "作者 0.41690383815327287\n",
      "没有 0.3577645150520248\n",
      "活儿 0.2913715664937725\n",
      "上车 0.2770100138843037\n",
      "绕路 0.27460859208431115\n",
      "转载 0.2719329031862934\n",
      "出来 0.24258074539320906\n",
      "出租 0.2386398899911447\n",
      "事儿 0.22870032271337745\n",
      "单数 0.21345068036612438\n",
      "出租车 0.2120496654807952\n",
      "拉门 0.205816713636715\n",
      "跟着 0.205134709860173\n"
     ]
    }
   ],
   "source": [
    "for keyword,weight in textrank(data,topK=20,withWeight=True):\n",
    "    print(\"%s %s\"%(keyword,weight))"
   ]
  },
  {
   "cell_type": "markdown",
   "metadata": {},
   "source": [
    "## 分析"
   ]
  },
  {
   "cell_type": "markdown",
   "metadata": {},
   "source": [
    "很明显可以发现，TF-IDF的提取结果和TextRank的提取结果是不一样的，起码在TextRank中，没有数字10这个关键字\n",
    "\n",
    "这是不是意味着TextRank方法一定优于TF-IDF呢？\n",
    "\n",
    "不一定"
   ]
  },
  {
   "cell_type": "markdown",
   "metadata": {},
   "source": [
    "### 原理"
   ]
  },
  {
   "cell_type": "markdown",
   "metadata": {},
   "source": [
    "#### TF-IDF"
   ]
  },
  {
   "cell_type": "markdown",
   "metadata": {},
   "source": [
    "+ 全称是：  Term Frequency - inverse document frequency\n",
    "+ 中间有个连字符，左右两侧各是一部分，共同结合起来，决定某个词的重要程度。\n",
    "+ 第一部分是词频（Term Frequency），一般认为某个词语出现的越多，可能会越重要，但是这只是可能，不是绝对。所以需要第二部分IDF的配合\n",
    "+ 逆文档频率（inverse document frequency）首先计算某个词在各文档中出现的频率。假设一共有10篇文档，其中某个词A在其中10篇文章中都出先过，另一个词B只在其中3篇文中出现。请问哪一个词更关键？\n",
    "  答案是B更关键。A可能就是虚词，或者全部文档共享的主题词。而B只在3篇文档中出现，因此很有可能是个关键词。\n",
    "\n",
    "+ 逆文档频率就是把这种文档频率取倒数。这样第一部分和第二部分都是越高越好。二者都高，就很有可能是关键词了。"
   ]
  },
  {
   "cell_type": "markdown",
   "metadata": {},
   "source": [
    "#### TextRank"
   ]
  },
  {
   "cell_type": "markdown",
   "metadata": {},
   "source": [
    "相对于TF-idf，TextRank要显得更加复杂一些。它不是简单做加减乘除运算，而是基于图的计算。"
   ]
  },
  {
   "cell_type": "markdown",
   "metadata": {},
   "source": [
    "![avatar](https://upload-images.jianshu.io/upload_images/64542-0642fb0d702325e3.png?imageMogr2/auto-orient/strip%7CimageView2/2/w/700)"
   ]
  },
  {
   "cell_type": "markdown",
   "metadata": {},
   "source": [
    "TextRank首先会提取词汇，形成节点；然后依据词汇的关联，建立链接。\n",
    "\n",
    "依照连接节点的多少，给每个节点赋予一个初始的权重数值。\n",
    "\n",
    "然后就开始迭代。\n",
    "\n",
    "根据某个词所连接所有词汇的权重，重新计算该词汇的权重，然后把重新计算的权重传递下去。直到这种变化达到均衡态，权重数值不再发生改变。这与Google的网页排名算法PageRank，在思想上是一致的。\n",
    "\n",
    "根据最后的权重值，取其中排列靠前的词汇，作为关键词提取结果。"
   ]
  },
  {
   "cell_type": "markdown",
   "metadata": {},
   "source": [
    "https://blog.csdn.net/u013041398/article/details/52473994\n",
    "###  使用TextRank提取关键字\n",
    "关键词抽取的任务就是从一段给定的文本中自动抽取出若干有意义的词语或词组。将原文本拆分为句子，在每个句子中过滤掉停用词（可选），并只保留指定词性的单词（可选）。由此可以得到句子的集合和单词的集合。TextRank算法是利用局部词汇之间关系（共现窗口）对后续关键词进行排序，直接从文本本身抽取。其主要步骤如下：\n",
    "\n",
    "1、把给定的文本T按照完整句子进行分割，\n",
    "\n",
    "2、对于每个句子，进行分词和词性标注处理，并过滤掉停用词，只保留指定词性的单词，如名词、动词、形容词\n",
    "\n",
    "3、构建候选关键词图G = (V,E)，其中V为节点集，由（2）生成的候选关键词组成，然后采用共现关系（co-occurrence）构造任两点之间的边，两个节点之间存在边仅当它们对应的词汇在长度为K的窗口中共现，K表示窗口大小，即最多共现K个单词。\n",
    "\n",
    "4、根据上面公式，迭代传播各节点的权重，直至收敛。\n",
    "\n",
    "5、对节点权重进行倒序排序，从而得到最重要的T个单词，作为候选关键词。\n",
    "\n",
    "6、由5得到最重要的T个单词，在原始文本中进行标记，若形成相邻词组，则组合成多词关键词。\n",
    "\n",
    "### 使用TextRank提取关键短语\n",
    "参照“使用TextRank提取关键词”提取出若干关键词。若原文本中存在若干个关键词相邻的情况，那么这些关键词可以构成一个关键短语。\n",
    "\n",
    "例如，在一篇介绍“支持向量机”的文章中，可以找到三个关键词 支持、向量、机，通过关键短语提取，可以得到\n",
    "\n",
    "支持向量机."
   ]
  },
  {
   "cell_type": "code",
   "execution_count": null,
   "metadata": {},
   "outputs": [],
   "source": []
  }
 ],
 "metadata": {
  "kernelspec": {
   "display_name": "Python 3",
   "language": "python",
   "name": "python3"
  },
  "language_info": {
   "codemirror_mode": {
    "name": "ipython",
    "version": 3
   },
   "file_extension": ".py",
   "mimetype": "text/x-python",
   "name": "python",
   "nbconvert_exporter": "python",
   "pygments_lexer": "ipython3",
   "version": "3.6.5"
  },
  "toc": {
   "base_numbering": 1,
   "nav_menu": {},
   "number_sections": true,
   "sideBar": true,
   "skip_h1_title": false,
   "title_cell": "Table of Contents",
   "title_sidebar": "Contents",
   "toc_cell": false,
   "toc_position": {},
   "toc_section_display": true,
   "toc_window_display": false
  }
 },
 "nbformat": 4,
 "nbformat_minor": 2
}
